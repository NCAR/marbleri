{
 "cells": [
  {
   "cell_type": "code",
   "execution_count": 93,
   "metadata": {},
   "outputs": [],
   "source": [
    "import os\n",
    "import xarray as xr\n",
    "import numpy as np\n",
    "import matplotlib.pyplot as plt\n",
    "from marbleri.models import BaseConvNet\n",
    "from marbleri.process import get_hwrf_filenames\n",
    "from marbleri.nwp import HWRFStep, BestTrackNetCDF\n",
    "from sklearn.metrics import mean_absolute_error, roc_auc_score\n",
    "from sklearn.ensemble import RandomForestRegressor, RandomForestClassifier\n",
    "from hagelslag.evaluation.ProbabilityMetrics import DistributedROC, DistributedReliability\n",
    "from hagelslag.evaluation.MetricPlotter import attributes_diagram\n",
    "from glob import glob\n",
    "from os.path import join, exists\n",
    "import pandas as pd\n",
    "from matplotlib.colors import LogNorm\n",
    "import tensorflow as tf\n",
    "import tensorflow.keras.backend as K\n",
    "from tensorflow.keras.models import save_model\n",
    "from marbleri.training import partition_storm_examples\n",
    "from dask.distributed import LocalCluster, Client\n",
    "from tqdm import tqdm, trange\n",
    "%matplotlib inline\n"
   ]
  },
  {
   "cell_type": "code",
   "execution_count": 4,
   "metadata": {},
   "outputs": [
    {
     "name": "stdout",
     "output_type": "stream",
     "text": [
      "\u001B[0m\u001B[01;34mprocessed_data\u001B[0m/\n"
     ]
    }
   ],
   "source": [
    "!ls /glade/p/ral/allral/dgagne/hfip"
   ]
  },
  {
   "cell_type": "code",
   "execution_count": 2,
   "metadata": {},
   "outputs": [
    {
     "name": "stdout",
     "output_type": "stream",
     "text": [
      "2.0.0\n"
     ]
    }
   ],
   "source": [
    "print(tf.__version__)"
   ]
  },
  {
   "cell_type": "code",
   "execution_count": 2,
   "metadata": {},
   "outputs": [
    {
     "name": "stdout",
     "output_type": "stream",
     "text": [
      "[PhysicalDevice(name='/physical_device:GPU:0', device_type='GPU')]\n"
     ]
    }
   ],
   "source": [
    "try:\n",
    "    gpus = tf.config.experimental.list_physical_devices('GPU')\n",
    "    for gpu in gpus:\n",
    "        tf.config.experimental.set_memory_growth(gpu, True)\n",
    "    print(tf.config.experimental.list_physical_devices('GPU'))\n",
    "except AttributeError:\n",
    "    tf_config = tf.ConfigProto()\n",
    "    tf_config.gpu_options.allow_growth = True\n",
    "    K.set_session(tf.Session(config=tf_config))\n"
   ]
  },
  {
   "cell_type": "code",
   "execution_count": 3,
   "metadata": {},
   "outputs": [],
   "source": [
    "class BestTrackNetCDF(object):\n",
    "    \"\"\"\n",
    "    Reads and processes the Best Track NetCDF files.\n",
    "\n",
    "    \"\"\"\n",
    "    def __init__(self,\n",
    "                 file_path=\"/glade/p/ral/nsap/rozoff/hfip/besttrack_predictors/\",\n",
    "                 file_start=\"diag_2015_2017\"):\n",
    "        best_track_files = sorted(glob(join(file_path, file_start + \"*.nc\")))\n",
    "        if len(best_track_files) < 2:\n",
    "            raise FileNotFoundError(\"Matching best track files not found in \" + file_path + \"with start \" + file_start)\n",
    "        self.atl_filename = best_track_files[0]\n",
    "        self.epo_filename = best_track_files[1]\n",
    "        self.file_path = file_path\n",
    "        self.bt_ds = dict()\n",
    "        self.basins = [\"l\", \"e\"]\n",
    "        self.bt_ds[\"l\"] = xr.open_dataset(join(self.file_path, self.atl_filename))\n",
    "        self.bt_ds[\"e\"] = xr.open_dataset(join(self.file_path, self.epo_filename))\n",
    "        self.bt_runs = dict()\n",
    "        self.run_columns = [\"DATE\", \"STNAM\", \"STNUM\", \"BASIN\"]\n",
    "        # Some of the variables have (time, nrun) as the dimensions, which causes problems when trying to use\n",
    "        # the xarray.to_dataframe() function. Changing the dimension from nrun to run fixes the problem.\n",
    "        for basin in self.basins:\n",
    "            for variable in self.bt_ds[basin].variables.keys():\n",
    "                if self.bt_ds[basin][variable].dims == (\"time\", \"nrun\"):\n",
    "                    self.bt_ds[basin][variable] = xr.DataArray(self.bt_ds[basin][variable], dims=(\"time\", \"run\"))\n",
    "        for basin in self.bt_ds.keys():\n",
    "            self.bt_runs[basin] = self.bt_ds[basin][self.run_columns].to_dataframe()\n",
    "            for col in self.bt_runs[basin].columns:\n",
    "                self.bt_runs[basin][col] = self.bt_runs[basin][col].str.decode(\"utf-8\").str.strip()\n",
    "\n",
    "    def get_storm_variables(self, variables, run_date, storm_name, storm_number, basin, forecast_hour):\n",
    "        b_runs = self.bt_runs[basin]\n",
    "        run_index = np.where((b_runs[\"DATE\"] == run_date) &\n",
    "                             (b_runs[\"STNAM\"] == storm_name) &\n",
    "                             (b_runs[\"STNUM\"] == storm_number))[0]\n",
    "        fh_index = np.where(self.bt_ds[basin][\"TIME\"] == forecast_hour)[0]\n",
    "        \n",
    "        bt_values = np.zeros((1, len(variables)))\n",
    "        if len(run_index) > 0 and len(fh_index) > 0: \n",
    "            for v, variable in enumerate(variables):\n",
    "                bt_values[0, v] = self.bt_ds[basin][variable][fh_index[0], run_index[0]].values\n",
    "        bt_values[np.isnan(bt_values)] = 0\n",
    "        return bt_values\n",
    "\n",
    "    def calc_time_differences(self, variables, time_difference_hours):\n",
    "        step_diff = int(time_difference_hours // 3)\n",
    "        for basin in self.basins:\n",
    "            for variable in variables:\n",
    "                if variable not in list(self.bt_ds[basin].variables.keys()):\n",
    "                    raise IndexError(variable + \" not found in best track data\")\n",
    "                diff_var = np.ones(self.bt_ds[basin][variable].shape, dtype=np.float32) * np.nan\n",
    "                diff_var[:-step_diff] = self.bt_ds[basin][variable][step_diff:].values - \\\n",
    "                                       self.bt_ds[basin][variable][:-step_diff].values\n",
    "                diff_var_name = variable + \"_dt_{0:02d}\".format(time_difference_hours)\n",
    "                self.bt_ds[basin][diff_var_name] = xr.DataArray(diff_var, dims=(\"time\", \"run\"), name=diff_var_name)\n",
    "        return\n",
    "\n",
    "    def to_dataframe(self, variables, dropna=True):\n",
    "        basin_dfs = []\n",
    "        for basin in self.bt_ds.keys():\n",
    "            print(basin)\n",
    "            basin_dfs.append(pd.merge(self.bt_runs[basin], self.bt_ds[basin][variables].to_dataframe(), how=\"right\",\n",
    "                                      left_index=True, right_index=True))\n",
    "            print(basin_dfs[-1])\n",
    "            \n",
    "            if dropna:\n",
    "                basin_dfs[-1] = basin_dfs[-1].dropna()\n",
    "        return pd.concat(basin_dfs, ignore_index=True)\n",
    "\n",
    "    def close(self):\n",
    "        for basin in self.bt_ds.keys():\n",
    "            self.bt_ds[basin].close()\n",
    "            del self.bt_ds[basin]"
   ]
  },
  {
   "cell_type": "markdown",
   "metadata": {},
   "source": [
    "## Updated ML procedure\n",
    "Training data: 2015-2017 HWRF\n",
    "\n",
    "Testing data: 2018 HWRF\n",
    "\n",
    "Inputs\n",
    "* beginning and end of intensification period in HWRF\n",
    "* only beginning\n",
    "* only end\n",
    "* differences\n",
    "\n",
    "Outputs\n",
    "* HWRF $\\frac{dV_{max}}{dt}$ t=24 h\n",
    "* Best track $\\frac{dV_{max}}{dt}$ t=24 h\n",
    "\n",
    "Models\n",
    "* Base Convolutional Neural Network\n",
    "* ResNet\n",
    "* VAE"
   ]
  },
  {
   "cell_type": "code",
   "execution_count": 4,
   "metadata": {},
   "outputs": [],
   "source": [
    "bt_nc = BestTrackNetCDF(file_path=\"/glade/p/ral/allral/dgagne/hfip/besttrack_dv/\")\n",
    "bt_nc_2018 = BestTrackNetCDF(file_path=\"/glade/p/ral/allral/dgagne/hfip/besttrack_dv/\", file_start=\"diag_2018\")"
   ]
  },
  {
   "cell_type": "code",
   "execution_count": 5,
   "metadata": {},
   "outputs": [],
   "source": [
    "vmax_vars = [\"VMAX\", \"VMAXMPI\", \"vmax_nhc\", \"vmax_dshp\", \"vmax_ivcn\", \"vmax_lgem\", \"vmax_hcca\", \"vmax_bt_new\"]\n",
    "input_vars = [\"RMW\", \"VMAX\", \"MIN_SLP\", \"SHR_MAG\", \"SST\", \"LAND\", \"TPW\", \"TANG850\", \"VORT850\", \"DVRG200\", \"STM_SPD\",\n",
    "             \"RHLO\", \"RHMD\", \"RHHI\", \"INST1\", \"INST2\"]\n",
    "bt_nc.calc_time_differences(input_vars + vmax_vars, 24)\n",
    "vmax_vars_2018 = [\"VMAX\", \"VMAXMPI\", \"vmax_bt_new\"]\n",
    "bt_nc_2018.calc_time_differences(input_vars + vmax_vars_2018, 24)\n",
    "input_vars_dt = [v + \"_dt_24\" for v in input_vars] \n",
    "meta_vars = [\"STNAM\", \"STNUM\", \"BASIN\", \"DATE\", \"TIME\"]\n",
    "dt_df = bt_nc.bt_ds[\"l\"][meta_vars + input_vars_dt + [\"vmax_bt_new_dt_24\", \"vmax_nhc_dt_24\", \"VMAX_dt_24\"]].to_dataframe().dropna()\n",
    "dt_df_2018 = bt_nc_2018.bt_ds[\"l\"][meta_vars + input_vars_dt + [\"vmax_bt_new_dt_24\", \"VMAX_dt_24\"]].to_dataframe().dropna()\n",
    "for meta_var in meta_vars:\n",
    "    if meta_var != \"TIME\":\n",
    "        dt_df[meta_var] = dt_df[meta_var].str.decode(\"utf-8\").str.strip()\n",
    "        dt_df_2018[meta_var] = dt_df_2018[meta_var].str.decode(\"utf-8\").str.strip()"
   ]
  },
  {
   "cell_type": "code",
   "execution_count": null,
   "metadata": {},
   "outputs": [],
   "source": []
  },
  {
   "cell_type": "code",
   "execution_count": 107,
   "metadata": {},
   "outputs": [
    {
     "data": {
      "text/html": [
       "<div>\n",
       "<style scoped>\n",
       "    .dataframe tbody tr th:only-of-type {\n",
       "        vertical-align: middle;\n",
       "    }\n",
       "\n",
       "    .dataframe tbody tr th {\n",
       "        vertical-align: top;\n",
       "    }\n",
       "\n",
       "    .dataframe thead th {\n",
       "        text-align: right;\n",
       "    }\n",
       "</style>\n",
       "<table border=\"1\" class=\"dataframe\">\n",
       "  <thead>\n",
       "    <tr style=\"text-align: right;\">\n",
       "      <th></th>\n",
       "      <th></th>\n",
       "      <th>STNAM</th>\n",
       "      <th>STNUM</th>\n",
       "      <th>BASIN</th>\n",
       "      <th>DATE</th>\n",
       "      <th>TIME</th>\n",
       "      <th>RMW_dt_24</th>\n",
       "      <th>VMAX_dt_24</th>\n",
       "      <th>MIN_SLP_dt_24</th>\n",
       "      <th>SHR_MAG_dt_24</th>\n",
       "      <th>SST_dt_24</th>\n",
       "      <th>...</th>\n",
       "      <th>VORT850_dt_24</th>\n",
       "      <th>DVRG200_dt_24</th>\n",
       "      <th>STM_SPD_dt_24</th>\n",
       "      <th>RHLO_dt_24</th>\n",
       "      <th>RHMD_dt_24</th>\n",
       "      <th>RHHI_dt_24</th>\n",
       "      <th>INST1_dt_24</th>\n",
       "      <th>INST2_dt_24</th>\n",
       "      <th>vmax_bt_new_dt_24</th>\n",
       "      <th>vmax_nhc_dt_24</th>\n",
       "    </tr>\n",
       "    <tr>\n",
       "      <th>run</th>\n",
       "      <th>time</th>\n",
       "      <th></th>\n",
       "      <th></th>\n",
       "      <th></th>\n",
       "      <th></th>\n",
       "      <th></th>\n",
       "      <th></th>\n",
       "      <th></th>\n",
       "      <th></th>\n",
       "      <th></th>\n",
       "      <th></th>\n",
       "      <th></th>\n",
       "      <th></th>\n",
       "      <th></th>\n",
       "      <th></th>\n",
       "      <th></th>\n",
       "      <th></th>\n",
       "      <th></th>\n",
       "      <th></th>\n",
       "      <th></th>\n",
       "      <th></th>\n",
       "      <th></th>\n",
       "    </tr>\n",
       "  </thead>\n",
       "  <tbody>\n",
       "    <tr>\n",
       "      <th rowspan=\"5\" valign=\"top\">4</th>\n",
       "      <th>0</th>\n",
       "      <td>ana</td>\n",
       "      <td>01</td>\n",
       "      <td>l</td>\n",
       "      <td>2015050800</td>\n",
       "      <td>0</td>\n",
       "      <td>-72.619995</td>\n",
       "      <td>3.0</td>\n",
       "      <td>-3.0</td>\n",
       "      <td>3.080000</td>\n",
       "      <td>-1.759995</td>\n",
       "      <td>...</td>\n",
       "      <td>-26.620001</td>\n",
       "      <td>10.300001</td>\n",
       "      <td>1.000004</td>\n",
       "      <td>19.809998</td>\n",
       "      <td>-25.670013</td>\n",
       "      <td>-28.609985</td>\n",
       "      <td>1.33</td>\n",
       "      <td>0.77</td>\n",
       "      <td>10.0</td>\n",
       "      <td>5.000000</td>\n",
       "    </tr>\n",
       "    <tr>\n",
       "      <th>1</th>\n",
       "      <td>ana</td>\n",
       "      <td>01</td>\n",
       "      <td>l</td>\n",
       "      <td>2015050800</td>\n",
       "      <td>3</td>\n",
       "      <td>-75.500000</td>\n",
       "      <td>9.0</td>\n",
       "      <td>-2.0</td>\n",
       "      <td>5.730000</td>\n",
       "      <td>0.130005</td>\n",
       "      <td>...</td>\n",
       "      <td>-22.789999</td>\n",
       "      <td>-9.160000</td>\n",
       "      <td>0.819740</td>\n",
       "      <td>27.190002</td>\n",
       "      <td>-0.320007</td>\n",
       "      <td>-5.619995</td>\n",
       "      <td>1.69</td>\n",
       "      <td>0.96</td>\n",
       "      <td>10.0</td>\n",
       "      <td>3.750000</td>\n",
       "    </tr>\n",
       "    <tr>\n",
       "      <th>2</th>\n",
       "      <td>ana</td>\n",
       "      <td>01</td>\n",
       "      <td>l</td>\n",
       "      <td>2015050800</td>\n",
       "      <td>6</td>\n",
       "      <td>-58.119995</td>\n",
       "      <td>16.0</td>\n",
       "      <td>-3.0</td>\n",
       "      <td>5.039999</td>\n",
       "      <td>-0.790009</td>\n",
       "      <td>...</td>\n",
       "      <td>-13.179999</td>\n",
       "      <td>-16.290001</td>\n",
       "      <td>1.530938</td>\n",
       "      <td>41.640015</td>\n",
       "      <td>11.459991</td>\n",
       "      <td>10.980011</td>\n",
       "      <td>2.55</td>\n",
       "      <td>1.30</td>\n",
       "      <td>10.0</td>\n",
       "      <td>0.833332</td>\n",
       "    </tr>\n",
       "    <tr>\n",
       "      <th>3</th>\n",
       "      <td>ana</td>\n",
       "      <td>01</td>\n",
       "      <td>l</td>\n",
       "      <td>2015050800</td>\n",
       "      <td>9</td>\n",
       "      <td>-57.250000</td>\n",
       "      <td>3.0</td>\n",
       "      <td>-1.0</td>\n",
       "      <td>6.920000</td>\n",
       "      <td>0.910004</td>\n",
       "      <td>...</td>\n",
       "      <td>-14.260000</td>\n",
       "      <td>-16.300001</td>\n",
       "      <td>0.080867</td>\n",
       "      <td>41.300049</td>\n",
       "      <td>5.340027</td>\n",
       "      <td>12.260010</td>\n",
       "      <td>3.29</td>\n",
       "      <td>1.19</td>\n",
       "      <td>10.0</td>\n",
       "      <td>-2.083332</td>\n",
       "    </tr>\n",
       "    <tr>\n",
       "      <th>4</th>\n",
       "      <td>ana</td>\n",
       "      <td>01</td>\n",
       "      <td>l</td>\n",
       "      <td>2015050800</td>\n",
       "      <td>12</td>\n",
       "      <td>-34.879997</td>\n",
       "      <td>8.0</td>\n",
       "      <td>-3.0</td>\n",
       "      <td>11.020000</td>\n",
       "      <td>3.450012</td>\n",
       "      <td>...</td>\n",
       "      <td>-28.450001</td>\n",
       "      <td>12.250000</td>\n",
       "      <td>1.435105</td>\n",
       "      <td>44.960022</td>\n",
       "      <td>-6.589996</td>\n",
       "      <td>22.339996</td>\n",
       "      <td>3.47</td>\n",
       "      <td>1.36</td>\n",
       "      <td>10.0</td>\n",
       "      <td>-5.000000</td>\n",
       "    </tr>\n",
       "    <tr>\n",
       "      <th>...</th>\n",
       "      <th>...</th>\n",
       "      <td>...</td>\n",
       "      <td>...</td>\n",
       "      <td>...</td>\n",
       "      <td>...</td>\n",
       "      <td>...</td>\n",
       "      <td>...</td>\n",
       "      <td>...</td>\n",
       "      <td>...</td>\n",
       "      <td>...</td>\n",
       "      <td>...</td>\n",
       "      <td>...</td>\n",
       "      <td>...</td>\n",
       "      <td>...</td>\n",
       "      <td>...</td>\n",
       "      <td>...</td>\n",
       "      <td>...</td>\n",
       "      <td>...</td>\n",
       "      <td>...</td>\n",
       "      <td>...</td>\n",
       "      <td>...</td>\n",
       "      <td>...</td>\n",
       "    </tr>\n",
       "    <tr>\n",
       "      <th>1139</th>\n",
       "      <th>4</th>\n",
       "      <td>rina</td>\n",
       "      <td>19</td>\n",
       "      <td>l</td>\n",
       "      <td>2017110800</td>\n",
       "      <td>12</td>\n",
       "      <td>25.309990</td>\n",
       "      <td>3.0</td>\n",
       "      <td>-1.0</td>\n",
       "      <td>13.629999</td>\n",
       "      <td>-121.540001</td>\n",
       "      <td>...</td>\n",
       "      <td>3.240002</td>\n",
       "      <td>102.959999</td>\n",
       "      <td>12.196426</td>\n",
       "      <td>-55.909973</td>\n",
       "      <td>49.940002</td>\n",
       "      <td>121.679993</td>\n",
       "      <td>-0.69</td>\n",
       "      <td>-0.29</td>\n",
       "      <td>-5.0</td>\n",
       "      <td>0.000000</td>\n",
       "    </tr>\n",
       "    <tr>\n",
       "      <th rowspan=\"3\" valign=\"top\">1140</th>\n",
       "      <th>0</th>\n",
       "      <td>rina</td>\n",
       "      <td>19</td>\n",
       "      <td>l</td>\n",
       "      <td>2017110806</td>\n",
       "      <td>0</td>\n",
       "      <td>10.750000</td>\n",
       "      <td>-5.0</td>\n",
       "      <td>1.0</td>\n",
       "      <td>5.440001</td>\n",
       "      <td>-108.220001</td>\n",
       "      <td>...</td>\n",
       "      <td>-0.259998</td>\n",
       "      <td>73.349998</td>\n",
       "      <td>9.032827</td>\n",
       "      <td>1.339966</td>\n",
       "      <td>48.950012</td>\n",
       "      <td>59.200012</td>\n",
       "      <td>0.11</td>\n",
       "      <td>-0.13</td>\n",
       "      <td>-10.0</td>\n",
       "      <td>0.000000</td>\n",
       "    </tr>\n",
       "    <tr>\n",
       "      <th>1</th>\n",
       "      <td>rina</td>\n",
       "      <td>19</td>\n",
       "      <td>l</td>\n",
       "      <td>2017110806</td>\n",
       "      <td>3</td>\n",
       "      <td>43.499992</td>\n",
       "      <td>-2.0</td>\n",
       "      <td>0.0</td>\n",
       "      <td>10.200001</td>\n",
       "      <td>-122.919998</td>\n",
       "      <td>...</td>\n",
       "      <td>-18.060001</td>\n",
       "      <td>82.649994</td>\n",
       "      <td>12.952366</td>\n",
       "      <td>-10.030029</td>\n",
       "      <td>39.520020</td>\n",
       "      <td>89.179993</td>\n",
       "      <td>-1.26</td>\n",
       "      <td>-0.60</td>\n",
       "      <td>-7.5</td>\n",
       "      <td>0.000000</td>\n",
       "    </tr>\n",
       "    <tr>\n",
       "      <th>2</th>\n",
       "      <td>rina</td>\n",
       "      <td>19</td>\n",
       "      <td>l</td>\n",
       "      <td>2017110806</td>\n",
       "      <td>6</td>\n",
       "      <td>42.809998</td>\n",
       "      <td>1.0</td>\n",
       "      <td>-1.0</td>\n",
       "      <td>17.450001</td>\n",
       "      <td>-130.940002</td>\n",
       "      <td>...</td>\n",
       "      <td>-23.410000</td>\n",
       "      <td>98.099998</td>\n",
       "      <td>16.912863</td>\n",
       "      <td>-39.230042</td>\n",
       "      <td>10.080017</td>\n",
       "      <td>106.739990</td>\n",
       "      <td>-1.45</td>\n",
       "      <td>-0.73</td>\n",
       "      <td>-5.0</td>\n",
       "      <td>0.000000</td>\n",
       "    </tr>\n",
       "    <tr>\n",
       "      <th>1141</th>\n",
       "      <th>0</th>\n",
       "      <td>rina</td>\n",
       "      <td>19</td>\n",
       "      <td>l</td>\n",
       "      <td>2017110812</td>\n",
       "      <td>0</td>\n",
       "      <td>21.439995</td>\n",
       "      <td>-10.0</td>\n",
       "      <td>5.0</td>\n",
       "      <td>19.280003</td>\n",
       "      <td>-134.050003</td>\n",
       "      <td>...</td>\n",
       "      <td>-25.939999</td>\n",
       "      <td>109.010002</td>\n",
       "      <td>19.409622</td>\n",
       "      <td>-92.769958</td>\n",
       "      <td>-22.440002</td>\n",
       "      <td>119.130005</td>\n",
       "      <td>-1.49</td>\n",
       "      <td>-1.04</td>\n",
       "      <td>-5.0</td>\n",
       "      <td>0.000000</td>\n",
       "    </tr>\n",
       "  </tbody>\n",
       "</table>\n",
       "<p>21447 rows × 23 columns</p>\n",
       "</div>"
      ],
      "text/plain": [
       "          STNAM STNUM BASIN        DATE  TIME  RMW_dt_24  VMAX_dt_24  \\\n",
       "run  time                                                              \n",
       "4    0      ana    01     l  2015050800     0 -72.619995         3.0   \n",
       "     1      ana    01     l  2015050800     3 -75.500000         9.0   \n",
       "     2      ana    01     l  2015050800     6 -58.119995        16.0   \n",
       "     3      ana    01     l  2015050800     9 -57.250000         3.0   \n",
       "     4      ana    01     l  2015050800    12 -34.879997         8.0   \n",
       "...         ...   ...   ...         ...   ...        ...         ...   \n",
       "1139 4     rina    19     l  2017110800    12  25.309990         3.0   \n",
       "1140 0     rina    19     l  2017110806     0  10.750000        -5.0   \n",
       "     1     rina    19     l  2017110806     3  43.499992        -2.0   \n",
       "     2     rina    19     l  2017110806     6  42.809998         1.0   \n",
       "1141 0     rina    19     l  2017110812     0  21.439995       -10.0   \n",
       "\n",
       "           MIN_SLP_dt_24  SHR_MAG_dt_24   SST_dt_24  ...  VORT850_dt_24  \\\n",
       "run  time                                            ...                  \n",
       "4    0              -3.0       3.080000   -1.759995  ...     -26.620001   \n",
       "     1              -2.0       5.730000    0.130005  ...     -22.789999   \n",
       "     2              -3.0       5.039999   -0.790009  ...     -13.179999   \n",
       "     3              -1.0       6.920000    0.910004  ...     -14.260000   \n",
       "     4              -3.0      11.020000    3.450012  ...     -28.450001   \n",
       "...                  ...            ...         ...  ...            ...   \n",
       "1139 4              -1.0      13.629999 -121.540001  ...       3.240002   \n",
       "1140 0               1.0       5.440001 -108.220001  ...      -0.259998   \n",
       "     1               0.0      10.200001 -122.919998  ...     -18.060001   \n",
       "     2              -1.0      17.450001 -130.940002  ...     -23.410000   \n",
       "1141 0               5.0      19.280003 -134.050003  ...     -25.939999   \n",
       "\n",
       "           DVRG200_dt_24  STM_SPD_dt_24  RHLO_dt_24  RHMD_dt_24  RHHI_dt_24  \\\n",
       "run  time                                                                     \n",
       "4    0         10.300001       1.000004   19.809998  -25.670013  -28.609985   \n",
       "     1         -9.160000       0.819740   27.190002   -0.320007   -5.619995   \n",
       "     2        -16.290001       1.530938   41.640015   11.459991   10.980011   \n",
       "     3        -16.300001       0.080867   41.300049    5.340027   12.260010   \n",
       "     4         12.250000       1.435105   44.960022   -6.589996   22.339996   \n",
       "...                  ...            ...         ...         ...         ...   \n",
       "1139 4        102.959999      12.196426  -55.909973   49.940002  121.679993   \n",
       "1140 0         73.349998       9.032827    1.339966   48.950012   59.200012   \n",
       "     1         82.649994      12.952366  -10.030029   39.520020   89.179993   \n",
       "     2         98.099998      16.912863  -39.230042   10.080017  106.739990   \n",
       "1141 0        109.010002      19.409622  -92.769958  -22.440002  119.130005   \n",
       "\n",
       "           INST1_dt_24  INST2_dt_24  vmax_bt_new_dt_24  vmax_nhc_dt_24  \n",
       "run  time                                                               \n",
       "4    0            1.33         0.77               10.0        5.000000  \n",
       "     1            1.69         0.96               10.0        3.750000  \n",
       "     2            2.55         1.30               10.0        0.833332  \n",
       "     3            3.29         1.19               10.0       -2.083332  \n",
       "     4            3.47         1.36               10.0       -5.000000  \n",
       "...                ...          ...                ...             ...  \n",
       "1139 4           -0.69        -0.29               -5.0        0.000000  \n",
       "1140 0            0.11        -0.13              -10.0        0.000000  \n",
       "     1           -1.26        -0.60               -7.5        0.000000  \n",
       "     2           -1.45        -0.73               -5.0        0.000000  \n",
       "1141 0           -1.49        -1.04               -5.0        0.000000  \n",
       "\n",
       "[21447 rows x 23 columns]"
      ]
     },
     "execution_count": 107,
     "metadata": {},
     "output_type": "execute_result"
    }
   ],
   "source": [
    "dt_df"
   ]
  },
  {
   "cell_type": "code",
   "execution_count": 6,
   "metadata": {},
   "outputs": [],
   "source": [
    "from tensorflow.python.client import device_lib\n",
    "\n",
    "def get_available_gpus():\n",
    "    local_device_protos = device_lib.list_local_devices()\n",
    "    return [x.name for x in local_device_protos if x.device_type == 'GPU']"
   ]
  },
  {
   "cell_type": "code",
   "execution_count": 7,
   "metadata": {},
   "outputs": [
    {
     "data": {
      "text/plain": [
       "['/device:GPU:0']"
      ]
     },
     "execution_count": 7,
     "metadata": {},
     "output_type": "execute_result"
    }
   ],
   "source": [
    "get_available_gpus()"
   ]
  },
  {
   "cell_type": "code",
   "execution_count": 7,
   "metadata": {},
   "outputs": [
    {
     "name": "stdout",
     "output_type": "stream",
     "text": [
      "1\n"
     ]
    }
   ],
   "source": [
    "!echo $CUDA_VISIBLE_DEVICES"
   ]
  },
  {
   "cell_type": "code",
   "execution_count": 8,
   "metadata": {},
   "outputs": [],
   "source": [
    "def get_hwrf_filenames_diff(best_track_df, hwrf_path, diff=24, extension=\".nc\"):\n",
    "    \"\"\"\n",
    "    Assemble the HWRF file names from the columns of the best track dataframe.\n",
    "\n",
    "    Args:\n",
    "        best_track_df: `pandas.DataFrame` containing information about each HWRF time step\n",
    "        hwrf_path: Path to HWRF files\n",
    "        extension: type of file containing hwrf data.\n",
    "    Returns:\n",
    "        Array of HWRF filenames matching each row in the best track dataframe\n",
    "    \"\"\"\n",
    "    hwrf_filenames_start = []\n",
    "    hwrf_filenames_end = []\n",
    "    for i in range(best_track_df.shape[0]):\n",
    "        storm_name = best_track_df.loc[i, \"STNAM\"]\n",
    "        storm_number = int(best_track_df.loc[i, \"STNUM\"])\n",
    "        basin = best_track_df.loc[i, \"BASIN\"]\n",
    "        run_date = best_track_df.loc[i, \"DATE\"]\n",
    "        forecast_hour = int(best_track_df.loc[i, \"TIME\"])\n",
    "        fh_end = forecast_hour + diff\n",
    "        hwrf_filename_start = join(hwrf_path,\n",
    "                             f\"{storm_name}{storm_number:02d}{basin}.{run_date}.f{forecast_hour:03d}\" + extension)\n",
    "        hwrf_filename_end = join(hwrf_path,\n",
    "                             f\"{storm_name}{storm_number:02d}{basin}.{run_date}.f{fh_end:03d}\" + extension)\n",
    "        hwrf_filenames_start.append(hwrf_filename_start)\n",
    "        hwrf_filenames_end.append(hwrf_filename_end)\n",
    "    return np.array(hwrf_filenames_start), np.array(hwrf_filenames_end)"
   ]
  },
  {
   "cell_type": "code",
   "execution_count": 9,
   "metadata": {},
   "outputs": [],
   "source": [
    "hwrf_path = \"/glade/p/ral/nsap/rozoff/hfip/reforecast_rotated/\"\n",
    "hwrf_files_start, hwrf_files_end = get_hwrf_filenames_diff(dt_df.reset_index(), hwrf_path)\n",
    "hwrf_2018_path = \"/glade/p/ral/nsap/rozoff/hfip/realtime_rotated/\"\n",
    "hwrf_files_2018_start, hwrf_files_2018_end = get_hwrf_filenames_diff(dt_df_2018.reset_index(), hwrf_2018_path)\n"
   ]
  },
  {
   "cell_type": "code",
   "execution_count": 4,
   "metadata": {},
   "outputs": [
    {
     "data": {
      "text/plain": [
       "['THETA_E_L100',\n",
       " 'THETA_E_L103',\n",
       " 'TCOLC_E_L103',\n",
       " 'U_RAD_L100',\n",
       " 'U_RAD_L103',\n",
       " 'V_TAN_L100',\n",
       " 'V_TAN_L103',\n",
       " 'SHR_HDG',\n",
       " 'CENLAT',\n",
       " 'CENLON',\n",
       " 'y_0',\n",
       " 'x_0',\n",
       " 'lat_0',\n",
       " 'lon_0',\n",
       " 'lv_ISBL0']"
      ]
     },
     "execution_count": 4,
     "metadata": {},
     "output_type": "execute_result"
    }
   ],
   "source": [
    "['THETA_E_L100',\n",
    " 'THETA_E_L103',\n",
    " 'TCOLC_E_L103',\n",
    " 'U_RAD_L100',\n",
    " 'U_RAD_L103',\n",
    " 'V_TAN_L100',\n",
    " 'V_TAN_L103',\n",
    " 'SHR_HDG',\n",
    " 'CENLAT',\n",
    " 'CENLON',\n",
    " 'y_0',\n",
    " 'x_0',\n",
    " 'lat_0',\n",
    " 'lon_0',\n",
    " 'lv_ISBL0']"
   ]
  },
  {
   "cell_type": "code",
   "execution_count": 10,
   "metadata": {},
   "outputs": [],
   "source": [
    "input_var_levels = []\n",
    "m_vars = [\"THETA_E_L100\", \"U_RAD_L100\", \"V_TAN_L100\"]\n",
    "s_vars = [\"THETA_E_L103\", \"U_RAD_L103\", \"V_TAN_L103\"]\n",
    "p_levs = [20000, 50000, 85000]\n",
    "s_index = 0\n",
    "for m_var in m_vars:\n",
    "    for p_lev in p_levs:\n",
    "            input_var_levels.append((m_var, p_lev))\n",
    "    input_var_levels.append((s_vars[s_index], None))\n",
    "    s_index += 1"
   ]
  },
  {
   "cell_type": "code",
   "execution_count": 12,
   "metadata": {},
   "outputs": [
    {
     "data": {
      "text/plain": [
       "[('THETA_E_L100', 20000),\n",
       " ('THETA_E_L100', 50000),\n",
       " ('THETA_E_L100', 85000),\n",
       " ('THETA_E_L103', None),\n",
       " ('U_RAD_L100', 20000),\n",
       " ('U_RAD_L100', 50000),\n",
       " ('U_RAD_L100', 85000),\n",
       " ('U_RAD_L103', None),\n",
       " ('V_TAN_L100', 20000),\n",
       " ('V_TAN_L100', 50000),\n",
       " ('V_TAN_L100', 85000),\n",
       " ('V_TAN_L103', None)]"
      ]
     },
     "execution_count": 12,
     "metadata": {},
     "output_type": "execute_result"
    }
   ],
   "source": [
    "input_var_levels"
   ]
  },
  {
   "cell_type": "code",
   "execution_count": 11,
   "metadata": {},
   "outputs": [],
   "source": [
    "hwrf_exists = np.array([exists(hwrf_file) for hwrf_file in hwrf_files_end])"
   ]
  },
  {
   "cell_type": "code",
   "execution_count": 13,
   "metadata": {},
   "outputs": [
    {
     "data": {
      "text/plain": [
       "False"
      ]
     },
     "execution_count": 13,
     "metadata": {},
     "output_type": "execute_result"
    }
   ],
   "source": [
    "np.any(~hwrf_exists)"
   ]
  },
  {
   "cell_type": "code",
   "execution_count": 16,
   "metadata": {},
   "outputs": [
    {
     "data": {
      "text/plain": [
       "(21447, 2)"
      ]
     },
     "execution_count": 16,
     "metadata": {},
     "output_type": "execute_result"
    }
   ],
   "source": [
    "hwrf_files_se = np.vstack([hwrf_files_start, hwrf_files_end]).T\n",
    "hwrf_files_se.shape"
   ]
  },
  {
   "cell_type": "code",
   "execution_count": 15,
   "metadata": {},
   "outputs": [
    {
     "data": {
      "text/plain": [
       "21447"
      ]
     },
     "execution_count": 15,
     "metadata": {},
     "output_type": "execute_result"
    }
   ],
   "source": [
    "len(hwrf_files_se.tolist())"
   ]
  },
  {
   "cell_type": "code",
   "execution_count": 17,
   "metadata": {},
   "outputs": [
    {
     "data": {
      "text/plain": [
       "(7769, 2)"
      ]
     },
     "execution_count": 17,
     "metadata": {},
     "output_type": "execute_result"
    }
   ],
   "source": [
    "hwrf_files_2018_se = np.vstack([hwrf_files_2018_start, hwrf_files_2018_end]).T\n",
    "hwrf_files_2018_se.shape"
   ]
  },
  {
   "cell_type": "code",
   "execution_count": 13,
   "metadata": {},
   "outputs": [],
   "source": [
    "n_workers = 8\n",
    "cluster = LocalCluster(n_workers=n_workers, threads_per_worker=1, memory_limit=16e9)\n",
    "client = Client(cluster)"
   ]
  },
  {
   "cell_type": "code",
   "execution_count": 26,
   "metadata": {},
   "outputs": [
    {
     "data": {
      "text/plain": [
       "8"
      ]
     },
     "execution_count": 26,
     "metadata": {},
     "output_type": "execute_result"
    }
   ],
   "source": [
    "len(client.cluster.workers)"
   ]
  },
  {
   "cell_type": "code",
   "execution_count": 7,
   "metadata": {},
   "outputs": [],
   "source": [
    "def load_data(hwrf_file_list, input_var_levels=None):\n",
    "    data = []\n",
    "    step_data = []\n",
    "    for t, train_file in enumerate(hwrf_file_list):\n",
    "        step = HWRFStep(train_file)\n",
    "        for var in input_var_levels:\n",
    "            step_data.append(step.get_variable(var[0], level=var[1]).values)\n",
    "        step.close()\n",
    "        del step\n",
    "        data.append(np.stack(step_data, axis=-1))\n",
    "        del step_data[:]\n",
    "    train_data = np.stack(data, axis=0)\n",
    "    return train_data"
   ]
  },
  {
   "cell_type": "code",
   "execution_count": 15,
   "metadata": {},
   "outputs": [],
   "source": [
    "def load_data_diff(hwrf_file_list, input_var_levels=None):\n",
    "    data = []\n",
    "    step_data = []\n",
    "    for t, train_file in enumerate(hwrf_file_list):\n",
    "        step_start = HWRFStep(train_file[0])\n",
    "        step_end = HWRFStep(train_file[1])\n",
    "        for var in input_var_levels:\n",
    "            step_data.append(step_end.get_variable(var[0], level=var[1]).values - step_start.get_variable(var[0], level=var[1]).values)\n",
    "        step_end.close()\n",
    "        step_start.close()\n",
    "        del step_start, step_end\n",
    "        data.append(np.stack(step_data, axis=-1))\n",
    "        del step_data[:]\n",
    "    train_data = np.stack(data, axis=0)\n",
    "    return train_data"
   ]
  },
  {
   "cell_type": "markdown",
   "metadata": {},
   "source": [
    "## Load training data\n",
    "Use dask to load HWRF reforecast files in parallel."
   ]
  },
  {
   "cell_type": "code",
   "execution_count": 18,
   "metadata": {},
   "outputs": [],
   "source": [
    "slice_indices = np.linspace(0, hwrf_files_se.shape[0], n_workers + 1).astype(int)\n",
    "hwrf_subsets = [hwrf_files_se[slice_index:slice_indices[s + 1]] for s, slice_index in enumerate(slice_indices[:-1])]"
   ]
  },
  {
   "cell_type": "code",
   "execution_count": 19,
   "metadata": {},
   "outputs": [],
   "source": [
    "out = client.map(load_data_diff, hwrf_subsets, input_var_levels=input_var_levels)"
   ]
  },
  {
   "cell_type": "code",
   "execution_count": 22,
   "metadata": {},
   "outputs": [
    {
     "data": {
      "text/plain": [
       "[<Future: pending, key: load_data_diff-f4c648be136feb094bc58771f8582370>,\n",
       " <Future: pending, key: load_data_diff-49c25d0ab5e03f2c60dc96ef574f3bca>,\n",
       " <Future: pending, key: load_data_diff-8f7283e321cd0c651d70dba53f8b735b>,\n",
       " <Future: pending, key: load_data_diff-d3c88b1d69603466ee7ebbcde36ff479>,\n",
       " <Future: pending, key: load_data_diff-babb154b24e7e96e35a15c553b79dce4>,\n",
       " <Future: pending, key: load_data_diff-a7677df8d444185e30a604f2ba4385bc>,\n",
       " <Future: pending, key: load_data_diff-6eba359352f2de0f74c35a95c92074a8>,\n",
       " <Future: pending, key: load_data_diff-ded612a0dc297f79cab072d7b6fb12bd>]"
      ]
     },
     "execution_count": 22,
     "metadata": {},
     "output_type": "execute_result"
    }
   ],
   "source": [
    "out"
   ]
  },
  {
   "cell_type": "code",
   "execution_count": 23,
   "metadata": {},
   "outputs": [],
   "source": [
    "train_data = np.vstack(client.gather(out))"
   ]
  },
  {
   "cell_type": "markdown",
   "metadata": {},
   "source": [
    "### Load testing data\n",
    "Use dask to load testing data in parallel"
   ]
  },
  {
   "cell_type": "code",
   "execution_count": 24,
   "metadata": {},
   "outputs": [],
   "source": [
    "val_slice_indices = np.linspace(0, hwrf_files_2018_se.shape[0], n_workers + 1).astype(int)\n",
    "hwrf_val_subsets = [hwrf_files_2018_se[slice_index:val_slice_indices[s + 1]] for s, slice_index in enumerate(val_slice_indices[:-1])]"
   ]
  },
  {
   "cell_type": "code",
   "execution_count": 25,
   "metadata": {},
   "outputs": [],
   "source": [
    "val_out = client.map(load_data_diff, hwrf_val_subsets, input_var_levels=input_var_levels)"
   ]
  },
  {
   "cell_type": "code",
   "execution_count": 29,
   "metadata": {},
   "outputs": [
    {
     "data": {
      "text/plain": [
       "[<Future: pending, key: load_data_diff-6954878fde3afcc35b851f2f683bc2ee>,\n",
       " <Future: pending, key: load_data_diff-5e16dcd14fa4fb67f9cdcb315e723c0e>,\n",
       " <Future: pending, key: load_data_diff-12776f4193199c2c98d0d0a747e39a75>,\n",
       " <Future: pending, key: load_data_diff-7765a933815d02eefbcf9a6aba3fa24b>,\n",
       " <Future: pending, key: load_data_diff-d6963c8aacdcf2cadb1c285c1ea4ed72>,\n",
       " <Future: pending, key: load_data_diff-1a3ea1a2f3245c597ff3d43619fa58c3>,\n",
       " <Future: pending, key: load_data_diff-a28154da0470ba8d94c0df8caec91f9c>,\n",
       " <Future: pending, key: load_data_diff-4fedb4f385c44a30f795a3eb34312cd3>,\n",
       " <Future: pending, key: load_data_diff-19f49e5047398ce214f69858af594815>,\n",
       " <Future: pending, key: load_data_diff-24ac82cb49505b20985cd51340fd2e24>,\n",
       " <Future: pending, key: load_data_diff-9079bb7e294478eea6d5ea5128f28e7e>,\n",
       " <Future: pending, key: load_data_diff-e8a614b1464e33163d1864c4be53473a>,\n",
       " <Future: pending, key: load_data_diff-86a57433f27d0a80fe2f04553d84e046>,\n",
       " <Future: pending, key: load_data_diff-7444bff452ddd84d47d988e88c9b856e>,\n",
       " <Future: pending, key: load_data_diff-019797e950ad8239af306817681e0a76>,\n",
       " <Future: pending, key: load_data_diff-33a53b2d96bd336322af802787902b35>,\n",
       " <Future: pending, key: load_data_diff-bc87660ee13caeff534385d6dd0aa915>,\n",
       " <Future: pending, key: load_data_diff-c7af4fe98f049b7268535e3ebb2ebd5f>,\n",
       " <Future: pending, key: load_data_diff-086d398aab2c539a561e08c92d2aab74>,\n",
       " <Future: pending, key: load_data_diff-38cdbec922d3ba00772bb76d756e5436>,\n",
       " <Future: pending, key: load_data_diff-651be3f481a3dfe543dd544682525499>,\n",
       " <Future: pending, key: load_data_diff-03584d754a13a0cdae4b5549261be333>,\n",
       " <Future: pending, key: load_data_diff-9c70d1be73171964fda60efa726f6dc6>,\n",
       " <Future: pending, key: load_data_diff-77d6aa5b94aabd14abc37eef49f384e6>,\n",
       " <Future: pending, key: load_data_diff-37748e22791dfe3c225b4377c928c9e7>,\n",
       " <Future: pending, key: load_data_diff-083dd504cf25c50a135ce08b378de906>,\n",
       " <Future: pending, key: load_data_diff-644ad684b06bc5892e80ed5d70659121>,\n",
       " <Future: pending, key: load_data_diff-11d7bf566fc0f3c0a778f049e90f3f1b>,\n",
       " <Future: pending, key: load_data_diff-0e879607be5603beec2857a9f8a8dd62>,\n",
       " <Future: pending, key: load_data_diff-0e2079a8640263bbf947bb6e2b08a9cc>,\n",
       " <Future: pending, key: load_data_diff-33cdd6e868d9decfa3d0f5a8b5cab53f>,\n",
       " <Future: pending, key: load_data_diff-cd76e78ae123c095e7efddd13084dcc3>]"
      ]
     },
     "execution_count": 29,
     "metadata": {},
     "output_type": "execute_result"
    }
   ],
   "source": [
    "val_out"
   ]
  },
  {
   "cell_type": "code",
   "execution_count": 26,
   "metadata": {},
   "outputs": [],
   "source": [
    "val_data = np.vstack(client.gather(val_out))"
   ]
  },
  {
   "cell_type": "code",
   "execution_count": 27,
   "metadata": {},
   "outputs": [],
   "source": [
    "norm_train_data = np.zeros(train_data.shape, dtype=np.float32)\n",
    "train_scaling = np.zeros((train_data.shape[-1], 2), dtype=np.float32)\n",
    "for c in range(norm_train_data.shape[-1]):\n",
    "    train_scaling[c, 0] = np.nanmax(train_data[:, :, :, c])\n",
    "    train_scaling[c, 1] = np.nanmin(train_data[:, :, :, c])\n",
    "    norm_train_data[:, :, :, c] = (train_data[:, :, :, c] - train_scaling[c, 1]) / (train_scaling[c, 0] - train_scaling[c, 1])\n",
    "norm_train_data[np.isnan(train_data)] = 0"
   ]
  },
  {
   "cell_type": "code",
   "execution_count": 28,
   "metadata": {},
   "outputs": [],
   "source": [
    "norm_val_data = np.zeros(val_data.shape, dtype=np.float32)\n",
    "for c in range(norm_val_data.shape[-1]):\n",
    "    norm_val_data[:, :, :, c] = (val_data[:, :, :, c] - train_scaling[c, 1]) / (train_scaling[c, 0] - train_scaling[c, 1])\n",
    "norm_val_data[np.isnan(val_data)] = 0"
   ]
  },
  {
   "cell_type": "code",
   "execution_count": null,
   "metadata": {},
   "outputs": [],
   "source": []
  },
  {
   "cell_type": "code",
   "execution_count": 31,
   "metadata": {},
   "outputs": [],
   "source": [
    "from tensorflow.keras.layers import Dense, Conv2D, Activation, Input, Flatten, AveragePooling2D, MaxPool2D, LeakyReLU, Dropout, Add\n",
    "from tensorflow.keras.layers import BatchNormalization, Concatenate, Layer, SpatialDropout2D\n",
    "from tensorflow.keras.models import Model\n",
    "from tensorflow.keras.optimizers import Adam, SGD\n",
    "from tensorflow.keras.losses import mean_squared_error, mean_absolute_error, binary_crossentropy\n",
    "from tensorflow.keras.utils import multi_gpu_model\n",
    "from tensorflow.keras.regularizers import l2\n",
    "\n",
    "class NormOut(Layer):\n",
    "    def __init__(self, **kwargs):\n",
    "        self.mean_dense = Dense(1, **kwargs)\n",
    "        self.sd_dense = Dense(1, activation=K.exp, **kwargs)\n",
    "        super(NormOut, self).__init__()\n",
    "\n",
    "    def call(self, inputs, **kwargs):\n",
    "        mean_x = self.mean_dense(inputs)\n",
    "        sd_x = self.sd_dense(inputs)\n",
    "        return Concatenate()([mean_x, sd_x])\n",
    "\n",
    "    def compute_output_shape(self, input_shape):\n",
    "        return input_shape[0], 2\n",
    "\n",
    "\n",
    "class GaussianMixtureOut(Layer):\n",
    "    def __init__(self, mixtures=2, **kwargs):\n",
    "        self.mixtures = mixtures\n",
    "        self.mean_dense = Dense(self.mixtures, activation=\"relu\", **kwargs)\n",
    "        self.sd_dense = Dense(self.mixtures, activation=K.exp, **kwargs)\n",
    "        self.weight_dense = Dense(self.mixtures, activation=\"softmax\", **kwargs)\n",
    "        super(GaussianMixtureOut, self).__init__(**kwargs)\n",
    "\n",
    "    def call(self, inputs, **kwargs):\n",
    "        mean_x = self.mean_dense(inputs)\n",
    "        sd_x = self.sd_dense(inputs)\n",
    "        weights_x = self.weight_dense(inputs)\n",
    "        return Concatenate()([mean_x, sd_x, weights_x])\n",
    "\n",
    "    def compute_output_shape(self, input_shape):\n",
    "        return input_shape[0], self.mixtures * 3\n",
    "\n",
    "\n",
    "def crps_norm(y_true, y_pred, cdf_points=np.arange(-200, 200.0, 1.0)):\n",
    "    cdf_points_tensor = K.constant(0.5 * (cdf_points[:-1] + cdf_points[1:]), dtype=\"float32\")\n",
    "    cdf_point_diffs = K.constant(cdf_points[1:] - cdf_points[:-1], dtype=\"float32\")\n",
    "    y_pred_cdf = tfd.Normal(loc=y_pred[:, 0:1], scale=y_pred[:, 1:2]).cdf(cdf_points_tensor)\n",
    "    y_true_cdf = K.cast(y_true <= cdf_points_tensor, \"float32\")\n",
    "    cdf_diffs = K.mean((y_pred_cdf - y_true_cdf) ** 2 * cdf_point_diffs, axis=1)\n",
    "    return K.mean(cdf_diffs)\n",
    "\n",
    "\n",
    "def crps_mixture(y_true, y_pred, cdf_points=np.arange(0, 200.0, 5.0)):\n",
    "    cdf_points_tensor = K.constant(0.5 * (cdf_points[:-1] + cdf_points[1:]), dtype=\"float32\")\n",
    "    cdf_point_diffs = K.constant(cdf_points[1:] - cdf_points[:-1], dtype=\"float32\")\n",
    "    num_mixtures = y_pred.shape[1] // 3\n",
    "    weights = [y_pred[:, 2 * num_mixtures + i: 2 * num_mixtures + i + 1] for i in range(num_mixtures)]\n",
    "    locs = [y_pred[:, i:i+1] for i in range(num_mixtures)]\n",
    "    scales = [y_pred[:, num_mixtures + i: num_mixtures + i + 1] for i in range(num_mixtures)]\n",
    "    y_pred_cdf = tf.add_n([weights[i] * tfd.Normal(loc=locs[i], scale=scales[i]).cdf(cdf_points_tensor)\n",
    "                             for i in range(num_mixtures)])\n",
    "    y_true_cdf = K.cast(y_true <= cdf_points_tensor, \"float32\")\n",
    "    cdf_diffs = K.mean((y_pred_cdf - y_true_cdf) ** 2 * cdf_point_diffs, axis=1)\n",
    "    return K.mean(cdf_diffs)\n",
    "\n",
    "losses = {\"mse\": mean_squared_error,\n",
    "          \"mae\": mean_absolute_error,\n",
    "          \"crps_norm\": crps_norm,\n",
    "          \"crps_mixture\": crps_mixture,\n",
    "          \"binary_crossentropy\": binary_crossentropy}\n",
    "\n",
    "class BaseConvNet(object):\n",
    "    def __init__(self, min_filters=16, filter_growth_rate=2, filter_width=5, min_data_width=4, pooling_width=2,\n",
    "                 hidden_activation=\"relu\", output_type=\"linear\",\n",
    "                 pooling=\"mean\", use_dropout=False, dropout_alpha=0.0, dense_neurons=64,\n",
    "                 data_format=\"channels_last\", optimizer=\"adam\", loss=\"mse\", leaky_alpha=0.1, metrics=None,\n",
    "                 learning_rate=0.0001, batch_size=1024, epochs=10, verbose=0, l2_alpha=0, distributed=False):\n",
    "        self.min_filters = min_filters\n",
    "        self.filter_width = filter_width\n",
    "        self.filter_growth_rate = filter_growth_rate\n",
    "        self.pooling_width = pooling_width\n",
    "        self.min_data_width = min_data_width\n",
    "        self.hidden_activation = hidden_activation\n",
    "        self.output_type = output_type\n",
    "        self.use_dropout = use_dropout\n",
    "        self.pooling = pooling\n",
    "        self.dropout_alpha = dropout_alpha\n",
    "        self.data_format = data_format\n",
    "        self.optimizer = optimizer\n",
    "        self.learning_rate = learning_rate\n",
    "        self.loss = loss\n",
    "        self.dense_neurons = dense_neurons\n",
    "        self.metrics = metrics\n",
    "        self.leaky_alpha = leaky_alpha\n",
    "        self.batch_size = batch_size\n",
    "        self.epochs = epochs\n",
    "        self.model = None\n",
    "        self.parallel_model = None\n",
    "        self.l2_alpha = l2_alpha\n",
    "        if l2_alpha > 0:\n",
    "            self.use_l2 = True\n",
    "        else:\n",
    "            self.use_l2 = False\n",
    "        self.verbose = verbose\n",
    "        self.distributed = distributed\n",
    "\n",
    "    def build_network(self, conv_input_shape, output_size):\n",
    "        \"\"\"\n",
    "        Create a keras model with the hyperparameters specified in the constructor.\n",
    "\n",
    "        Args:\n",
    "            conv_input_shape (tuple of shape [variable, y, x]): The shape of the input data\n",
    "            output_size: Number of neurons in output layer.\n",
    "        \"\"\"\n",
    "        print(\"Conv input shape\", conv_input_shape)\n",
    "        if self.use_l2:\n",
    "            reg = l2(self.l2_alpha)\n",
    "        else:\n",
    "            reg = None\n",
    "        conv_input_layer = Input(shape=conv_input_shape, name=\"conv_input\")\n",
    "        num_conv_layers = int(np.round((np.log(conv_input_shape[1]) - np.log(self.min_data_width))\n",
    "                                       / np.log(self.pooling_width)))\n",
    "        print(num_conv_layers)\n",
    "        num_filters = self.min_filters\n",
    "        scn_model = conv_input_layer\n",
    "        print(reg)\n",
    "        for c in range(num_conv_layers):\n",
    "            scn_model = Conv2D(num_filters, (self.filter_width, self.filter_width),\n",
    "                               data_format=self.data_format, kernel_regularizer=reg,\n",
    "                               padding=\"same\", name=\"conv_{0:02d}\".format(c))(scn_model)\n",
    "            if self.hidden_activation == \"leaky\":\n",
    "                scn_model = LeakyReLU(self.leaky_alpha, name=\"hidden_activation_{0:02d}\".format(c))(scn_model)\n",
    "            else:\n",
    "                scn_model = Activation(self.hidden_activation, name=\"hidden_activation_{0:02d}\".format(c))(scn_model)\n",
    "            if self.use_dropout:\n",
    "                scn_model = SpatialDropout2D(rate=self.dropout_alpha)(scn_model)\n",
    "            num_filters = int(num_filters * self.filter_growth_rate)\n",
    "            if self.pooling.lower() == \"max\":\n",
    "                scn_model = MaxPool2D(pool_size=(self.pooling_width, self.pooling_width),\n",
    "                                      data_format=self.data_format, name=\"pooling_{0:02d}\".format(c))(scn_model)\n",
    "            else:\n",
    "                scn_model = AveragePooling2D(pool_size=(self.pooling_width, self.pooling_width),\n",
    "                                             data_format=self.data_format, name=\"pooling_{0:02d}\".format(c))(scn_model)\n",
    "        scn_model = Flatten(name=\"flatten\")(scn_model)\n",
    "        scn_model = Dense(self.dense_neurons, name=\"dense_hidden\", kernel_regularizer=reg)(scn_model)\n",
    "        if self.hidden_activation == \"leaky\":\n",
    "            scn_model = LeakyReLU(self.leaky_alpha, name=\"hidden_dense_activation\")(scn_model)\n",
    "        else:\n",
    "            scn_model = Activation(self.hidden_activation, name=\"hidden_dense_activation\")(scn_model)\n",
    "        if self.output_type == \"linear\":\n",
    "            scn_model = Dense(output_size, kernel_regularizer=reg, name=\"dense_output\")(scn_model)\n",
    "            scn_model = Activation(\"linear\", name=\"activation_output\")(scn_model)\n",
    "        elif self.output_type == \"sigmoid\":\n",
    "            scn_model = Dense(output_size, kernel_regularizer=reg, name=\"dense_output\")(scn_model)\n",
    "            scn_model = Activation(\"sigmoid\", name=\"activation_output\")(scn_model)\n",
    "        elif self.output_type == \"gaussian\":\n",
    "            scn_model = NormOut()(scn_model)\n",
    "        elif \"mixture\" in self.output_type:\n",
    "            num_mixtures = int(self.output_type.split(\"_\")[1])\n",
    "            scn_model = GaussianMixtureOut(mixtures=num_mixtures)(scn_model)\n",
    "        self.model = Model(conv_input_layer, scn_model)\n",
    "        print(self.model.summary())\n",
    "\n",
    "    def compile_model(self):\n",
    "        \"\"\"\n",
    "        Compile the model in tensorflow with the right optimizer and loss function.\n",
    "        \"\"\"\n",
    "        if self.optimizer == \"adam\":\n",
    "            opt = Adam(lr=self.learning_rate)\n",
    "        else:\n",
    "            opt = SGD(lr=self.learning_rate, momentum=0.99)\n",
    "        if self.distributed:\n",
    "            opt = DistributedOptimizer(opt)\n",
    "        self.model.compile(opt, losses[self.loss], metrics=self.metrics)\n",
    "\n",
    "    def compile_parallel_model(self, num_gpus):\n",
    "        self.parallel_model = multi_gpu_model(self.model, num_gpus)\n",
    "        if self.optimizer == \"adam\":\n",
    "            opt = Adam(lr=self.learning_rate)\n",
    "        else:\n",
    "            opt = SGD(lr=self.learning_rate, momentum=0.99)\n",
    "        self.parallel_model.compile(opt, losses[self.loss], metrics=self.metrics)\n",
    "\n",
    "    @staticmethod\n",
    "    def get_data_shapes(x, y):\n",
    "        \"\"\"\n",
    "        Extract the input and output data shapes in order to construct the neural network.\n",
    "        \"\"\"\n",
    "        if len(x.shape) != 4:\n",
    "            raise ValueError(\"Input data does not have dimensions (examples, y, x, predictor)\")\n",
    "        if len(y.shape) == 1:\n",
    "            output_size = 1\n",
    "        else:\n",
    "            output_size = y.shape[1]\n",
    "        return x.shape[1:], output_size\n",
    "\n",
    "    @staticmethod\n",
    "    def get_generator_data_shapes(data_gen):\n",
    "        inputs, outputs = data_gen.__getitem__(0)\n",
    "        if len(outputs.shape) == 1:\n",
    "            output_size = 1\n",
    "        else:\n",
    "            output_size = outputs.shape[1]\n",
    "        return inputs.shape[1:], output_size\n",
    "\n",
    "    def fit(self, x, y, val_x=None, val_y=None, build=True, **kwargs):\n",
    "        \"\"\"\n",
    "        Train the neural network.\n",
    "        \"\"\"\n",
    "        if build:\n",
    "            x_conv_shape, y_size = self.get_data_shapes(x, y)\n",
    "            self.build_network(x_conv_shape, y_size)\n",
    "            self.compile_model()\n",
    "        if val_x is None:\n",
    "            val_data = None\n",
    "        else:\n",
    "            val_data = (val_x, val_y)\n",
    "        self.model.fit(x, y, batch_size=self.batch_size, epochs=self.epochs, verbose=self.verbose,\n",
    "                       validation_data=val_data, **kwargs)\n",
    "\n",
    "    def fit_generator(self, generator, build=True, validation_generator=None, **kwargs):\n",
    "        if build:\n",
    "            x_conv_shape, y_size = self.get_generator_data_shapes(generator)\n",
    "            self.build_network(x_conv_shape, y_size)\n",
    "            self.compile_model()\n",
    "        self.model.fit_generator(generator, epochs=self.epochs, verbose=self.verbose,\n",
    "                                 validation_data=validation_generator, **kwargs)\n",
    "\n",
    "    def predict(self, x):\n",
    "        preds = self.model.predict(x, batch_size=self.batch_size)\n",
    "        if len(preds.shape) == 2:\n",
    "            if preds.shape[1] == 1:\n",
    "                preds = preds.ravel()\n",
    "        return preds\n",
    "    \n",
    "    def saliency(self, x, layer_index=-3, ref_activation=10):\n",
    "        \"\"\"\n",
    "        Output the gradient of input field with respect to each neuron in the specified layer.\n",
    "        Args:\n",
    "            x:\n",
    "            layer_index:\n",
    "            ref_activation: Reference activation value for loss function.\n",
    "        Returns:\n",
    "        \"\"\"\n",
    "        saliency_values = np.zeros((self.model.layers[layer_index].output.shape[-1],\n",
    "                                    x.shape[0], x.shape[1],\n",
    "                                    x.shape[2], x.shape[3]),\n",
    "                                   dtype=np.float32)\n",
    "        for s in trange(self.model_.layers[layer_index].output.shape[-1], desc=\"neurons\"):\n",
    "            sub_model = Model(self.model.input, self.model.layers[layer_index].output[:, s])\n",
    "            batch_indices = np.append(np.arange(0, x.shape[0], self.batch_size), x.shape[0])\n",
    "            for b, batch_index in enumerate(tqdm(batch_indices[:-1], desc=\"batch examples\", leave=False)):\n",
    "                x_case = tf.Variable(x.values[batch_index:batch_indices[b + 1]])\n",
    "                with tf.GradientTape() as tape:\n",
    "                    tape.watch(x_case)\n",
    "                    act_out = sub_model(x_case)\n",
    "                    loss = (ref_activation - act_out) ** 2\n",
    "                saliency_values[s, batch_index:batch_indices[b + 1]] = tape.gradient(loss, x_case)\n",
    "        saliency_da = xr.DataArray(saliency_values, dims=(\"neuron\", \"p\", \"row\", \"col\", \"var_name\"),\n",
    "                                   coords=x.coords, name=\"saliency\")\n",
    "        return saliency_da"
   ]
  },
  {
   "cell_type": "code",
   "execution_count": 32,
   "metadata": {},
   "outputs": [
    {
     "name": "stdout",
     "output_type": "stream",
     "text": [
      "INFO:tensorflow:Using MirroredStrategy with devices ('/job:localhost/replica:0/task:0/device:GPU:0',)\n",
      "Conv input shape (125, 126, 12)\n",
      "5\n",
      "None\n"
     ]
    },
    {
     "name": "stderr",
     "output_type": "stream",
     "text": [
      "distributed.nanny - WARNING - Restarting worker\n",
      "distributed.nanny - WARNING - Restarting worker\n",
      "distributed.nanny - WARNING - Restarting worker\n",
      "distributed.nanny - WARNING - Restarting worker\n",
      "distributed.nanny - WARNING - Restarting worker\n",
      "distributed.nanny - WARNING - Worker exceeded 95% memory budget. Restarting\n",
      "distributed.nanny - WARNING - Restarting worker\n",
      "distributed.nanny - WARNING - Restarting worker\n",
      "distributed.nanny - WARNING - Restarting worker\n",
      "distributed.nanny - WARNING - Restarting worker\n"
     ]
    },
    {
     "ename": "KeyboardInterrupt",
     "evalue": "",
     "output_type": "error",
     "traceback": [
      "\u001B[0;31m---------------------------------------------------------------------------\u001B[0m",
      "\u001B[0;31mKeyboardInterrupt\u001B[0m                         Traceback (most recent call last)",
      "\u001B[0;32m<ipython-input-32-7d64bd1a3883>\u001B[0m in \u001B[0;36m<module>\u001B[0;34m\u001B[0m\n\u001B[1;32m      4\u001B[0m                       \u001B[0mverbose\u001B[0m\u001B[0;34m=\u001B[0m\u001B[0;36m1\u001B[0m\u001B[0;34m,\u001B[0m \u001B[0mloss\u001B[0m\u001B[0;34m=\u001B[0m\u001B[0;34m\"mae\"\u001B[0m\u001B[0;34m,\u001B[0m \u001B[0mbatch_size\u001B[0m\u001B[0;34m=\u001B[0m\u001B[0;36m512\u001B[0m\u001B[0;34m,\u001B[0m \u001B[0mepochs\u001B[0m\u001B[0;34m=\u001B[0m\u001B[0;36m30\u001B[0m\u001B[0;34m,\u001B[0m \u001B[0muse_dropout\u001B[0m\u001B[0;34m=\u001B[0m\u001B[0;32mFalse\u001B[0m\u001B[0;34m,\u001B[0m \u001B[0mdropout_alpha\u001B[0m\u001B[0;34m=\u001B[0m\u001B[0;36m0.1\u001B[0m\u001B[0;34m,\u001B[0m \u001B[0ml2_alpha\u001B[0m\u001B[0;34m=\u001B[0m\u001B[0;36m0\u001B[0m\u001B[0;34m,\u001B[0m\u001B[0;34m\u001B[0m\u001B[0;34m\u001B[0m\u001B[0m\n\u001B[1;32m      5\u001B[0m                       min_data_width=4, dense_neurons=64, learning_rate=0.0001, hidden_activation=\"relu\")\n\u001B[0;32m----> 6\u001B[0;31m     \u001B[0mbcn\u001B[0m\u001B[0;34m.\u001B[0m\u001B[0mfit\u001B[0m\u001B[0;34m(\u001B[0m\u001B[0mnorm_train_data\u001B[0m\u001B[0;34m[\u001B[0m\u001B[0;34m:\u001B[0m\u001B[0;34m,\u001B[0m \u001B[0;34m:\u001B[0m\u001B[0;34m,\u001B[0m \u001B[0;34m:\u001B[0m\u001B[0;34m,\u001B[0m \u001B[0;34m:\u001B[0m\u001B[0;34m]\u001B[0m\u001B[0;34m,\u001B[0m \u001B[0mdt_df\u001B[0m\u001B[0;34m[\u001B[0m\u001B[0;34m\"vmax_bt_new_dt_24\"\u001B[0m\u001B[0;34m]\u001B[0m\u001B[0;34m.\u001B[0m\u001B[0mvalues\u001B[0m\u001B[0;34m)\u001B[0m\u001B[0;34m\u001B[0m\u001B[0;34m\u001B[0m\u001B[0m\n\u001B[0m",
      "\u001B[0;32m<ipython-input-31-846a391c4873>\u001B[0m in \u001B[0;36mfit\u001B[0;34m(self, x, y, val_x, val_y, build, **kwargs)\u001B[0m\n\u001B[1;32m    208\u001B[0m         \u001B[0;32mif\u001B[0m \u001B[0mbuild\u001B[0m\u001B[0;34m:\u001B[0m\u001B[0;34m\u001B[0m\u001B[0;34m\u001B[0m\u001B[0m\n\u001B[1;32m    209\u001B[0m             \u001B[0mx_conv_shape\u001B[0m\u001B[0;34m,\u001B[0m \u001B[0my_size\u001B[0m \u001B[0;34m=\u001B[0m \u001B[0mself\u001B[0m\u001B[0;34m.\u001B[0m\u001B[0mget_data_shapes\u001B[0m\u001B[0;34m(\u001B[0m\u001B[0mx\u001B[0m\u001B[0;34m,\u001B[0m \u001B[0my\u001B[0m\u001B[0;34m)\u001B[0m\u001B[0;34m\u001B[0m\u001B[0;34m\u001B[0m\u001B[0m\n\u001B[0;32m--> 210\u001B[0;31m             \u001B[0mself\u001B[0m\u001B[0;34m.\u001B[0m\u001B[0mbuild_network\u001B[0m\u001B[0;34m(\u001B[0m\u001B[0mx_conv_shape\u001B[0m\u001B[0;34m,\u001B[0m \u001B[0my_size\u001B[0m\u001B[0;34m)\u001B[0m\u001B[0;34m\u001B[0m\u001B[0;34m\u001B[0m\u001B[0m\n\u001B[0m\u001B[1;32m    211\u001B[0m             \u001B[0mself\u001B[0m\u001B[0;34m.\u001B[0m\u001B[0mcompile_model\u001B[0m\u001B[0;34m(\u001B[0m\u001B[0;34m)\u001B[0m\u001B[0;34m\u001B[0m\u001B[0;34m\u001B[0m\u001B[0m\n\u001B[1;32m    212\u001B[0m         \u001B[0;32mif\u001B[0m \u001B[0mval_x\u001B[0m \u001B[0;32mis\u001B[0m \u001B[0;32mNone\u001B[0m\u001B[0;34m:\u001B[0m\u001B[0;34m\u001B[0m\u001B[0;34m\u001B[0m\u001B[0m\n",
      "\u001B[0;32m<ipython-input-31-846a391c4873>\u001B[0m in \u001B[0;36mbuild_network\u001B[0;34m(self, conv_input_shape, output_size)\u001B[0m\n\u001B[1;32m    126\u001B[0m             scn_model = Conv2D(num_filters, (self.filter_width, self.filter_width),\n\u001B[1;32m    127\u001B[0m                                \u001B[0mdata_format\u001B[0m\u001B[0;34m=\u001B[0m\u001B[0mself\u001B[0m\u001B[0;34m.\u001B[0m\u001B[0mdata_format\u001B[0m\u001B[0;34m,\u001B[0m \u001B[0mkernel_regularizer\u001B[0m\u001B[0;34m=\u001B[0m\u001B[0mreg\u001B[0m\u001B[0;34m,\u001B[0m\u001B[0;34m\u001B[0m\u001B[0;34m\u001B[0m\u001B[0m\n\u001B[0;32m--> 128\u001B[0;31m                                padding=\"same\", name=\"conv_{0:02d}\".format(c))(scn_model)\n\u001B[0m\u001B[1;32m    129\u001B[0m             \u001B[0;32mif\u001B[0m \u001B[0mself\u001B[0m\u001B[0;34m.\u001B[0m\u001B[0mhidden_activation\u001B[0m \u001B[0;34m==\u001B[0m \u001B[0;34m\"leaky\"\u001B[0m\u001B[0;34m:\u001B[0m\u001B[0;34m\u001B[0m\u001B[0;34m\u001B[0m\u001B[0m\n\u001B[1;32m    130\u001B[0m                 \u001B[0mscn_model\u001B[0m \u001B[0;34m=\u001B[0m \u001B[0mLeakyReLU\u001B[0m\u001B[0;34m(\u001B[0m\u001B[0mself\u001B[0m\u001B[0;34m.\u001B[0m\u001B[0mleaky_alpha\u001B[0m\u001B[0;34m,\u001B[0m \u001B[0mname\u001B[0m\u001B[0;34m=\u001B[0m\u001B[0;34m\"hidden_activation_{0:02d}\"\u001B[0m\u001B[0;34m.\u001B[0m\u001B[0mformat\u001B[0m\u001B[0;34m(\u001B[0m\u001B[0mc\u001B[0m\u001B[0;34m)\u001B[0m\u001B[0;34m)\u001B[0m\u001B[0;34m(\u001B[0m\u001B[0mscn_model\u001B[0m\u001B[0;34m)\u001B[0m\u001B[0;34m\u001B[0m\u001B[0;34m\u001B[0m\u001B[0m\n",
      "\u001B[0;32m~/miniconda3/envs/goes/lib/python3.7/site-packages/tensorflow_core/python/keras/engine/base_layer.py\u001B[0m in \u001B[0;36m__call__\u001B[0;34m(self, inputs, *args, **kwargs)\u001B[0m\n\u001B[1;32m    746\u001B[0m           \u001B[0;31m# Build layer if applicable (if the `build` method has been\u001B[0m\u001B[0;34m\u001B[0m\u001B[0;34m\u001B[0m\u001B[0;34m\u001B[0m\u001B[0m\n\u001B[1;32m    747\u001B[0m           \u001B[0;31m# overridden).\u001B[0m\u001B[0;34m\u001B[0m\u001B[0;34m\u001B[0m\u001B[0;34m\u001B[0m\u001B[0m\n\u001B[0;32m--> 748\u001B[0;31m           \u001B[0mself\u001B[0m\u001B[0;34m.\u001B[0m\u001B[0m_maybe_build\u001B[0m\u001B[0;34m(\u001B[0m\u001B[0minputs\u001B[0m\u001B[0;34m)\u001B[0m\u001B[0;34m\u001B[0m\u001B[0;34m\u001B[0m\u001B[0m\n\u001B[0m\u001B[1;32m    749\u001B[0m           \u001B[0mcast_inputs\u001B[0m \u001B[0;34m=\u001B[0m \u001B[0mself\u001B[0m\u001B[0;34m.\u001B[0m\u001B[0m_maybe_cast_inputs\u001B[0m\u001B[0;34m(\u001B[0m\u001B[0minputs\u001B[0m\u001B[0;34m)\u001B[0m\u001B[0;34m\u001B[0m\u001B[0;34m\u001B[0m\u001B[0m\n\u001B[1;32m    750\u001B[0m \u001B[0;34m\u001B[0m\u001B[0m\n",
      "\u001B[0;32m~/miniconda3/envs/goes/lib/python3.7/site-packages/tensorflow_core/python/keras/engine/base_layer.py\u001B[0m in \u001B[0;36m_maybe_build\u001B[0;34m(self, inputs)\u001B[0m\n\u001B[1;32m   2114\u001B[0m         \u001B[0;31m# operations.\u001B[0m\u001B[0;34m\u001B[0m\u001B[0;34m\u001B[0m\u001B[0;34m\u001B[0m\u001B[0m\n\u001B[1;32m   2115\u001B[0m         \u001B[0;32mwith\u001B[0m \u001B[0mtf_utils\u001B[0m\u001B[0;34m.\u001B[0m\u001B[0mmaybe_init_scope\u001B[0m\u001B[0;34m(\u001B[0m\u001B[0mself\u001B[0m\u001B[0;34m)\u001B[0m\u001B[0;34m:\u001B[0m\u001B[0;34m\u001B[0m\u001B[0;34m\u001B[0m\u001B[0m\n\u001B[0;32m-> 2116\u001B[0;31m           \u001B[0mself\u001B[0m\u001B[0;34m.\u001B[0m\u001B[0mbuild\u001B[0m\u001B[0;34m(\u001B[0m\u001B[0minput_shapes\u001B[0m\u001B[0;34m)\u001B[0m\u001B[0;34m\u001B[0m\u001B[0;34m\u001B[0m\u001B[0m\n\u001B[0m\u001B[1;32m   2117\u001B[0m       \u001B[0;31m# We must set self.built since user defined build functions are not\u001B[0m\u001B[0;34m\u001B[0m\u001B[0;34m\u001B[0m\u001B[0;34m\u001B[0m\u001B[0m\n\u001B[1;32m   2118\u001B[0m       \u001B[0;31m# constrained to set self.built.\u001B[0m\u001B[0;34m\u001B[0m\u001B[0;34m\u001B[0m\u001B[0;34m\u001B[0m\u001B[0m\n",
      "\u001B[0;32m~/miniconda3/envs/goes/lib/python3.7/site-packages/tensorflow_core/python/keras/layers/convolutional.py\u001B[0m in \u001B[0;36mbuild\u001B[0;34m(self, input_shape)\u001B[0m\n\u001B[1;32m    156\u001B[0m         \u001B[0mconstraint\u001B[0m\u001B[0;34m=\u001B[0m\u001B[0mself\u001B[0m\u001B[0;34m.\u001B[0m\u001B[0mkernel_constraint\u001B[0m\u001B[0;34m,\u001B[0m\u001B[0;34m\u001B[0m\u001B[0;34m\u001B[0m\u001B[0m\n\u001B[1;32m    157\u001B[0m         \u001B[0mtrainable\u001B[0m\u001B[0;34m=\u001B[0m\u001B[0;32mTrue\u001B[0m\u001B[0;34m,\u001B[0m\u001B[0;34m\u001B[0m\u001B[0;34m\u001B[0m\u001B[0m\n\u001B[0;32m--> 158\u001B[0;31m         dtype=self.dtype)\n\u001B[0m\u001B[1;32m    159\u001B[0m     \u001B[0;32mif\u001B[0m \u001B[0mself\u001B[0m\u001B[0;34m.\u001B[0m\u001B[0muse_bias\u001B[0m\u001B[0;34m:\u001B[0m\u001B[0;34m\u001B[0m\u001B[0;34m\u001B[0m\u001B[0m\n\u001B[1;32m    160\u001B[0m       self.bias = self.add_weight(\n",
      "\u001B[0;32m~/miniconda3/envs/goes/lib/python3.7/site-packages/tensorflow_core/python/keras/engine/base_layer.py\u001B[0m in \u001B[0;36madd_weight\u001B[0;34m(self, name, shape, dtype, initializer, regularizer, trainable, constraint, partitioner, use_resource, synchronization, aggregation, **kwargs)\u001B[0m\n\u001B[1;32m    444\u001B[0m         \u001B[0msynchronization\u001B[0m\u001B[0;34m=\u001B[0m\u001B[0msynchronization\u001B[0m\u001B[0;34m,\u001B[0m\u001B[0;34m\u001B[0m\u001B[0;34m\u001B[0m\u001B[0m\n\u001B[1;32m    445\u001B[0m         \u001B[0maggregation\u001B[0m\u001B[0;34m=\u001B[0m\u001B[0maggregation\u001B[0m\u001B[0;34m,\u001B[0m\u001B[0;34m\u001B[0m\u001B[0;34m\u001B[0m\u001B[0m\n\u001B[0;32m--> 446\u001B[0;31m         caching_device=caching_device)\n\u001B[0m\u001B[1;32m    447\u001B[0m     \u001B[0mbackend\u001B[0m\u001B[0;34m.\u001B[0m\u001B[0mtrack_variable\u001B[0m\u001B[0;34m(\u001B[0m\u001B[0mvariable\u001B[0m\u001B[0;34m)\u001B[0m\u001B[0;34m\u001B[0m\u001B[0;34m\u001B[0m\u001B[0m\n\u001B[1;32m    448\u001B[0m \u001B[0;34m\u001B[0m\u001B[0m\n",
      "\u001B[0;32m~/miniconda3/envs/goes/lib/python3.7/site-packages/tensorflow_core/python/training/tracking/base.py\u001B[0m in \u001B[0;36m_add_variable_with_custom_getter\u001B[0;34m(self, name, shape, dtype, initializer, getter, overwrite, **kwargs_for_getter)\u001B[0m\n\u001B[1;32m    742\u001B[0m         \u001B[0mdtype\u001B[0m\u001B[0;34m=\u001B[0m\u001B[0mdtype\u001B[0m\u001B[0;34m,\u001B[0m\u001B[0;34m\u001B[0m\u001B[0;34m\u001B[0m\u001B[0m\n\u001B[1;32m    743\u001B[0m         \u001B[0minitializer\u001B[0m\u001B[0;34m=\u001B[0m\u001B[0minitializer\u001B[0m\u001B[0;34m,\u001B[0m\u001B[0;34m\u001B[0m\u001B[0;34m\u001B[0m\u001B[0m\n\u001B[0;32m--> 744\u001B[0;31m         **kwargs_for_getter)\n\u001B[0m\u001B[1;32m    745\u001B[0m \u001B[0;34m\u001B[0m\u001B[0m\n\u001B[1;32m    746\u001B[0m     \u001B[0;31m# If we set an initializer and the variable processed it, tracking will not\u001B[0m\u001B[0;34m\u001B[0m\u001B[0;34m\u001B[0m\u001B[0;34m\u001B[0m\u001B[0m\n",
      "\u001B[0;32m~/miniconda3/envs/goes/lib/python3.7/site-packages/tensorflow_core/python/keras/engine/base_layer_utils.py\u001B[0m in \u001B[0;36mmake_variable\u001B[0;34m(name, shape, dtype, initializer, trainable, caching_device, validate_shape, constraint, use_resource, collections, synchronization, aggregation, partitioner)\u001B[0m\n\u001B[1;32m    140\u001B[0m       \u001B[0msynchronization\u001B[0m\u001B[0;34m=\u001B[0m\u001B[0msynchronization\u001B[0m\u001B[0;34m,\u001B[0m\u001B[0;34m\u001B[0m\u001B[0;34m\u001B[0m\u001B[0m\n\u001B[1;32m    141\u001B[0m       \u001B[0maggregation\u001B[0m\u001B[0;34m=\u001B[0m\u001B[0maggregation\u001B[0m\u001B[0;34m,\u001B[0m\u001B[0;34m\u001B[0m\u001B[0;34m\u001B[0m\u001B[0m\n\u001B[0;32m--> 142\u001B[0;31m       shape=variable_shape if variable_shape else None)\n\u001B[0m\u001B[1;32m    143\u001B[0m \u001B[0;34m\u001B[0m\u001B[0m\n\u001B[1;32m    144\u001B[0m \u001B[0;34m\u001B[0m\u001B[0m\n",
      "\u001B[0;32m~/miniconda3/envs/goes/lib/python3.7/site-packages/tensorflow_core/python/ops/variables.py\u001B[0m in \u001B[0;36m__call__\u001B[0;34m(cls, *args, **kwargs)\u001B[0m\n\u001B[1;32m    256\u001B[0m   \u001B[0;32mdef\u001B[0m \u001B[0m__call__\u001B[0m\u001B[0;34m(\u001B[0m\u001B[0mcls\u001B[0m\u001B[0;34m,\u001B[0m \u001B[0;34m*\u001B[0m\u001B[0margs\u001B[0m\u001B[0;34m,\u001B[0m \u001B[0;34m**\u001B[0m\u001B[0mkwargs\u001B[0m\u001B[0;34m)\u001B[0m\u001B[0;34m:\u001B[0m\u001B[0;34m\u001B[0m\u001B[0;34m\u001B[0m\u001B[0m\n\u001B[1;32m    257\u001B[0m     \u001B[0;32mif\u001B[0m \u001B[0mcls\u001B[0m \u001B[0;32mis\u001B[0m \u001B[0mVariableV1\u001B[0m\u001B[0;34m:\u001B[0m\u001B[0;34m\u001B[0m\u001B[0;34m\u001B[0m\u001B[0m\n\u001B[0;32m--> 258\u001B[0;31m       \u001B[0;32mreturn\u001B[0m \u001B[0mcls\u001B[0m\u001B[0;34m.\u001B[0m\u001B[0m_variable_v1_call\u001B[0m\u001B[0;34m(\u001B[0m\u001B[0;34m*\u001B[0m\u001B[0margs\u001B[0m\u001B[0;34m,\u001B[0m \u001B[0;34m**\u001B[0m\u001B[0mkwargs\u001B[0m\u001B[0;34m)\u001B[0m\u001B[0;34m\u001B[0m\u001B[0;34m\u001B[0m\u001B[0m\n\u001B[0m\u001B[1;32m    259\u001B[0m     \u001B[0;32melif\u001B[0m \u001B[0mcls\u001B[0m \u001B[0;32mis\u001B[0m \u001B[0mVariable\u001B[0m\u001B[0;34m:\u001B[0m\u001B[0;34m\u001B[0m\u001B[0;34m\u001B[0m\u001B[0m\n\u001B[1;32m    260\u001B[0m       \u001B[0;32mreturn\u001B[0m \u001B[0mcls\u001B[0m\u001B[0;34m.\u001B[0m\u001B[0m_variable_v2_call\u001B[0m\u001B[0;34m(\u001B[0m\u001B[0;34m*\u001B[0m\u001B[0margs\u001B[0m\u001B[0;34m,\u001B[0m \u001B[0;34m**\u001B[0m\u001B[0mkwargs\u001B[0m\u001B[0;34m)\u001B[0m\u001B[0;34m\u001B[0m\u001B[0;34m\u001B[0m\u001B[0m\n",
      "\u001B[0;32m~/miniconda3/envs/goes/lib/python3.7/site-packages/tensorflow_core/python/ops/variables.py\u001B[0m in \u001B[0;36m_variable_v1_call\u001B[0;34m(cls, initial_value, trainable, collections, validate_shape, caching_device, name, variable_def, dtype, expected_shape, import_scope, constraint, use_resource, synchronization, aggregation, shape)\u001B[0m\n\u001B[1;32m    217\u001B[0m         \u001B[0msynchronization\u001B[0m\u001B[0;34m=\u001B[0m\u001B[0msynchronization\u001B[0m\u001B[0;34m,\u001B[0m\u001B[0;34m\u001B[0m\u001B[0;34m\u001B[0m\u001B[0m\n\u001B[1;32m    218\u001B[0m         \u001B[0maggregation\u001B[0m\u001B[0;34m=\u001B[0m\u001B[0maggregation\u001B[0m\u001B[0;34m,\u001B[0m\u001B[0;34m\u001B[0m\u001B[0;34m\u001B[0m\u001B[0m\n\u001B[0;32m--> 219\u001B[0;31m         shape=shape)\n\u001B[0m\u001B[1;32m    220\u001B[0m \u001B[0;34m\u001B[0m\u001B[0m\n\u001B[1;32m    221\u001B[0m   def _variable_v2_call(cls,\n",
      "\u001B[0;32m~/miniconda3/envs/goes/lib/python3.7/site-packages/tensorflow_core/python/ops/variables.py\u001B[0m in \u001B[0;36mgetter\u001B[0;34m(**kwargs)\u001B[0m\n\u001B[1;32m     63\u001B[0m \u001B[0;34m\u001B[0m\u001B[0m\n\u001B[1;32m     64\u001B[0m   \u001B[0;32mdef\u001B[0m \u001B[0mgetter\u001B[0m\u001B[0;34m(\u001B[0m\u001B[0;34m**\u001B[0m\u001B[0mkwargs\u001B[0m\u001B[0;34m)\u001B[0m\u001B[0;34m:\u001B[0m\u001B[0;34m\u001B[0m\u001B[0;34m\u001B[0m\u001B[0m\n\u001B[0;32m---> 65\u001B[0;31m     \u001B[0;32mreturn\u001B[0m \u001B[0mcaptured_getter\u001B[0m\u001B[0;34m(\u001B[0m\u001B[0mcaptured_previous\u001B[0m\u001B[0;34m,\u001B[0m \u001B[0;34m**\u001B[0m\u001B[0mkwargs\u001B[0m\u001B[0;34m)\u001B[0m\u001B[0;34m\u001B[0m\u001B[0;34m\u001B[0m\u001B[0m\n\u001B[0m\u001B[1;32m     66\u001B[0m \u001B[0;34m\u001B[0m\u001B[0m\n\u001B[1;32m     67\u001B[0m   \u001B[0;32mreturn\u001B[0m \u001B[0mgetter\u001B[0m\u001B[0;34m\u001B[0m\u001B[0;34m\u001B[0m\u001B[0m\n",
      "\u001B[0;32m~/miniconda3/envs/goes/lib/python3.7/site-packages/tensorflow_core/python/distribute/distribute_lib.py\u001B[0m in \u001B[0;36mcreator_with_resource_vars\u001B[0;34m(*args, **kwargs)\u001B[0m\n\u001B[1;32m   1328\u001B[0m         \u001B[0mkwargs\u001B[0m\u001B[0;34m[\u001B[0m\u001B[0;34m\"initial_value\"\u001B[0m\u001B[0;34m]\u001B[0m \u001B[0;34m=\u001B[0m \u001B[0mkwargs\u001B[0m\u001B[0;34m[\u001B[0m\u001B[0;34m\"initial_value\"\u001B[0m\u001B[0;34m]\u001B[0m\u001B[0;34m.\u001B[0m\u001B[0mwrapped_value\u001B[0m\u001B[0;34m\u001B[0m\u001B[0;34m\u001B[0m\u001B[0m\n\u001B[1;32m   1329\u001B[0m \u001B[0;34m\u001B[0m\u001B[0m\n\u001B[0;32m-> 1330\u001B[0;31m       \u001B[0;32mreturn\u001B[0m \u001B[0mself\u001B[0m\u001B[0;34m.\u001B[0m\u001B[0m_create_variable\u001B[0m\u001B[0;34m(\u001B[0m\u001B[0;34m*\u001B[0m\u001B[0margs\u001B[0m\u001B[0;34m,\u001B[0m \u001B[0;34m**\u001B[0m\u001B[0mkwargs\u001B[0m\u001B[0;34m)\u001B[0m\u001B[0;34m\u001B[0m\u001B[0;34m\u001B[0m\u001B[0m\n\u001B[0m\u001B[1;32m   1331\u001B[0m \u001B[0;34m\u001B[0m\u001B[0m\n\u001B[1;32m   1332\u001B[0m     \u001B[0;32mdef\u001B[0m \u001B[0mdistributed_getter\u001B[0m\u001B[0;34m(\u001B[0m\u001B[0mgetter\u001B[0m\u001B[0;34m,\u001B[0m \u001B[0;34m*\u001B[0m\u001B[0margs\u001B[0m\u001B[0;34m,\u001B[0m \u001B[0;34m**\u001B[0m\u001B[0mkwargs\u001B[0m\u001B[0;34m)\u001B[0m\u001B[0;34m:\u001B[0m\u001B[0;34m\u001B[0m\u001B[0;34m\u001B[0m\u001B[0m\n",
      "\u001B[0;32m~/miniconda3/envs/goes/lib/python3.7/site-packages/tensorflow_core/python/distribute/mirrored_strategy.py\u001B[0m in \u001B[0;36m_create_variable\u001B[0;34m(self, next_creator, *args, **kwargs)\u001B[0m\n\u001B[1;32m    546\u001B[0m         \u001B[0mself\u001B[0m\u001B[0;34m.\u001B[0m\u001B[0m_container_strategy\u001B[0m\u001B[0;34m(\u001B[0m\u001B[0;34m)\u001B[0m\u001B[0;34m,\u001B[0m \u001B[0mdevice_map\u001B[0m\u001B[0;34m,\u001B[0m \u001B[0mlogical_device\u001B[0m\u001B[0;34m,\u001B[0m\u001B[0;34m\u001B[0m\u001B[0;34m\u001B[0m\u001B[0m\n\u001B[1;32m    547\u001B[0m         \u001B[0m_real_mirrored_creator\u001B[0m\u001B[0;34m,\u001B[0m \u001B[0mvalues\u001B[0m\u001B[0;34m.\u001B[0m\u001B[0mMirroredVariable\u001B[0m\u001B[0;34m,\u001B[0m\u001B[0;34m\u001B[0m\u001B[0;34m\u001B[0m\u001B[0m\n\u001B[0;32m--> 548\u001B[0;31m         values.SyncOnReadVariable, *args, **kwargs)\n\u001B[0m\u001B[1;32m    549\u001B[0m \u001B[0;34m\u001B[0m\u001B[0m\n\u001B[1;32m    550\u001B[0m   \u001B[0;32mdef\u001B[0m \u001B[0m_validate_colocate_with_variable\u001B[0m\u001B[0;34m(\u001B[0m\u001B[0mself\u001B[0m\u001B[0;34m,\u001B[0m \u001B[0mcolocate_with_variable\u001B[0m\u001B[0;34m)\u001B[0m\u001B[0;34m:\u001B[0m\u001B[0;34m\u001B[0m\u001B[0;34m\u001B[0m\u001B[0m\n",
      "\u001B[0;32m~/miniconda3/envs/goes/lib/python3.7/site-packages/tensorflow_core/python/distribute/values.py\u001B[0m in \u001B[0;36mcreate_mirrored_variable\u001B[0;34m(strategy, device_map, logical_device, real_mirrored_creator, mirrored_cls, sync_on_read_cls, *args, **kwargs)\u001B[0m\n\u001B[1;32m   1032\u001B[0m   \u001B[0;32mwith\u001B[0m \u001B[0mtape\u001B[0m\u001B[0;34m.\u001B[0m\u001B[0mstop_recording\u001B[0m\u001B[0;34m(\u001B[0m\u001B[0;34m)\u001B[0m\u001B[0;34m:\u001B[0m\u001B[0;34m\u001B[0m\u001B[0;34m\u001B[0m\u001B[0m\n\u001B[1;32m   1033\u001B[0m     \u001B[0mdevices\u001B[0m \u001B[0;34m=\u001B[0m \u001B[0mdevice_map\u001B[0m\u001B[0;34m.\u001B[0m\u001B[0mlogical_to_actual_devices\u001B[0m\u001B[0;34m(\u001B[0m\u001B[0mlogical_device\u001B[0m\u001B[0;34m)\u001B[0m\u001B[0;34m\u001B[0m\u001B[0;34m\u001B[0m\u001B[0m\n\u001B[0;32m-> 1034\u001B[0;31m     \u001B[0mvalue_list\u001B[0m \u001B[0;34m=\u001B[0m \u001B[0mreal_mirrored_creator\u001B[0m\u001B[0;34m(\u001B[0m\u001B[0mdevices\u001B[0m\u001B[0;34m,\u001B[0m \u001B[0;34m*\u001B[0m\u001B[0margs\u001B[0m\u001B[0;34m,\u001B[0m \u001B[0;34m**\u001B[0m\u001B[0mkwargs\u001B[0m\u001B[0;34m)\u001B[0m\u001B[0;34m\u001B[0m\u001B[0;34m\u001B[0m\u001B[0m\n\u001B[0m\u001B[1;32m   1035\u001B[0m \u001B[0;34m\u001B[0m\u001B[0m\n\u001B[1;32m   1036\u001B[0m     \u001B[0mvar_cls\u001B[0m \u001B[0;34m=\u001B[0m \u001B[0msync_on_read_cls\u001B[0m \u001B[0;32mif\u001B[0m \u001B[0mis_sync_on_read\u001B[0m \u001B[0;32melse\u001B[0m \u001B[0mmirrored_cls\u001B[0m\u001B[0;34m\u001B[0m\u001B[0;34m\u001B[0m\u001B[0m\n",
      "\u001B[0;32m~/miniconda3/envs/goes/lib/python3.7/site-packages/tensorflow_core/python/distribute/mirrored_strategy.py\u001B[0m in \u001B[0;36m_real_mirrored_creator\u001B[0;34m(devices, *args, **kwargs)\u001B[0m\n\u001B[1;32m    538\u001B[0m             \u001B[0;31m# variable creation.\u001B[0m\u001B[0;34m\u001B[0m\u001B[0;34m\u001B[0m\u001B[0;34m\u001B[0m\u001B[0m\n\u001B[1;32m    539\u001B[0m             \u001B[0;32mwith\u001B[0m \u001B[0mtape\u001B[0m\u001B[0;34m.\u001B[0m\u001B[0mstop_recording\u001B[0m\u001B[0;34m(\u001B[0m\u001B[0;34m)\u001B[0m\u001B[0;34m:\u001B[0m\u001B[0;34m\u001B[0m\u001B[0;34m\u001B[0m\u001B[0m\n\u001B[0;32m--> 540\u001B[0;31m               \u001B[0mv\u001B[0m \u001B[0;34m=\u001B[0m \u001B[0mnext_creator\u001B[0m\u001B[0;34m(\u001B[0m\u001B[0;34m*\u001B[0m\u001B[0margs\u001B[0m\u001B[0;34m,\u001B[0m \u001B[0;34m**\u001B[0m\u001B[0mkwargs\u001B[0m\u001B[0;34m)\u001B[0m\u001B[0;34m\u001B[0m\u001B[0;34m\u001B[0m\u001B[0m\n\u001B[0m\u001B[1;32m    541\u001B[0m           \u001B[0;32massert\u001B[0m \u001B[0;32mnot\u001B[0m \u001B[0misinstance\u001B[0m\u001B[0;34m(\u001B[0m\u001B[0mv\u001B[0m\u001B[0;34m,\u001B[0m \u001B[0mvalues\u001B[0m\u001B[0;34m.\u001B[0m\u001B[0mDistributedVariable\u001B[0m\u001B[0;34m)\u001B[0m\u001B[0;34m\u001B[0m\u001B[0;34m\u001B[0m\u001B[0m\n\u001B[1;32m    542\u001B[0m           \u001B[0mvalue_list\u001B[0m\u001B[0;34m.\u001B[0m\u001B[0mappend\u001B[0m\u001B[0;34m(\u001B[0m\u001B[0mv\u001B[0m\u001B[0;34m)\u001B[0m\u001B[0;34m\u001B[0m\u001B[0;34m\u001B[0m\u001B[0m\n",
      "\u001B[0;32m~/miniconda3/envs/goes/lib/python3.7/site-packages/tensorflow_core/python/ops/variables.py\u001B[0m in \u001B[0;36m<lambda>\u001B[0;34m(**kwargs)\u001B[0m\n\u001B[1;32m    195\u001B[0m                         shape=None):\n\u001B[1;32m    196\u001B[0m     \u001B[0;34m\"\"\"Call on Variable class. Useful to force the signature.\"\"\"\u001B[0m\u001B[0;34m\u001B[0m\u001B[0;34m\u001B[0m\u001B[0m\n\u001B[0;32m--> 197\u001B[0;31m     \u001B[0mprevious_getter\u001B[0m \u001B[0;34m=\u001B[0m \u001B[0;32mlambda\u001B[0m \u001B[0;34m**\u001B[0m\u001B[0mkwargs\u001B[0m\u001B[0;34m:\u001B[0m \u001B[0mdefault_variable_creator\u001B[0m\u001B[0;34m(\u001B[0m\u001B[0;32mNone\u001B[0m\u001B[0;34m,\u001B[0m \u001B[0;34m**\u001B[0m\u001B[0mkwargs\u001B[0m\u001B[0;34m)\u001B[0m\u001B[0;34m\u001B[0m\u001B[0;34m\u001B[0m\u001B[0m\n\u001B[0m\u001B[1;32m    198\u001B[0m     \u001B[0;32mfor\u001B[0m \u001B[0m_\u001B[0m\u001B[0;34m,\u001B[0m \u001B[0mgetter\u001B[0m \u001B[0;32min\u001B[0m \u001B[0mops\u001B[0m\u001B[0;34m.\u001B[0m\u001B[0mget_default_graph\u001B[0m\u001B[0;34m(\u001B[0m\u001B[0;34m)\u001B[0m\u001B[0;34m.\u001B[0m\u001B[0m_variable_creator_stack\u001B[0m\u001B[0;34m:\u001B[0m  \u001B[0;31m# pylint: disable=protected-access\u001B[0m\u001B[0;34m\u001B[0m\u001B[0;34m\u001B[0m\u001B[0m\n\u001B[1;32m    199\u001B[0m       \u001B[0mprevious_getter\u001B[0m \u001B[0;34m=\u001B[0m \u001B[0m_make_getter\u001B[0m\u001B[0;34m(\u001B[0m\u001B[0mgetter\u001B[0m\u001B[0;34m,\u001B[0m \u001B[0mprevious_getter\u001B[0m\u001B[0;34m)\u001B[0m\u001B[0;34m\u001B[0m\u001B[0;34m\u001B[0m\u001B[0m\n",
      "\u001B[0;32m~/miniconda3/envs/goes/lib/python3.7/site-packages/tensorflow_core/python/ops/variable_scope.py\u001B[0m in \u001B[0;36mdefault_variable_creator\u001B[0;34m(next_creator, **kwargs)\u001B[0m\n\u001B[1;32m   2594\u001B[0m         \u001B[0msynchronization\u001B[0m\u001B[0;34m=\u001B[0m\u001B[0msynchronization\u001B[0m\u001B[0;34m,\u001B[0m\u001B[0;34m\u001B[0m\u001B[0;34m\u001B[0m\u001B[0m\n\u001B[1;32m   2595\u001B[0m         \u001B[0maggregation\u001B[0m\u001B[0;34m=\u001B[0m\u001B[0maggregation\u001B[0m\u001B[0;34m,\u001B[0m\u001B[0;34m\u001B[0m\u001B[0;34m\u001B[0m\u001B[0m\n\u001B[0;32m-> 2596\u001B[0;31m         shape=shape)\n\u001B[0m\u001B[1;32m   2597\u001B[0m   \u001B[0;32melse\u001B[0m\u001B[0;34m:\u001B[0m\u001B[0;34m\u001B[0m\u001B[0;34m\u001B[0m\u001B[0m\n\u001B[1;32m   2598\u001B[0m     return variables.RefVariable(\n",
      "\u001B[0;32m~/miniconda3/envs/goes/lib/python3.7/site-packages/tensorflow_core/python/ops/variables.py\u001B[0m in \u001B[0;36m__call__\u001B[0;34m(cls, *args, **kwargs)\u001B[0m\n\u001B[1;32m    260\u001B[0m       \u001B[0;32mreturn\u001B[0m \u001B[0mcls\u001B[0m\u001B[0;34m.\u001B[0m\u001B[0m_variable_v2_call\u001B[0m\u001B[0;34m(\u001B[0m\u001B[0;34m*\u001B[0m\u001B[0margs\u001B[0m\u001B[0;34m,\u001B[0m \u001B[0;34m**\u001B[0m\u001B[0mkwargs\u001B[0m\u001B[0;34m)\u001B[0m\u001B[0;34m\u001B[0m\u001B[0;34m\u001B[0m\u001B[0m\n\u001B[1;32m    261\u001B[0m     \u001B[0;32melse\u001B[0m\u001B[0;34m:\u001B[0m\u001B[0;34m\u001B[0m\u001B[0;34m\u001B[0m\u001B[0m\n\u001B[0;32m--> 262\u001B[0;31m       \u001B[0;32mreturn\u001B[0m \u001B[0msuper\u001B[0m\u001B[0;34m(\u001B[0m\u001B[0mVariableMetaclass\u001B[0m\u001B[0;34m,\u001B[0m \u001B[0mcls\u001B[0m\u001B[0;34m)\u001B[0m\u001B[0;34m.\u001B[0m\u001B[0m__call__\u001B[0m\u001B[0;34m(\u001B[0m\u001B[0;34m*\u001B[0m\u001B[0margs\u001B[0m\u001B[0;34m,\u001B[0m \u001B[0;34m**\u001B[0m\u001B[0mkwargs\u001B[0m\u001B[0;34m)\u001B[0m\u001B[0;34m\u001B[0m\u001B[0;34m\u001B[0m\u001B[0m\n\u001B[0m\u001B[1;32m    263\u001B[0m \u001B[0;34m\u001B[0m\u001B[0m\n\u001B[1;32m    264\u001B[0m \u001B[0;34m\u001B[0m\u001B[0m\n",
      "\u001B[0;32m~/miniconda3/envs/goes/lib/python3.7/site-packages/tensorflow_core/python/ops/resource_variable_ops.py\u001B[0m in \u001B[0;36m__init__\u001B[0;34m(self, initial_value, trainable, collections, validate_shape, caching_device, name, dtype, variable_def, import_scope, constraint, distribute_strategy, synchronization, aggregation, shape)\u001B[0m\n\u001B[1;32m   1409\u001B[0m           \u001B[0maggregation\u001B[0m\u001B[0;34m=\u001B[0m\u001B[0maggregation\u001B[0m\u001B[0;34m,\u001B[0m\u001B[0;34m\u001B[0m\u001B[0;34m\u001B[0m\u001B[0m\n\u001B[1;32m   1410\u001B[0m           \u001B[0mshape\u001B[0m\u001B[0;34m=\u001B[0m\u001B[0mshape\u001B[0m\u001B[0;34m,\u001B[0m\u001B[0;34m\u001B[0m\u001B[0;34m\u001B[0m\u001B[0m\n\u001B[0;32m-> 1411\u001B[0;31m           distribute_strategy=distribute_strategy)\n\u001B[0m\u001B[1;32m   1412\u001B[0m \u001B[0;34m\u001B[0m\u001B[0m\n\u001B[1;32m   1413\u001B[0m   def _init_from_args(self,\n",
      "\u001B[0;32m~/miniconda3/envs/goes/lib/python3.7/site-packages/tensorflow_core/python/ops/resource_variable_ops.py\u001B[0m in \u001B[0;36m_init_from_args\u001B[0;34m(self, initial_value, trainable, collections, caching_device, name, dtype, constraint, synchronization, aggregation, distribute_strategy, shape)\u001B[0m\n\u001B[1;32m   1540\u001B[0m           \u001B[0;32mwith\u001B[0m \u001B[0mops\u001B[0m\u001B[0;34m.\u001B[0m\u001B[0mname_scope\u001B[0m\u001B[0;34m(\u001B[0m\u001B[0;34m\"Initializer\"\u001B[0m\u001B[0;34m)\u001B[0m\u001B[0;34m,\u001B[0m \u001B[0mdevice_context_manager\u001B[0m\u001B[0;34m(\u001B[0m\u001B[0;32mNone\u001B[0m\u001B[0;34m)\u001B[0m\u001B[0;34m:\u001B[0m\u001B[0;34m\u001B[0m\u001B[0;34m\u001B[0m\u001B[0m\n\u001B[1;32m   1541\u001B[0m             initial_value = ops.convert_to_tensor(\n\u001B[0;32m-> 1542\u001B[0;31m                 \u001B[0minitial_value\u001B[0m\u001B[0;34m(\u001B[0m\u001B[0;34m)\u001B[0m \u001B[0;32mif\u001B[0m \u001B[0minit_from_fn\u001B[0m \u001B[0;32melse\u001B[0m \u001B[0minitial_value\u001B[0m\u001B[0;34m,\u001B[0m\u001B[0;34m\u001B[0m\u001B[0;34m\u001B[0m\u001B[0m\n\u001B[0m\u001B[1;32m   1543\u001B[0m                 name=\"initial_value\", dtype=dtype)\n\u001B[1;32m   1544\u001B[0m           \u001B[0;32mif\u001B[0m \u001B[0mshape\u001B[0m \u001B[0;32mis\u001B[0m \u001B[0;32mnot\u001B[0m \u001B[0;32mNone\u001B[0m\u001B[0;34m:\u001B[0m\u001B[0;34m\u001B[0m\u001B[0;34m\u001B[0m\u001B[0m\n",
      "\u001B[0;32m~/miniconda3/envs/goes/lib/python3.7/site-packages/tensorflow_core/python/keras/engine/base_layer_utils.py\u001B[0m in \u001B[0;36m<lambda>\u001B[0;34m()\u001B[0m\n\u001B[1;32m    120\u001B[0m           (type(init_ops.Initializer), type(init_ops_v2.Initializer))):\n\u001B[1;32m    121\u001B[0m         \u001B[0minitializer\u001B[0m \u001B[0;34m=\u001B[0m \u001B[0minitializer\u001B[0m\u001B[0;34m(\u001B[0m\u001B[0;34m)\u001B[0m\u001B[0;34m\u001B[0m\u001B[0;34m\u001B[0m\u001B[0m\n\u001B[0;32m--> 122\u001B[0;31m       \u001B[0minit_val\u001B[0m \u001B[0;34m=\u001B[0m \u001B[0;32mlambda\u001B[0m\u001B[0;34m:\u001B[0m \u001B[0minitializer\u001B[0m\u001B[0;34m(\u001B[0m\u001B[0mshape\u001B[0m\u001B[0;34m,\u001B[0m \u001B[0mdtype\u001B[0m\u001B[0;34m=\u001B[0m\u001B[0mdtype\u001B[0m\u001B[0;34m)\u001B[0m\u001B[0;34m\u001B[0m\u001B[0;34m\u001B[0m\u001B[0m\n\u001B[0m\u001B[1;32m    123\u001B[0m       \u001B[0mvariable_dtype\u001B[0m \u001B[0;34m=\u001B[0m \u001B[0mdtype\u001B[0m\u001B[0;34m.\u001B[0m\u001B[0mbase_dtype\u001B[0m\u001B[0;34m\u001B[0m\u001B[0;34m\u001B[0m\u001B[0m\n\u001B[1;32m    124\u001B[0m   \u001B[0;32mif\u001B[0m \u001B[0muse_resource\u001B[0m \u001B[0;32mis\u001B[0m \u001B[0;32mNone\u001B[0m\u001B[0;34m:\u001B[0m\u001B[0;34m\u001B[0m\u001B[0;34m\u001B[0m\u001B[0m\n",
      "\u001B[0;32m~/miniconda3/envs/goes/lib/python3.7/site-packages/tensorflow_core/python/ops/init_ops_v2.py\u001B[0m in \u001B[0;36m__call__\u001B[0;34m(self, shape, dtype)\u001B[0m\n\u001B[1;32m    423\u001B[0m     \u001B[0;32melse\u001B[0m\u001B[0;34m:\u001B[0m\u001B[0;34m\u001B[0m\u001B[0;34m\u001B[0m\u001B[0m\n\u001B[1;32m    424\u001B[0m       \u001B[0mlimit\u001B[0m \u001B[0;34m=\u001B[0m \u001B[0mmath\u001B[0m\u001B[0;34m.\u001B[0m\u001B[0msqrt\u001B[0m\u001B[0;34m(\u001B[0m\u001B[0;36m3.0\u001B[0m \u001B[0;34m*\u001B[0m \u001B[0mscale\u001B[0m\u001B[0;34m)\u001B[0m\u001B[0;34m\u001B[0m\u001B[0;34m\u001B[0m\u001B[0m\n\u001B[0;32m--> 425\u001B[0;31m       \u001B[0;32mreturn\u001B[0m \u001B[0mself\u001B[0m\u001B[0;34m.\u001B[0m\u001B[0m_random_generator\u001B[0m\u001B[0;34m.\u001B[0m\u001B[0mrandom_uniform\u001B[0m\u001B[0;34m(\u001B[0m\u001B[0mshape\u001B[0m\u001B[0;34m,\u001B[0m \u001B[0;34m-\u001B[0m\u001B[0mlimit\u001B[0m\u001B[0;34m,\u001B[0m \u001B[0mlimit\u001B[0m\u001B[0;34m,\u001B[0m \u001B[0mdtype\u001B[0m\u001B[0;34m)\u001B[0m\u001B[0;34m\u001B[0m\u001B[0;34m\u001B[0m\u001B[0m\n\u001B[0m\u001B[1;32m    426\u001B[0m \u001B[0;34m\u001B[0m\u001B[0m\n\u001B[1;32m    427\u001B[0m   \u001B[0;32mdef\u001B[0m \u001B[0mget_config\u001B[0m\u001B[0;34m(\u001B[0m\u001B[0mself\u001B[0m\u001B[0;34m)\u001B[0m\u001B[0;34m:\u001B[0m\u001B[0;34m\u001B[0m\u001B[0;34m\u001B[0m\u001B[0m\n",
      "\u001B[0;32m~/miniconda3/envs/goes/lib/python3.7/site-packages/tensorflow_core/python/ops/init_ops_v2.py\u001B[0m in \u001B[0;36mrandom_uniform\u001B[0;34m(self, shape, minval, maxval, dtype)\u001B[0m\n\u001B[1;32m    786\u001B[0m       \u001B[0mop\u001B[0m \u001B[0;34m=\u001B[0m \u001B[0mrandom_ops\u001B[0m\u001B[0;34m.\u001B[0m\u001B[0mrandom_uniform\u001B[0m\u001B[0;34m\u001B[0m\u001B[0;34m\u001B[0m\u001B[0m\n\u001B[1;32m    787\u001B[0m     return op(\n\u001B[0;32m--> 788\u001B[0;31m         shape=shape, minval=minval, maxval=maxval, dtype=dtype, seed=self.seed)\n\u001B[0m\u001B[1;32m    789\u001B[0m \u001B[0;34m\u001B[0m\u001B[0m\n\u001B[1;32m    790\u001B[0m   \u001B[0;32mdef\u001B[0m \u001B[0mtruncated_normal\u001B[0m\u001B[0;34m(\u001B[0m\u001B[0mself\u001B[0m\u001B[0;34m,\u001B[0m \u001B[0mshape\u001B[0m\u001B[0;34m,\u001B[0m \u001B[0mmean\u001B[0m\u001B[0;34m,\u001B[0m \u001B[0mstddev\u001B[0m\u001B[0;34m,\u001B[0m \u001B[0mdtype\u001B[0m\u001B[0;34m)\u001B[0m\u001B[0;34m:\u001B[0m\u001B[0;34m\u001B[0m\u001B[0;34m\u001B[0m\u001B[0m\n",
      "\u001B[0;32m~/miniconda3/envs/goes/lib/python3.7/site-packages/tensorflow_core/python/ops/random_ops.py\u001B[0m in \u001B[0;36mrandom_uniform\u001B[0;34m(shape, minval, maxval, dtype, seed, name)\u001B[0m\n\u001B[1;32m    270\u001B[0m           shape, minval, maxval, seed=seed1, seed2=seed2, name=name)\n\u001B[1;32m    271\u001B[0m     \u001B[0;32melse\u001B[0m\u001B[0;34m:\u001B[0m\u001B[0;34m\u001B[0m\u001B[0;34m\u001B[0m\u001B[0m\n\u001B[0;32m--> 272\u001B[0;31m       \u001B[0mrnd\u001B[0m \u001B[0;34m=\u001B[0m \u001B[0mgen_random_ops\u001B[0m\u001B[0;34m.\u001B[0m\u001B[0mrandom_uniform\u001B[0m\u001B[0;34m(\u001B[0m\u001B[0mshape\u001B[0m\u001B[0;34m,\u001B[0m \u001B[0mdtype\u001B[0m\u001B[0;34m,\u001B[0m \u001B[0mseed\u001B[0m\u001B[0;34m=\u001B[0m\u001B[0mseed1\u001B[0m\u001B[0;34m,\u001B[0m \u001B[0mseed2\u001B[0m\u001B[0;34m=\u001B[0m\u001B[0mseed2\u001B[0m\u001B[0;34m)\u001B[0m\u001B[0;34m\u001B[0m\u001B[0;34m\u001B[0m\u001B[0m\n\u001B[0m\u001B[1;32m    273\u001B[0m       \u001B[0mresult\u001B[0m \u001B[0;34m=\u001B[0m \u001B[0mmath_ops\u001B[0m\u001B[0;34m.\u001B[0m\u001B[0madd\u001B[0m\u001B[0;34m(\u001B[0m\u001B[0mrnd\u001B[0m \u001B[0;34m*\u001B[0m \u001B[0;34m(\u001B[0m\u001B[0mmaxval\u001B[0m \u001B[0;34m-\u001B[0m \u001B[0mminval\u001B[0m\u001B[0;34m)\u001B[0m\u001B[0;34m,\u001B[0m \u001B[0mminval\u001B[0m\u001B[0;34m,\u001B[0m \u001B[0mname\u001B[0m\u001B[0;34m=\u001B[0m\u001B[0mname\u001B[0m\u001B[0;34m)\u001B[0m\u001B[0;34m\u001B[0m\u001B[0;34m\u001B[0m\u001B[0m\n\u001B[1;32m    274\u001B[0m     \u001B[0;31m# TODO(b/132092188): C++ shape inference inside functional ops does not\u001B[0m\u001B[0;34m\u001B[0m\u001B[0;34m\u001B[0m\u001B[0;34m\u001B[0m\u001B[0m\n",
      "\u001B[0;32m~/miniconda3/envs/goes/lib/python3.7/site-packages/tensorflow_core/python/ops/gen_random_ops.py\u001B[0m in \u001B[0;36mrandom_uniform\u001B[0;34m(shape, dtype, seed, seed2, name)\u001B[0m\n\u001B[1;32m    713\u001B[0m       _result = _pywrap_tensorflow.TFE_Py_FastPathExecute(\n\u001B[1;32m    714\u001B[0m         \u001B[0m_ctx\u001B[0m\u001B[0;34m.\u001B[0m\u001B[0m_context_handle\u001B[0m\u001B[0;34m,\u001B[0m \u001B[0mtld\u001B[0m\u001B[0;34m.\u001B[0m\u001B[0mdevice_name\u001B[0m\u001B[0;34m,\u001B[0m \u001B[0;34m\"RandomUniform\"\u001B[0m\u001B[0;34m,\u001B[0m \u001B[0mname\u001B[0m\u001B[0;34m,\u001B[0m\u001B[0;34m\u001B[0m\u001B[0;34m\u001B[0m\u001B[0m\n\u001B[0;32m--> 715\u001B[0;31m         tld.op_callbacks, shape, \"seed\", seed, \"seed2\", seed2, \"dtype\", dtype)\n\u001B[0m\u001B[1;32m    716\u001B[0m       \u001B[0;32mreturn\u001B[0m \u001B[0m_result\u001B[0m\u001B[0;34m\u001B[0m\u001B[0;34m\u001B[0m\u001B[0m\n\u001B[1;32m    717\u001B[0m     \u001B[0;32mexcept\u001B[0m \u001B[0m_core\u001B[0m\u001B[0;34m.\u001B[0m\u001B[0m_FallbackException\u001B[0m\u001B[0;34m:\u001B[0m\u001B[0;34m\u001B[0m\u001B[0;34m\u001B[0m\u001B[0m\n",
      "\u001B[0;31mKeyboardInterrupt\u001B[0m: "
     ]
    }
   ],
   "source": [
    "strategy = tf.distribute.MirroredStrategy()\n",
    "with strategy.scope():\n",
    "    bcn = BaseConvNet(min_filters=16, filter_growth_rate=1.5, filter_width=5, pooling_width=2, pooling=\"max\", data_format=\"channels_last\",\n",
    "                      verbose=1, loss=\"mae\", batch_size=512, epochs=30, use_dropout=False, dropout_alpha=0.1, l2_alpha=0, \n",
    "                      min_data_width=4, dense_neurons=64, learning_rate=0.0001, hidden_activation=\"relu\")\n",
    "    bcn.fit(norm_train_data[:, :, :, :], dt_df[\"vmax_bt_new_dt_24\"].values)"
   ]
  },
  {
   "cell_type": "code",
   "execution_count": 33,
   "metadata": {},
   "outputs": [
    {
     "name": "stdout",
     "output_type": "stream",
     "text": [
      "Conv input shape (125, 126, 12)\n",
      "5\n",
      "None\n",
      "Model: \"model\"\n",
      "_________________________________________________________________\n",
      "Layer (type)                 Output Shape              Param #   \n",
      "=================================================================\n",
      "conv_input (InputLayer)      [(None, 125, 126, 12)]    0         \n",
      "_________________________________________________________________\n",
      "conv_00 (Conv2D)             (None, 125, 126, 16)      4816      \n",
      "_________________________________________________________________\n",
      "hidden_activation_00 (Activa (None, 125, 126, 16)      0         \n",
      "_________________________________________________________________\n",
      "pooling_00 (MaxPooling2D)    (None, 62, 63, 16)        0         \n",
      "_________________________________________________________________\n",
      "conv_01 (Conv2D)             (None, 62, 63, 24)        9624      \n",
      "_________________________________________________________________\n",
      "hidden_activation_01 (Activa (None, 62, 63, 24)        0         \n",
      "_________________________________________________________________\n",
      "pooling_01 (MaxPooling2D)    (None, 31, 31, 24)        0         \n",
      "_________________________________________________________________\n",
      "conv_02 (Conv2D)             (None, 31, 31, 36)        21636     \n",
      "_________________________________________________________________\n",
      "hidden_activation_02 (Activa (None, 31, 31, 36)        0         \n",
      "_________________________________________________________________\n",
      "pooling_02 (MaxPooling2D)    (None, 15, 15, 36)        0         \n",
      "_________________________________________________________________\n",
      "conv_03 (Conv2D)             (None, 15, 15, 54)        48654     \n",
      "_________________________________________________________________\n",
      "hidden_activation_03 (Activa (None, 15, 15, 54)        0         \n",
      "_________________________________________________________________\n",
      "pooling_03 (MaxPooling2D)    (None, 7, 7, 54)          0         \n",
      "_________________________________________________________________\n",
      "conv_04 (Conv2D)             (None, 7, 7, 81)          109431    \n",
      "_________________________________________________________________\n",
      "hidden_activation_04 (Activa (None, 7, 7, 81)          0         \n",
      "_________________________________________________________________\n",
      "pooling_04 (MaxPooling2D)    (None, 3, 3, 81)          0         \n",
      "_________________________________________________________________\n",
      "flatten (Flatten)            (None, 729)               0         \n",
      "_________________________________________________________________\n",
      "dense_hidden (Dense)         (None, 32)                23360     \n",
      "_________________________________________________________________\n",
      "hidden_dense_activation (Act (None, 32)                0         \n",
      "_________________________________________________________________\n",
      "dense_output (Dense)         (None, 1)                 33        \n",
      "_________________________________________________________________\n",
      "activation_output (Activatio (None, 1)                 0         \n",
      "=================================================================\n",
      "Total params: 217,554\n",
      "Trainable params: 217,554\n",
      "Non-trainable params: 0\n",
      "_________________________________________________________________\n",
      "None\n",
      "Train on 21447 samples\n",
      "Epoch 1/30\n",
      "21447/21447 [==============================] - 25s 1ms/sample - loss: 0.0695\n",
      "Epoch 2/30\n",
      "21447/21447 [==============================] - 9s 427us/sample - loss: 0.0448\n",
      "Epoch 3/30\n",
      "21447/21447 [==============================] - 8s 394us/sample - loss: 0.0442\n",
      "Epoch 4/30\n",
      "21447/21447 [==============================] - 12s 574us/sample - loss: 0.0438\n",
      "Epoch 5/30\n",
      "21447/21447 [==============================] - 12s 567us/sample - loss: 0.0431\n",
      "Epoch 6/30\n",
      "21447/21447 [==============================] - 12s 572us/sample - loss: 0.0427\n",
      "Epoch 7/30\n",
      "21447/21447 [==============================] - 12s 568us/sample - loss: 0.0420\n",
      "Epoch 8/30\n",
      "21447/21447 [==============================] - 13s 586us/sample - loss: 0.0402\n",
      "Epoch 9/30\n",
      "21447/21447 [==============================] - 12s 556us/sample - loss: 0.0379\n",
      "Epoch 10/30\n",
      "21447/21447 [==============================] - 12s 549us/sample - loss: 0.0358\n",
      "Epoch 11/30\n",
      "21447/21447 [==============================] - 12s 579us/sample - loss: 0.0359\n",
      "Epoch 12/30\n",
      "21447/21447 [==============================] - 12s 560us/sample - loss: 0.0349\n",
      "Epoch 13/30\n",
      "21447/21447 [==============================] - 12s 571us/sample - loss: 0.0345\n",
      "Epoch 14/30\n",
      "21447/21447 [==============================] - 9s 439us/sample - loss: 0.0339\n",
      "Epoch 15/30\n",
      "21447/21447 [==============================] - 8s 387us/sample - loss: 0.0336\n",
      "Epoch 16/30\n",
      "21447/21447 [==============================] - 12s 539us/sample - loss: 0.0324\n",
      "Epoch 17/30\n",
      "21447/21447 [==============================] - 12s 563us/sample - loss: 0.0321\n",
      "Epoch 18/30\n",
      "21447/21447 [==============================] - 12s 571us/sample - loss: 0.0317\n",
      "Epoch 19/30\n",
      "21447/21447 [==============================] - 12s 568us/sample - loss: 0.0313\n",
      "Epoch 20/30\n",
      "21447/21447 [==============================] - 12s 568us/sample - loss: 0.0312\n",
      "Epoch 21/30\n",
      "21447/21447 [==============================] - 12s 575us/sample - loss: 0.0320\n",
      "Epoch 22/30\n",
      "21447/21447 [==============================] - 13s 583us/sample - loss: 0.0297\n",
      "Epoch 23/30\n",
      "21447/21447 [==============================] - 13s 588us/sample - loss: 0.0293\n",
      "Epoch 24/30\n",
      "21447/21447 [==============================] - 12s 560us/sample - loss: 0.0286\n",
      "Epoch 25/30\n",
      "21447/21447 [==============================] - 12s 554us/sample - loss: 0.0280\n",
      "Epoch 26/30\n",
      "21447/21447 [==============================] - 9s 442us/sample - loss: 0.0276\n",
      "Epoch 27/30\n",
      "21447/21447 [==============================] - 8s 366us/sample - loss: 0.0287\n",
      "Epoch 28/30\n",
      "21447/21447 [==============================] - 10s 480us/sample - loss: 0.0277\n",
      "Epoch 29/30\n",
      "21447/21447 [==============================] - 11s 535us/sample - loss: 0.0259\n",
      "Epoch 30/30\n",
      "21447/21447 [==============================] - 12s 540us/sample - loss: 0.0260\n"
     ]
    }
   ],
   "source": [
    "\n",
    "bcn_prob = BaseConvNet(min_filters=16, filter_growth_rate=1.5, filter_width=5, pooling_width=2, pooling=\"max\", data_format=\"channels_last\",\n",
    "                  verbose=1, loss=\"mse\", batch_size=256, epochs=30, use_dropout=False, dropout_alpha=0.1, l2_alpha=0, \n",
    "                  min_data_width=4, dense_neurons=32, learning_rate=0.0001, hidden_activation=\"relu\", output_type=\"sigmoid\")\n",
    "bcn_prob.fit(norm_train_data[:, :, :, :], np.where(dt_df[\"vmax_bt_new_dt_24\"].values >= 30, 1, 0))"
   ]
  },
  {
   "cell_type": "code",
   "execution_count": 187,
   "metadata": {},
   "outputs": [
    {
     "data": {
      "text/plain": [
       "3.043010752688172"
      ]
     },
     "execution_count": 187,
     "metadata": {},
     "output_type": "execute_result"
    }
   ],
   "source": [
    "283 / 93"
   ]
  },
  {
   "cell_type": "code",
   "execution_count": 188,
   "metadata": {},
   "outputs": [
    {
     "data": {
      "text/plain": [
       "5.316666666666666"
      ]
     },
     "execution_count": 188,
     "metadata": {},
     "output_type": "execute_result"
    }
   ],
   "source": [
    "319 / 60"
   ]
  },
  {
   "cell_type": "code",
   "execution_count": 34,
   "metadata": {},
   "outputs": [],
   "source": [
    "cnn_prob_preds = bcn_prob.predict(norm_val_data[:, :, :, :]).ravel()"
   ]
  },
  {
   "cell_type": "code",
   "execution_count": 35,
   "metadata": {},
   "outputs": [
    {
     "data": {
      "text/plain": [
       "(array([6918.,  334.,  185.,  104.,   83.,   53.,   40.,   19.,   23.,\n",
       "          10.]),\n",
       " array([6.8795101e-14, 9.4171576e-02, 1.8834315e-01, 2.8251472e-01,\n",
       "        3.7668630e-01, 4.7085789e-01, 5.6502944e-01, 6.5920103e-01,\n",
       "        7.5337261e-01, 8.4754419e-01, 9.4171578e-01], dtype=float32),\n",
       " <a list of 10 Patch objects>)"
      ]
     },
     "execution_count": 35,
     "metadata": {},
     "output_type": "execute_result"
    },
    {
     "data": {
      "image/png": "[encoded data removed]",
      "text/plain": [
       "<Figure size 432x288 with 1 Axes>"
      ]
     },
     "metadata": {
      "needs_background": "light"
     },
     "output_type": "display_data"
    }
   ],
   "source": [
    "plt.hist(cnn_prob_preds)"
   ]
  },
  {
   "cell_type": "code",
   "execution_count": 39,
   "metadata": {},
   "outputs": [
    {
     "data": {
      "text/plain": [
       "0.0059701253672579686"
      ]
     },
     "execution_count": 39,
     "metadata": {},
     "output_type": "execute_result"
    }
   ],
   "source": [
    "cnn_rel = DistributedReliability()\n",
    "cnn_rel.update(cnn_prob_preds, np.where(dt_df_2018[\"vmax_bt_new_dt_24\"] >= 30, 1, 0))\n",
    "cnn_rel.brier_skill_score()"
   ]
  },
  {
   "cell_type": "code",
   "execution_count": 40,
   "metadata": {},
   "outputs": [],
   "source": [
    "from mpl_toolkits.axes_grid1.inset_locator import inset_axes, InsetPosition\n",
    "\n",
    "def attributes_diagram(rel_objs, obj_labels, colors, markers, filename, figsize=(8, 8), xlabel=\"Forecast Probability\",\n",
    "                       ylabel=\"Observed Relative Frequency\", ticks=np.arange(0, 1.05, 0.05), dpi=300, \n",
    "                       title=\"Attributes Diagram\", legend_params=None, inset_params=None,\n",
    "                       inset_position=(0.12, 0.72, 0.25, 0.25), bootstrap_sets=None, ci=(2.5, 97.5)):\n",
    "    \"\"\"\n",
    "    Plot reliability curves against a 1:1 diagonal to determine if probability forecasts are consistent with their\n",
    "    observed relative frequency. Also adds gray areas to show where the climatological probabilities lie and what\n",
    "    areas result in a positive Brier Skill Score.\n",
    "\n",
    "    Args:\n",
    "        rel_objs (list): List of DistributedReliability objects.\n",
    "        obj_labels (list): List of labels describing the forecast model associated with each curve.\n",
    "        colors (list): List of colors for each line\n",
    "        markers (list): List of line markers\n",
    "        filename (str): Where to save the figure.\n",
    "        figsize (tuple): (Width, height) of the figure in inches.\n",
    "        xlabel (str): X-axis label\n",
    "        ylabel (str): Y-axis label\n",
    "        ticks (array): Tick value labels for the x and y axes.\n",
    "        dpi (int): resolution of the saved figure in dots per inch.\n",
    "        title (str): Title of figure\n",
    "        legend_params (dict): Keyword arguments for the plot legend.\n",
    "        inset_params (dict): Keyword arguments for the inset axis.\n",
    "        inset_position (tuple): Position of the inset axis in normalized axes coordinates (left, bottom, width, height)\n",
    "        bootstrap_sets (list): A list of arrays of bootstrapped DistributedROC objects. If not None,\n",
    "            confidence regions will be plotted.\n",
    "        ci (tuple): tuple of bootstrap confidence interval percentiles\n",
    "    \"\"\"\n",
    "    if legend_params is None:\n",
    "        legend_params = dict(loc=4, fontsize=10, framealpha=1, frameon=True)\n",
    "    if inset_params is None:\n",
    "        inset_params = dict(width=\"25%\", height=\"25%\", loc=2, axes_kwargs=dict(facecolor='white'))\n",
    "    fig, ax = plt.subplots(figsize=figsize)\n",
    "    plt.plot(ticks, ticks, \"k--\")\n",
    "    inset_hist = inset_axes(ax, **inset_params)\n",
    "    ip = InsetPosition(ax, inset_position)\n",
    "    inset_hist.set_axes_locator(ip)\n",
    "    climo = rel_objs[0].climatology()\n",
    "    no_skill = 0.5 * ticks + 0.5 * climo\n",
    "    skill_x = [climo, climo, 1, 1, climo, climo, 0, 0, climo]\n",
    "    skill_y = [climo, 1, 1, no_skill[-1], climo, 0, 0, no_skill[0], climo]\n",
    "    f = ax.fill(skill_x, skill_y, \"0.8\")\n",
    "    f[0].set_zorder(1)\n",
    "    ax.plot(ticks, np.ones(ticks.shape) * climo, \"k--\")\n",
    "    if bootstrap_sets is not None:\n",
    "        for b, b_set in enumerate(bootstrap_sets):\n",
    "            brel_curves = np.vstack([b_rel.reliability_curve()[\"Positive_Relative_Freq\"].values for b_rel in b_set])\n",
    "            rel_range = np.nanpercentile(brel_curves, ci, axis=0)\n",
    "            fb = ax.fill_between(b_rel.thresholds[:-1], rel_range[1], rel_range[0], alpha=0.5, color=colors[b])\n",
    "            fb.set_zorder(2)\n",
    "    for r, rel_obj in enumerate(rel_objs):\n",
    "        rel_curve = rel_obj.reliability_curve()\n",
    "        ax.plot(rel_curve[\"Bin_Start\"], rel_curve[\"Positive_Relative_Freq\"], color=colors[r],\n",
    "                marker=markers[r], label=obj_labels[r])\n",
    "        inset_hist.semilogy(rel_curve[\"Bin_Start\"] * 100, rel_obj.frequencies[\"Total_Freq\"][:-1], color=colors[r],\n",
    "                            marker=markers[r])\n",
    "    inset_hist.set_xlabel(\"Forecast Probability\")\n",
    "    inset_hist.set_ylabel(\"Frequency\")\n",
    "    ax.annotate(\"No Skill\", (0.6, no_skill[12]), rotation=22.5)\n",
    "    ax.set_xlabel(xlabel)\n",
    "    ax.set_ylabel(ylabel)\n",
    "    ax.set_xticks(ticks)\n",
    "    ax.set_xticklabels((ticks * 100).astype(int))\n",
    "    ax.set_yticks(ticks)\n",
    "    ax.set_yticklabels((ticks * 100).astype(int))\n",
    "    ax.legend(**legend_params)\n",
    "    ax.set_title(title)\n",
    "    plt.savefig(filename, dpi=dpi, bbox_inches=\"tight\")\n",
    "    plt.close()"
   ]
  },
  {
   "cell_type": "code",
   "execution_count": 62,
   "metadata": {},
   "outputs": [],
   "source": []
  },
  {
   "cell_type": "code",
   "execution_count": 42,
   "metadata": {},
   "outputs": [
    {
     "ename": "AttributeError",
     "evalue": "'NoneType' object has no attribute '_is_graph_network'",
     "output_type": "error",
     "traceback": [
      "\u001B[0;31m---------------------------------------------------------------------------\u001B[0m",
      "\u001B[0;31mAttributeError\u001B[0m                            Traceback (most recent call last)",
      "\u001B[0;32m<ipython-input-42-49a75d7d412f>\u001B[0m in \u001B[0;36m<module>\u001B[0;34m\u001B[0m\n\u001B[0;32m----> 1\u001B[0;31m \u001B[0msave_model\u001B[0m\u001B[0;34m(\u001B[0m\u001B[0mbcn\u001B[0m\u001B[0;34m.\u001B[0m\u001B[0mmodel\u001B[0m\u001B[0;34m,\u001B[0m \u001B[0;34m\"hwrf_base_cnn_20200706.h5\"\u001B[0m\u001B[0;34m,\u001B[0m \u001B[0msave_format\u001B[0m\u001B[0;34m=\u001B[0m\u001B[0;34m\"h5\"\u001B[0m\u001B[0;34m)\u001B[0m\u001B[0;34m\u001B[0m\u001B[0;34m\u001B[0m\u001B[0m\n\u001B[0m",
      "\u001B[0;32m~/miniconda3/envs/goes/lib/python3.7/site-packages/tensorflow_core/python/keras/saving/save.py\u001B[0m in \u001B[0;36msave_model\u001B[0;34m(model, filepath, overwrite, include_optimizer, save_format, signatures, options)\u001B[0m\n\u001B[1;32m    100\u001B[0m       os.path.splitext(filepath)[1] in _HDF5_EXTENSIONS):\n\u001B[1;32m    101\u001B[0m     \u001B[0;31m# TODO(b/130258301): add utility method for detecting model type.\u001B[0m\u001B[0;34m\u001B[0m\u001B[0;34m\u001B[0m\u001B[0;34m\u001B[0m\u001B[0m\n\u001B[0;32m--> 102\u001B[0;31m     if (not model._is_graph_network and  # pylint:disable=protected-access\n\u001B[0m\u001B[1;32m    103\u001B[0m         not isinstance(model, sequential.Sequential)):\n\u001B[1;32m    104\u001B[0m       raise NotImplementedError(\n",
      "\u001B[0;31mAttributeError\u001B[0m: 'NoneType' object has no attribute '_is_graph_network'"
     ]
    }
   ],
   "source": [
    "save_model(bcn.model, \"hwrf_base_cnn_20200706.h5\", save_format=\"h5\")"
   ]
  },
  {
   "cell_type": "code",
   "execution_count": 90,
   "metadata": {},
   "outputs": [],
   "source": [
    "preds = bcn.model.predict(norm_val_data[:, :, :, :], batch_size=2048).ravel()"
   ]
  },
  {
   "cell_type": "code",
   "execution_count": 43,
   "metadata": {},
   "outputs": [
    {
     "data": {
      "text/plain": [
       "RandomForestRegressor(bootstrap=True, ccp_alpha=0.0, criterion='mse',\n",
       "                      max_depth=None, max_features='sqrt', max_leaf_nodes=None,\n",
       "                      max_samples=None, min_impurity_decrease=0.0,\n",
       "                      min_impurity_split=None, min_samples_leaf=5,\n",
       "                      min_samples_split=2, min_weight_fraction_leaf=0.0,\n",
       "                      n_estimators=100, n_jobs=32, oob_score=False,\n",
       "                      random_state=None, verbose=0, warm_start=False)"
      ]
     },
     "execution_count": 43,
     "metadata": {},
     "output_type": "execute_result"
    }
   ],
   "source": [
    "rf = RandomForestRegressor(n_estimators=100, max_features=\"sqrt\", min_samples_leaf=5, n_jobs=32) \n",
    "rf.fit(dt_df.loc[:, input_vars_dt], dt_df.loc[:, \"vmax_bt_new_dt_24\"])"
   ]
  },
  {
   "cell_type": "code",
   "execution_count": 44,
   "metadata": {},
   "outputs": [
    {
     "data": {
      "text/plain": [
       "0.039080497953716244"
      ]
     },
     "execution_count": 44,
     "metadata": {},
     "output_type": "execute_result"
    }
   ],
   "source": [
    "rfp = RandomForestClassifier(n_estimators=100, max_features=\"sqrt\", min_samples_leaf=5, n_jobs=32) \n",
    "rfp.fit(dt_df.loc[:, input_vars_dt], np.where(dt_df.loc[:, \"vmax_bt_new_dt_24\"] >= 30, 1, 0))\n",
    "rf_prob_preds = rfp.predict_proba(dt_df_2018[input_vars_dt])[:, 1]\n",
    "rf_rel = DistributedReliability()\n",
    "rf_rel.update(rf_prob_preds, np.where(dt_df_2018[\"vmax_bt_new_dt_24\"] >= 30, 1, 0))\n",
    "rf_rel.brier_skill_score()"
   ]
  },
  {
   "cell_type": "code",
   "execution_count": 45,
   "metadata": {},
   "outputs": [
    {
     "data": {
      "text/plain": [
       "0.7329166759174971"
      ]
     },
     "execution_count": 45,
     "metadata": {},
     "output_type": "execute_result"
    }
   ],
   "source": [
    "thresholds = np.arange(0, 1.01, 0.01)\n",
    "cnn_roc = DistributedROC(thresholds=thresholds)\n",
    "cnn_roc.update(cnn_prob_preds, np.where(dt_df_2018[\"vmax_bt_new_dt_24\"] >= 30, 1, 0))\n",
    "rf_roc = DistributedROC(thresholds=thresholds)\n",
    "rf_roc.update(rf_prob_preds, np.where(dt_df_2018[\"vmax_bt_new_dt_24\"] >= 30, 1, 0))\n",
    "cnn_roc.auc()"
   ]
  },
  {
   "cell_type": "code",
   "execution_count": 46,
   "metadata": {},
   "outputs": [
    {
     "data": {
      "text/plain": [
       "0.7251419077433154"
      ]
     },
     "execution_count": 46,
     "metadata": {},
     "output_type": "execute_result"
    }
   ],
   "source": [
    "hwrf_roc = DistributedROC(thresholds=np.arange(-60, 60, 1))\n",
    "hwrf_roc.update(dt_df_2018[\"VMAX_dt_24\"], np.where(dt_df_2018[\"vmax_bt_new_dt_24\"] >= 30, 1, 0))\n",
    "hwrf_roc.auc()"
   ]
  },
  {
   "cell_type": "code",
   "execution_count": 47,
   "metadata": {},
   "outputs": [],
   "source": [
    "attributes_diagram([cnn_rel, rf_rel], [\"CNN\", \"RF\"], [\"r\", \"c\"], [\"o\", \"o\"], \"hwrf_cnn_rel.pdf\")"
   ]
  },
  {
   "cell_type": "code",
   "execution_count": 36,
   "metadata": {},
   "outputs": [],
   "source": [
    "rf_preds = rf.predict(dt_df_2018[input_vars_dt])"
   ]
  },
  {
   "cell_type": "code",
   "execution_count": 91,
   "metadata": {},
   "outputs": [],
   "source": [
    "dt_df_2018[\"HWRF MAE\"] = np.abs(dt_df_2018[\"VMAX_dt_24\"] - dt_df_2018[\"vmax_bt_new_dt_24\"])\n",
    "dt_df_2018[\"CNN MAE\"] = np.abs(preds - dt_df_2018[\"vmax_bt_new_dt_24\"])\n",
    "dt_df_2018[\"RF MAE\"] = np.abs(rf_preds - dt_df_2018[\"vmax_bt_new_dt_24\"])"
   ]
  },
  {
   "cell_type": "code",
   "execution_count": 92,
   "metadata": {},
   "outputs": [],
   "source": [
    "bin_start = np.arange(-60, 65, 5)\n",
    "bin_end = np.arange(-55, 70, 5)\n",
    "bin_mean = np.zeros((3, bin_start.size))\n",
    "for b in range(bin_start.size):\n",
    "    bin_mean[0, b] = np.mean(dt_df_2018.loc[(dt_df_2018[\"VMAX_dt_24\"] >= bin_start[b]) & (dt_df_2018[\"VMAX_dt_24\"] < bin_end[b]), \"vmax_bt_new_dt_24\"])\n",
    "    bin_mean[1, b] = np.mean(dt_df_2018.loc[(rf_preds >= bin_start[b]) & (rf_preds < bin_end[b]), \"vmax_bt_new_dt_24\"])\n",
    "    bin_mean[2, b] = np.mean(dt_df_2018.loc[(preds >= bin_start[b]) & (preds < bin_end[b]), \"vmax_bt_new_dt_24\"])"
   ]
  },
  {
   "cell_type": "code",
   "execution_count": 93,
   "metadata": {},
   "outputs": [
    {
     "data": {
      "image/png": "[encoded data removed]",
      "text/plain": [
       "<Figure size 432x432 with 1 Axes>"
      ]
     },
     "metadata": {
      "needs_background": "light"
     },
     "output_type": "display_data"
    }
   ],
   "source": [
    "plt.figure(figsize=(6, 6))\n",
    "plt.plot(bin_start + 2.5, bin_mean[2], 'go-', label=\"CNN\")\n",
    "plt.plot(bin_start + 2.5, bin_mean[1], 'co-', label=\"RF\")\n",
    "plt.plot(bin_start + 2.5, bin_mean[0], 'ro-', label=\"HWRF\")\n",
    "\n",
    "plt.plot(bin_start, np.zeros(bin_start.shape), 'k--')\n",
    "plt.plot(np.zeros(bin_start.shape), bin_start, 'k--')\n",
    "plt.plot(np.ones(bin_start.shape) * 30, bin_start, 'r--')\n",
    "plt.plot(bin_start, np.ones(bin_start.shape) * 30, 'r--')\n",
    "plt.legend()\n",
    "plt.plot(bin_start, bin_start, 'k--')\n",
    "plt.xlabel(\"Predicted Max Wind Speed Change (kts/24 hours)\", fontsize=14)\n",
    "plt.ylabel(\"Mean Best Track Max Wind Change (kts/24 hours)\", fontsize=14)\n",
    "plt.title(\"HWRF RI Reliability\", fontsize=16)\n",
    "plt.savefig(\"vmax_dt_reliability.png\", dpi=200, bbox_inches=\"tight\")"
   ]
  },
  {
   "cell_type": "code",
   "execution_count": 183,
   "metadata": {},
   "outputs": [
    {
     "data": {
      "image/png": "[encoded data removed]",
      "text/plain": [
       "<Figure size 432x288 with 1 Axes>"
      ]
     },
     "metadata": {
      "needs_background": "light"
     },
     "output_type": "display_data"
    }
   ],
   "source": [
    "plt.figure(figsize=(6, 4))\n",
    "plt.plot(dt_df_2018.groupby(\"TIME\")[\"CNN MAE\"].mean(), 'go-', label=\"Convolutional Neural Net\")\n",
    "plt.plot(dt_df_2018.groupby(\"TIME\")[\"RF MAE\"].mean(), 'cv-', label=\"Random Forest\")\n",
    "\n",
    "plt.plot(dt_df_2018.groupby(\"TIME\")[\"HWRF MAE\"].mean(), 'rx-', label=\"HWRF\")\n",
    "plt.xticks(np.arange(0, 120, 12))\n",
    "plt.legend()\n",
    "plt.xlabel(\"Lead Time (Hours)\", fontsize=12)\n",
    "plt.ylabel(\"Mean Absolute Error (kts)\", fontsize=12)\n",
    "plt.title(\"2018 Intensity Error Comparison\", fontsize=14)\n",
    "plt.savefig(\"intensity_error_comp.png\", dpi=200)"
   ]
  },
  {
   "cell_type": "code",
   "execution_count": 95,
   "metadata": {},
   "outputs": [
    {
     "name": "stderr",
     "output_type": "stream",
     "text": [
      "/glade/u/home/dgagne/miniconda3/envs/goes/lib/python3.7/site-packages/matplotlib/colors.py:1171: RuntimeWarning: invalid value encountered in less_equal\n",
      "  mask |= resdat <= 0\n"
     ]
    },
    {
     "data": {
      "image/png": "[encoded data removed]",
      "text/plain": [
       "<Figure size 576x576 with 2 Axes>"
      ]
     },
     "metadata": {
      "needs_background": "light"
     },
     "output_type": "display_data"
    }
   ],
   "source": [
    "plt.figure(figsize=(8, 8))\n",
    "_ = plt.hist2d(preds, dt_df_2018.loc[:, \"vmax_bt_new_dt_24\"], \n",
    "           cmin=1, bins=np.arange(-60, 60, 5), norm=LogNorm())\n",
    "plt.plot(np.arange(-60, 60, 5), np.arange(-60, 60, 5), 'k--')\n",
    "bins = np.arange(-60, 60, 5)\n",
    "plt.plot(bins, np.zeros(bins.shape), 'k--')\n",
    "plt.plot(np.zeros(bins.shape), bins, 'k--')\n",
    "plt.plot(np.ones(bins.shape) * 30, bins, 'r--')\n",
    "plt.plot(bins, np.ones(bins.shape) * 30, 'r--')\n",
    "\n",
    "plt.colorbar()\n",
    "plt.xlabel(\"CNN Max Wind Speed Change (kts/24 hours)\", fontsize=14)\n",
    "plt.ylabel(\"Best Track Max Wind Speed Change (kts/24 hours)\", fontsize=14)\n",
    "plt.savefig(\"cnn_2d_hist.pdf\", dpi=200, bbox_inches=\"tight\")"
   ]
  },
  {
   "cell_type": "code",
   "execution_count": 96,
   "metadata": {},
   "outputs": [
    {
     "name": "stderr",
     "output_type": "stream",
     "text": [
      "/glade/u/home/dgagne/miniconda3/envs/goes/lib/python3.7/site-packages/matplotlib/colors.py:1171: RuntimeWarning: invalid value encountered in less_equal\n",
      "  mask |= resdat <= 0\n"
     ]
    },
    {
     "data": {
      "image/png": "[encoded data removed]",
      "text/plain": [
       "<Figure size 576x576 with 2 Axes>"
      ]
     },
     "metadata": {
      "needs_background": "light"
     },
     "output_type": "display_data"
    }
   ],
   "source": [
    "plt.figure(figsize=(8, 8))\n",
    "_ = plt.hist2d(rf_preds, dt_df_2018.loc[:, \"vmax_bt_new_dt_24\"], \n",
    "           cmin=1, bins=np.arange(-60, 60, 5), norm=LogNorm())\n",
    "plt.plot(np.arange(-60, 60, 5), np.arange(-60, 60, 5), 'k--')\n",
    "bins = np.arange(-60, 60, 5)\n",
    "plt.plot(bins, np.zeros(bins.shape), 'k--')\n",
    "plt.plot(np.zeros(bins.shape), bins, 'k--')\n",
    "plt.plot(np.ones(bins.shape) * 30, bins, 'r--')\n",
    "plt.plot(bins, np.ones(bins.shape) * 30, 'r--')\n",
    "\n",
    "plt.colorbar()\n",
    "plt.xlabel(\"RF Max Wind Speed Change (kts/24 hours)\", fontsize=14)\n",
    "plt.ylabel(\"Best Track Max Wind Speed Change (kts/24 hours)\", fontsize=14)\n",
    "plt.savefig(\"rf_2d_hist.pdf\", dpi=200, bbox_inches=\"tight\")"
   ]
  },
  {
   "cell_type": "code",
   "execution_count": 65,
   "metadata": {},
   "outputs": [],
   "source": [
    "train_preds = bcn.model.predict(norm_train_data[:, :, :, :], batch_size=2048).ravel()"
   ]
  },
  {
   "cell_type": "code",
   "execution_count": 100,
   "metadata": {},
   "outputs": [
    {
     "data": {
      "text/plain": [
       "<tensorflow.python.keras.layers.core.Dense at 0x2aded9ed8210>"
      ]
     },
     "execution_count": 100,
     "metadata": {},
     "output_type": "execute_result"
    }
   ],
   "source": [
    "bcn.model.layers[-4]"
   ]
  },
  {
   "cell_type": "code",
   "execution_count": 101,
   "metadata": {},
   "outputs": [],
   "source": [
    "sub_model = Model([bcn.model.input], [bcn.model.layers[-3].output])\n",
    "sub_out = sub_model.predict(norm_train_data, batch_size=4096)\n",
    "\n",
    "act_aucs = np.zeros(sub_out.shape[1])\n",
    "for i in range(sub_out.shape[1]):\n",
    "    act_aucs[i] = roc_auc_score(dt_df[\"vmax_bt_new_dt_24\"] > 30, sub_out[:, i])"
   ]
  },
  {
   "cell_type": "code",
   "execution_count": 113,
   "metadata": {},
   "outputs": [],
   "source": [
    "sub_out_2018 = sub_model.predict(norm_val_data, batch_size=4096)"
   ]
  },
  {
   "cell_type": "code",
   "execution_count": 111,
   "metadata": {},
   "outputs": [
    {
     "data": {
      "text/plain": [
       "(21447, 23)"
      ]
     },
     "execution_count": 111,
     "metadata": {},
     "output_type": "execute_result"
    }
   ],
   "source": [
    "dt_df.shape"
   ]
  },
  {
   "cell_type": "code",
   "execution_count": 49,
   "metadata": {},
   "outputs": [
    {
     "ename": "NameError",
     "evalue": "name 'sub_out' is not defined",
     "output_type": "error",
     "traceback": [
      "\u001B[0;31m---------------------------------------------------------------------------\u001B[0m",
      "\u001B[0;31mNameError\u001B[0m                                 Traceback (most recent call last)",
      "\u001B[0;32m<ipython-input-49-9e628efed9f8>\u001B[0m in \u001B[0;36m<module>\u001B[0;34m\u001B[0m\n\u001B[0;32m----> 1\u001B[0;31m \u001B[0msub_out_frame\u001B[0m \u001B[0;34m=\u001B[0m \u001B[0mpd\u001B[0m\u001B[0;34m.\u001B[0m\u001B[0mDataFrame\u001B[0m\u001B[0;34m(\u001B[0m\u001B[0msub_out\u001B[0m\u001B[0;34m,\u001B[0m \u001B[0mcolumns\u001B[0m\u001B[0;34m=\u001B[0m\u001B[0;34m[\u001B[0m\u001B[0;34mf\"Neuron {x:d}\"\u001B[0m \u001B[0;32mfor\u001B[0m \u001B[0mx\u001B[0m \u001B[0;32min\u001B[0m \u001B[0mrange\u001B[0m\u001B[0;34m(\u001B[0m\u001B[0msub_out\u001B[0m\u001B[0;34m.\u001B[0m\u001B[0mshape\u001B[0m\u001B[0;34m[\u001B[0m\u001B[0;36m1\u001B[0m\u001B[0;34m]\u001B[0m\u001B[0;34m)\u001B[0m\u001B[0;34m]\u001B[0m\u001B[0;34m,\u001B[0m \u001B[0mindex\u001B[0m\u001B[0;34m=\u001B[0m\u001B[0mdt_df\u001B[0m\u001B[0;34m.\u001B[0m\u001B[0mindex\u001B[0m\u001B[0;34m)\u001B[0m\u001B[0;34m\u001B[0m\u001B[0;34m\u001B[0m\u001B[0m\n\u001B[0m\u001B[1;32m      2\u001B[0m \u001B[0msub_out_2018_frame\u001B[0m \u001B[0;34m=\u001B[0m \u001B[0mpd\u001B[0m\u001B[0;34m.\u001B[0m\u001B[0mDataFrame\u001B[0m\u001B[0;34m(\u001B[0m\u001B[0msub_out_2018\u001B[0m\u001B[0;34m,\u001B[0m \u001B[0mcolumns\u001B[0m\u001B[0;34m=\u001B[0m\u001B[0;34m[\u001B[0m\u001B[0;34mf\"Neuron {x:d}\"\u001B[0m \u001B[0;32mfor\u001B[0m \u001B[0mx\u001B[0m \u001B[0;32min\u001B[0m \u001B[0mrange\u001B[0m\u001B[0;34m(\u001B[0m\u001B[0msub_out\u001B[0m\u001B[0;34m.\u001B[0m\u001B[0mshape\u001B[0m\u001B[0;34m[\u001B[0m\u001B[0;36m1\u001B[0m\u001B[0;34m]\u001B[0m\u001B[0;34m)\u001B[0m\u001B[0;34m]\u001B[0m\u001B[0;34m,\u001B[0m \u001B[0mindex\u001B[0m\u001B[0;34m=\u001B[0m\u001B[0mdt_df_2018\u001B[0m\u001B[0;34m.\u001B[0m\u001B[0mindex\u001B[0m\u001B[0;34m)\u001B[0m\u001B[0;34m\u001B[0m\u001B[0;34m\u001B[0m\u001B[0m\n",
      "\u001B[0;31mNameError\u001B[0m: name 'sub_out' is not defined"
     ]
    }
   ],
   "source": [
    "sub_out_frame = pd.DataFrame(sub_out, columns=[f\"Neuron {x:d}\" for x in range(sub_out.shape[1])], index=dt_df.index)\n",
    "sub_out_2018_frame = pd.DataFrame(sub_out_2018, columns=[f\"Neuron {x:d}\" for x in range(sub_out.shape[1])], index=dt_df_2018.index)"
   ]
  },
  {
   "cell_type": "code",
   "execution_count": null,
   "metadata": {},
   "outputs": [],
   "source": []
  },
  {
   "cell_type": "code",
   "execution_count": 48,
   "metadata": {},
   "outputs": [
    {
     "ename": "NameError",
     "evalue": "name 'sub_out_frame' is not defined",
     "output_type": "error",
     "traceback": [
      "\u001B[0;31m---------------------------------------------------------------------------\u001B[0m",
      "\u001B[0;31mNameError\u001B[0m                                 Traceback (most recent call last)",
      "\u001B[0;32m<ipython-input-48-327e29a79be1>\u001B[0m in \u001B[0;36m<module>\u001B[0;34m\u001B[0m\n\u001B[0;32m----> 1\u001B[0;31m \u001B[0mcombined_train\u001B[0m \u001B[0;34m=\u001B[0m \u001B[0mpd\u001B[0m\u001B[0;34m.\u001B[0m\u001B[0mmerge\u001B[0m\u001B[0;34m(\u001B[0m\u001B[0mdt_df\u001B[0m\u001B[0;34m,\u001B[0m \u001B[0msub_out_frame\u001B[0m\u001B[0;34m,\u001B[0m \u001B[0mleft_index\u001B[0m\u001B[0;34m=\u001B[0m\u001B[0;32mTrue\u001B[0m\u001B[0;34m,\u001B[0m \u001B[0mright_index\u001B[0m\u001B[0;34m=\u001B[0m\u001B[0;32mTrue\u001B[0m\u001B[0;34m)\u001B[0m\u001B[0;34m\u001B[0m\u001B[0;34m\u001B[0m\u001B[0m\n\u001B[0m\u001B[1;32m      2\u001B[0m \u001B[0mcombined_val\u001B[0m \u001B[0;34m=\u001B[0m \u001B[0mpd\u001B[0m\u001B[0;34m.\u001B[0m\u001B[0mmerge\u001B[0m\u001B[0;34m(\u001B[0m\u001B[0mdt_df_2018\u001B[0m\u001B[0;34m,\u001B[0m \u001B[0msub_out_2018_frame\u001B[0m\u001B[0;34m,\u001B[0m \u001B[0mleft_index\u001B[0m\u001B[0;34m=\u001B[0m\u001B[0;32mTrue\u001B[0m\u001B[0;34m,\u001B[0m \u001B[0mright_index\u001B[0m\u001B[0;34m=\u001B[0m\u001B[0;32mTrue\u001B[0m\u001B[0;34m)\u001B[0m\u001B[0;34m\u001B[0m\u001B[0;34m\u001B[0m\u001B[0m\n\u001B[1;32m      3\u001B[0m \u001B[0mcombined_train\u001B[0m\u001B[0;34m.\u001B[0m\u001B[0mto_csv\u001B[0m\u001B[0;34m(\u001B[0m\u001B[0;34m\"/glade/work/dgagne/hwrf_2015-2017_neural_out.csv\"\u001B[0m\u001B[0;34m)\u001B[0m\u001B[0;34m\u001B[0m\u001B[0;34m\u001B[0m\u001B[0m\n\u001B[1;32m      4\u001B[0m \u001B[0mcombined_val\u001B[0m\u001B[0;34m.\u001B[0m\u001B[0mto_csv\u001B[0m\u001B[0;34m(\u001B[0m\u001B[0;34m\"/glade/work/dgagne/hwrf_2018_neural_out.csv\"\u001B[0m\u001B[0;34m)\u001B[0m\u001B[0;34m\u001B[0m\u001B[0;34m\u001B[0m\u001B[0m\n",
      "\u001B[0;31mNameError\u001B[0m: name 'sub_out_frame' is not defined"
     ]
    }
   ],
   "source": [
    "combined_train = pd.merge(dt_df, sub_out_frame, left_index=True, right_index=True)\n",
    "combined_val = pd.merge(dt_df_2018, sub_out_2018_frame, left_index=True, right_index=True)\n",
    "combined_train.to_csv(\"/glade/work/dgagne/hwrf_2015-2017_neural_out.csv\")\n",
    "combined_val.to_csv(\"/glade/work/dgagne/hwrf_2018_neural_out.csv\")"
   ]
  },
  {
   "cell_type": "code",
   "execution_count": 102,
   "metadata": {},
   "outputs": [
    {
     "data": {
      "text/plain": [
       "array([0.87018535, 0.84422461, 0.83122949, 0.80932116, 0.80840052,\n",
       "       0.80063711, 0.78850211, 0.78442325, 0.76571693, 0.74253352,\n",
       "       0.73394881, 0.72955132, 0.70799113, 0.70576741, 0.70187303,\n",
       "       0.69227518, 0.69211183, 0.65857707, 0.6581596 , 0.65414431,\n",
       "       0.63746713, 0.58894235, 0.56833761, 0.56670304, 0.55946183,\n",
       "       0.52620016, 0.5       , 0.5       , 0.5       , 0.5       ,\n",
       "       0.5       , 0.5       , 0.5       , 0.5       , 0.5       ,\n",
       "       0.5       , 0.5       , 0.49966074, 0.48839667, 0.48580891,\n",
       "       0.4578546 , 0.38570729, 0.22004509, 0.21250529, 0.18083856,\n",
       "       0.17254182, 0.15393055, 0.15346575, 0.1517224 , 0.14654341,\n",
       "       0.13720423, 0.1345375 , 0.13125345, 0.12992512, 0.12899037,\n",
       "       0.12842559, 0.12560879, 0.12300555, 0.11949951, 0.11860774,\n",
       "       0.11853873, 0.11631763, 0.11275022, 0.10405554])"
      ]
     },
     "execution_count": 102,
     "metadata": {},
     "output_type": "execute_result"
    }
   ],
   "source": [
    "act_aucs[act_aucs.argsort()[::-1]]"
   ]
  },
  {
   "cell_type": "code",
   "execution_count": 71,
   "metadata": {},
   "outputs": [],
   "source": [
    "!mkdir composites_new"
   ]
  },
  {
   "cell_type": "code",
   "execution_count": 73,
   "metadata": {},
   "outputs": [
    {
     "data": {
      "text/plain": [
       "[('THETA_E_L100', 20000),\n",
       " ('THETA_E_L100', 50000),\n",
       " ('THETA_E_L100', 85000),\n",
       " ('THETA_E_L103', None),\n",
       " ('U_RAD_L100', 20000),\n",
       " ('U_RAD_L100', 50000),\n",
       " ('U_RAD_L100', 85000),\n",
       " ('U_RAD_L103', None),\n",
       " ('V_TAN_L100', 20000),\n",
       " ('V_TAN_L100', 50000),\n",
       " ('V_TAN_L100', 85000),\n",
       " ('V_TAN_L103', None)]"
      ]
     },
     "execution_count": 73,
     "metadata": {},
     "output_type": "execute_result"
    }
   ],
   "source": [
    "input_var_levels"
   ]
  },
  {
   "cell_type": "code",
   "execution_count": 103,
   "metadata": {},
   "outputs": [],
   "source": [
    "! mkdir composites_20200319"
   ]
  },
  {
   "cell_type": "code",
   "execution_count": 104,
   "metadata": {},
   "outputs": [],
   "source": [
    "for f, f_num in enumerate(act_aucs.argsort()[::-1][:]):\n",
    "    fig, axes = plt.subplots(3, 4, figsize=(12, 9))\n",
    "    plt.subplots_adjust(hspace=0.25)\n",
    "    ranked_storms = sub_out[:,f_num].argsort()[::-1]\n",
    "    for a, ax in enumerate(axes.ravel()):\n",
    "        composite = np.nanmean(train_data[ranked_storms[:30], :, :, a], axis=0)\n",
    "        m_val = np.nanmax(np.abs(composite))\n",
    "        ax.contourf(composite, np.linspace(-m_val, m_val, 10), cmap=\"RdBu_r\")\n",
    "        if input_var_levels[a][1] is None:\n",
    "            ax.set_title(input_var_levels[a][0][:-5].replace(\"_\", \"-\") + \" \"+ 'Surface')\n",
    "        else:\n",
    "            ax.set_title(input_var_levels[a][0][:-5].replace(\"_\", \"-\") + \" \"+ str(input_var_levels[a][1] // 100) + \" hPa\")\n",
    "    fig.suptitle(f\"Composite Filter {f_num:03d} AUC={act_aucs[f_num]:0.3f}\", fontsize=14, y=0.94)\n",
    "    plt.savefig(f\"composites_20200319/activation_composite_{f:03d}.png\", dpi=200, bbox_inches=\"tight\")\n",
    "    plt.close()"
   ]
  },
  {
   "cell_type": "code",
   "execution_count": 83,
   "metadata": {},
   "outputs": [
    {
     "data": {
      "image/png": "[encoded data removed]",
      "text/plain": [
       "<Figure size 792x360 with 4 Axes>"
      ]
     },
     "metadata": {
      "needs_background": "light"
     },
     "output_type": "display_data"
    }
   ],
   "source": [
    "best_worst = act_aucs.argsort()[::-1][[0, -1]]\n",
    "plt.figure(figsize=(11, 5))\n",
    "plt.subplot(1, 2, 1)\n",
    "ranked_storms = sub_out[:, best_worst[0]].argsort()[::-1]\n",
    "v_i = 11\n",
    "composite = np.nanmean(train_data[ranked_storms[:50], :, :, v_i], axis=0)\n",
    "m_val = 15\n",
    "plt.contourf(composite, np.linspace(-m_val, m_val, 11), cmap=\"RdBu_r\", extend=\"both\")\n",
    "plt.colorbar()\n",
    "plt.title(\"Intensifying Storm Composite\\nSurface Tangential Wind (m/s)\", fontsize=14)\n",
    "plt.xlabel(\"X-Distance (km)\", fontsize=14)\n",
    "plt.ylabel(\"Y-Distance (km)\", fontsize=14)\n",
    "\n",
    "plt.subplot(1, 2, 2)\n",
    "ranked_storms = sub_out[:, best_worst[1]].argsort()[::-1]\n",
    "composite = np.nanmean(train_data[ranked_storms[:50], :, :, v_i], axis=0)\n",
    "plt.contourf(composite, np.linspace(-m_val, m_val, 11), cmap=\"RdBu_r\", extend=\"both\")\n",
    "plt.title(\"Weakening Storm Composite\\nSurface Tangential Wind (m/s)\", fontsize=14)\n",
    "plt.xlabel(\"X-Distance (km)\", fontsize=14)\n",
    "plt.ylabel(\"Y-Distance (km)\", fontsize=14)\n",
    "plt.colorbar()\n",
    "plt.savefig(\"storm_composites.png\", bbox_inches=\"tight\", dpi=250)"
   ]
  },
  {
   "cell_type": "code",
   "execution_count": 82,
   "metadata": {},
   "outputs": [
    {
     "data": {
      "text/plain": [
       "(125, 126)"
      ]
     },
     "execution_count": 82,
     "metadata": {},
     "output_type": "execute_result"
    }
   ],
   "source": [
    "composite.shape"
   ]
  },
  {
   "cell_type": "code",
   "execution_count": 83,
   "metadata": {},
   "outputs": [
    {
     "data": {
      "text/plain": [
       "62.5"
      ]
     },
     "execution_count": 83,
     "metadata": {},
     "output_type": "execute_result"
    }
   ],
   "source": [
    "composite.shape[0] / 2"
   ]
  },
  {
   "cell_type": "code",
   "execution_count": 96,
   "metadata": {},
   "outputs": [
    {
     "data": {
      "text/plain": [
       "(array([1.0097e+04, 5.8090e+03, 2.9570e+03, 1.4380e+03, 6.5500e+02,\n",
       "        3.1100e+02, 1.1100e+02, 4.3000e+01, 1.8000e+01, 8.0000e+00]),\n",
       " array([0.        , 0.39207458, 0.78414917, 1.1762238 , 1.5682983 ,\n",
       "        1.9603729 , 2.3524475 , 2.744522  , 3.1365967 , 3.5286713 ,\n",
       "        3.9207458 ], dtype=float32),\n",
       " <a list of 10 Patch objects>)"
      ]
     },
     "execution_count": 96,
     "metadata": {},
     "output_type": "execute_result"
    },
    {
     "data": {
      "image/png": "[encoded data removed]",
      "text/plain": [
       "<Figure size 432x288 with 1 Axes>"
      ]
     },
     "metadata": {
      "needs_background": "light"
     },
     "output_type": "display_data"
    }
   ],
   "source": [
    "plt.hist(sub_out[:, 0, 0, f_num])"
   ]
  },
  {
   "cell_type": "code",
   "execution_count": 126,
   "metadata": {},
   "outputs": [
    {
     "data": {
      "text/plain": [
       "<matplotlib.collections.QuadMesh at 0x2b150b4c31d0>"
      ]
     },
     "execution_count": 126,
     "metadata": {},
     "output_type": "execute_result"
    },
    {
     "data": {
      "image/png": "[encoded data removed]",
      "text/plain": [
       "<Figure size 432x288 with 1 Axes>"
      ]
     },
     "metadata": {
      "needs_background": "light"
     },
     "output_type": "display_data"
    }
   ],
   "source": [
    "plt.pcolormesh(np.corrcoef(sub_out.T[act_aucs.argsort()[::-1]]), vmin=-1, vmax=1, cmap=\"RdBu_r\")"
   ]
  },
  {
   "cell_type": "code",
   "execution_count": 41,
   "metadata": {},
   "outputs": [
    {
     "ename": "NameError",
     "evalue": "name 'combined_train' is not defined",
     "output_type": "error",
     "traceback": [
      "\u001B[0;31m---------------------------------------------------------------------------\u001B[0m",
      "\u001B[0;31mNameError\u001B[0m                                 Traceback (most recent call last)",
      "\u001B[0;32m<ipython-input-41-e9d6cbc80f97>\u001B[0m in \u001B[0;36m<module>\u001B[0;34m\u001B[0m\n\u001B[1;32m      1\u001B[0m \u001B[0mfig\u001B[0m\u001B[0;34m,\u001B[0m \u001B[0max1\u001B[0m\u001B[0;34m=\u001B[0m  \u001B[0mplt\u001B[0m\u001B[0;34m.\u001B[0m\u001B[0msubplots\u001B[0m\u001B[0;34m(\u001B[0m\u001B[0mfigsize\u001B[0m\u001B[0;34m=\u001B[0m\u001B[0;34m(\u001B[0m\u001B[0;36m8\u001B[0m\u001B[0;34m,\u001B[0m \u001B[0;36m6\u001B[0m\u001B[0;34m)\u001B[0m\u001B[0;34m)\u001B[0m\u001B[0;34m\u001B[0m\u001B[0;34m\u001B[0m\u001B[0m\n\u001B[1;32m      2\u001B[0m \u001B[0mplt\u001B[0m\u001B[0;34m.\u001B[0m\u001B[0msubplots_adjust\u001B[0m\u001B[0;34m(\u001B[0m\u001B[0mbottom\u001B[0m\u001B[0;34m=\u001B[0m\u001B[0;36m0.15\u001B[0m\u001B[0;34m)\u001B[0m\u001B[0;34m\u001B[0m\u001B[0;34m\u001B[0m\u001B[0m\n\u001B[0;32m----> 3\u001B[0;31m p1 = ax1.plot(combined_train[combined_train[\"STNAM\"] == \"harvey\"][\"TIME\"].unstack().loc[474], \n\u001B[0m\u001B[1;32m      4\u001B[0m          combined_train[combined_train[\"STNAM\"] == \"harvey\"][\"Neuron 14\"].unstack().loc[474], color=\"r\", label=\"Strengthening Neuron\")\n\u001B[1;32m      5\u001B[0m p2 = ax1.plot(combined_train[combined_train[\"STNAM\"] == \"harvey\"][\"TIME\"].unstack().loc[474],\n",
      "\u001B[0;31mNameError\u001B[0m: name 'combined_train' is not defined"
     ]
    },
    {
     "data": {
      "image/png": "[encoded data removed]",
      "text/plain": [
       "<Figure size 576x432 with 1 Axes>"
      ]
     },
     "metadata": {
      "needs_background": "light"
     },
     "output_type": "display_data"
    }
   ],
   "source": [
    "fig, ax1=  plt.subplots(figsize=(8, 6))\n",
    "plt.subplots_adjust(bottom=0.15)\n",
    "p1 = ax1.plot(combined_train[combined_train[\"STNAM\"] == \"harvey\"][\"TIME\"].unstack().loc[474], \n",
    "         combined_train[combined_train[\"STNAM\"] == \"harvey\"][\"Neuron 14\"].unstack().loc[474], color=\"r\", label=\"Strengthening Neuron\")\n",
    "p2 = ax1.plot(combined_train[combined_train[\"STNAM\"] == \"harvey\"][\"TIME\"].unstack().loc[474],\n",
    "         combined_train[combined_train[\"STNAM\"] == \"harvey\"][\"Neuron 59\"].unstack().loc[474], color=\"b\", label=\"Weakening Neuron\")\n",
    "ax1.set_xticks(np.arange(0, 100, 6))\n",
    "ax1.set_ylabel(\"Neuron Value\", fontsize=14)\n",
    "ax1.set_xlabel(\"Forecast Hour\", fontsize=14)\n",
    "ax1.set_title(\"Hurricane Harvey Neuron Forecast\", fontsize=16)\n",
    "ax2 = ax1.twinx()\n",
    "p3 = ax2.plot(combined_train[combined_train[\"STNAM\"] == \"harvey\"][\"TIME\"].unstack().loc[474],\n",
    "    combined_train[combined_train[\"STNAM\"] == \"harvey\"]['vmax_bt_new_dt_24'].unstack().loc[474],color='k', label=\"Wind Speed Change\")\n",
    "ax2.set_ylabel(\"Change in Wind Speed (kts)\", fontsize=14)\n",
    "fig.legend([p1[0], p2[0], p3[0]], [\"Intensify Neuron\", \"Weaken Neuron\", \"Wind Speed Change\"], loc=\"lower center\", ncol=3)\n",
    "plt.savefig(\"harvey_neuron_example.pdf\", bbox_inches=\"tight\")"
   ]
  },
  {
   "cell_type": "code",
   "execution_count": 215,
   "metadata": {},
   "outputs": [
    {
     "data": {
      "text/plain": [
       "[<matplotlib.lines.Line2D at 0x2aee41b2cf10>]"
      ]
     },
     "execution_count": 215,
     "metadata": {},
     "output_type": "execute_result"
    },
    {
     "data": {
      "image/png": "[encoded data removed]",
      "text/plain": [
       "<Figure size 432x288 with 1 Axes>"
      ]
     },
     "metadata": {
      "needs_background": "light"
     },
     "output_type": "display_data"
    }
   ],
   "source": [
    "plt.plot(combined_train[combined_train[\"STNAM\"] == \"harvey\"][\"Neuron 59\"].unstack().loc[474], combined_train[combined_train[\"STNAM\"] == \"harvey\"][\"Neuron 14\"].unstack().loc[474])"
   ]
  },
  {
   "cell_type": "code",
   "execution_count": 58,
   "metadata": {},
   "outputs": [
    {
     "data": {
      "text/plain": [
       "array(['2018100718', '2018100800', '2018100806', '2018100812',\n",
       "       '2018100818', '2018100900', '2018100906', '2018100912',\n",
       "       '2018100918', '2018101000', '2018101006', '2018101012',\n",
       "       '2018101018', '2018101100', '2018101106', '2018101112'],\n",
       "      dtype=object)"
      ]
     },
     "execution_count": 58,
     "metadata": {},
     "output_type": "execute_result"
    }
   ],
   "source": [
    "dt_df_2018.loc[dt_df_2018[\"STNAM\"] == \"michael\"][\"DATE\"].unique()"
   ]
  },
  {
   "cell_type": "code",
   "execution_count": 122,
   "metadata": {},
   "outputs": [],
   "source": [
    "case_run = val_data[(dt_df_2018[\"STNAM\"] == \"michael\") & (dt_df_2018[\"DATE\"] == \"2018100718\")]"
   ]
  },
  {
   "cell_type": "code",
   "execution_count": 90,
   "metadata": {},
   "outputs": [],
   "source": [
    "case_norm = norm_val_data[(dt_df_2018[\"STNAM\"] == \"michael\") & (dt_df_2018[\"DATE\"] == \"2018100718\")]"
   ]
  },
  {
   "cell_type": "code",
   "execution_count": 99,
   "metadata": {},
   "outputs": [],
   "source": [
    "def saliency(self, x, layer_index=-3, ref_activation=10):\n",
    "        \"\"\"\n",
    "        Output the gradient of input field with respect to each neuron in the specified layer.\n",
    "        Args:\n",
    "            x:\n",
    "            layer_index:\n",
    "            ref_activation: Reference activation value for loss function.\n",
    "        Returns:\n",
    "        \"\"\"\n",
    "        saliency_values = np.zeros((self.model.layers[layer_index].output.shape[-1],\n",
    "                                    x.shape[0], x.shape[1],\n",
    "                                    x.shape[2], x.shape[3]),\n",
    "                                   dtype=np.float32)\n",
    "        for s in trange(self.model.layers[layer_index].output.shape[-1], desc=\"neurons\"):\n",
    "            sub_model = Model(self.model.input, self.model.layers[layer_index].output[:, s])\n",
    "            batch_indices = np.append(np.arange(0, x.shape[0], self.batch_size), x.shape[0])\n",
    "            for b, batch_index in enumerate(tqdm(batch_indices[:-1], desc=\"batch examples\", leave=False)):\n",
    "                x_case = tf.Variable(x[batch_index:batch_indices[b + 1]])\n",
    "                with tf.GradientTape() as tape:\n",
    "                    tape.watch(x_case)\n",
    "                    act_out = sub_model(x_case)\n",
    "                    loss = (ref_activation - act_out) ** 2\n",
    "                saliency_values[s, batch_index:batch_indices[b + 1]] = tape.gradient(loss, x_case)\n",
    "        return saliency_values"
   ]
  },
  {
   "cell_type": "code",
   "execution_count": 108,
   "metadata": {},
   "outputs": [
    {
     "data": {
      "text/plain": [
       "<tensorflow.python.keras.layers.core.Activation at 0x2ba004649ad0>"
      ]
     },
     "execution_count": 108,
     "metadata": {},
     "output_type": "execute_result"
    }
   ],
   "source": [
    "bcn_prob.model.layers[-1]"
   ]
  },
  {
   "cell_type": "code",
   "execution_count": 109,
   "metadata": {},
   "outputs": [
    {
     "name": "stderr",
     "output_type": "stream",
     "text": [
      "neurons:   0%|          | 0/1 [00:00<?, ?it/s]\n",
      "batch examples:   0%|          | 0/1 [00:00<?, ?it/s]\u001B[A\n",
      "neurons: 100%|██████████| 1/1 [00:00<00:00,  9.32it/s][A\n"
     ]
    }
   ],
   "source": [
    "sal_case = saliency(bcn_prob, case_norm, layer_index=-1, ref_activation=1)"
   ]
  },
  {
   "cell_type": "code",
   "execution_count": 103,
   "metadata": {},
   "outputs": [
    {
     "data": {
      "text/plain": [
       "(1, 31, 125, 126, 12)"
      ]
     },
     "execution_count": 103,
     "metadata": {},
     "output_type": "execute_result"
    }
   ],
   "source": [
    "sal_case.shape"
   ]
  },
  {
   "cell_type": "code",
   "execution_count": 106,
   "metadata": {},
   "outputs": [
    {
     "data": {
      "text/plain": [
       "(31, 125, 126)"
      ]
     },
     "execution_count": 106,
     "metadata": {},
     "output_type": "execute_result"
    }
   ],
   "source": [
    "case_run.shape"
   ]
  },
  {
   "cell_type": "code",
   "execution_count": 113,
   "metadata": {},
   "outputs": [],
   "source": [
    "from scipy.ndimage import gaussian_filter"
   ]
  },
  {
   "cell_type": "code",
   "execution_count": 142,
   "metadata": {},
   "outputs": [],
   "source": [
    "case_df = dt_df_2018.loc[(dt_df_2018[\"STNAM\"] == \"michael\") & (dt_df_2018[\"DATE\"] == \"2018100718\")]"
   ]
  },
  {
   "cell_type": "code",
   "execution_count": 170,
   "metadata": {},
   "outputs": [
    {
     "data": {
      "text/plain": [
       "(1, 31, 125, 126, 12)"
      ]
     },
     "execution_count": 170,
     "metadata": {},
     "output_type": "execute_result"
    }
   ],
   "source": [
    "sal_case.shape"
   ]
  },
  {
   "cell_type": "code",
   "execution_count": 156,
   "metadata": {},
   "outputs": [
    {
     "data": {
      "text/plain": [
       "'2018100718'"
      ]
     },
     "execution_count": 156,
     "metadata": {},
     "output_type": "execute_result"
    }
   ],
   "source": [
    "case_df[\"DATE\"][1]"
   ]
  },
  {
   "cell_type": "code",
   "execution_count": 180,
   "metadata": {},
   "outputs": [
    {
     "data": {
      "text/plain": [
       "0.00021889772"
      ]
     },
     "execution_count": 180,
     "metadata": {},
     "output_type": "execute_result"
    }
   ],
   "source": [
    "sal_time.max()"
   ]
  },
  {
   "cell_type": "code",
   "execution_count": 187,
   "metadata": {},
   "outputs": [
    {
     "name": "stdout",
     "output_type": "stream",
     "text": [
      "0\n",
      "-0.3303518 0.66964823\n",
      "1\n",
      "-0.44890586 0.5510941\n",
      "2\n",
      "-0.48131424 0.51868576\n",
      "3\n",
      "-0.28734082 0.7126591\n",
      "4\n",
      "-0.7475242 0.2524758\n",
      "5\n",
      "-0.64945185 0.35054812\n",
      "6\n",
      "-0.4609484 0.53905165\n",
      "7\n",
      "-0.47189614 0.5281039\n",
      "8\n",
      "-0.6775937 0.32240632\n",
      "9\n",
      "-0.4788009 0.5211991\n",
      "10\n",
      "-0.3550796 0.6449204\n",
      "11\n",
      "-0.5108569 0.48914313\n",
      "12\n",
      "-0.44257686 0.5574231\n",
      "13\n",
      "-0.37478325 0.6252167\n",
      "14\n",
      "-0.63715476 0.36284518\n",
      "15\n",
      "-0.7625457 0.23745434\n",
      "16\n",
      "-0.7984066 0.2015934\n",
      "17\n",
      "-0.6062345 0.3937655\n",
      "18\n",
      "-0.409958 0.590042\n",
      "19\n",
      "-0.43698466 0.56301534\n",
      "20\n",
      "-0.25095004 0.74904996\n",
      "21\n",
      "-0.47055018 0.5294498\n",
      "22\n",
      "-0.62802845 0.3719716\n",
      "23\n",
      "-0.54416704 0.455833\n",
      "24\n",
      "-0.6372054 0.36279464\n",
      "25\n",
      "-0.50018966 0.49981037\n",
      "26\n",
      "-0.6329978 0.36700222\n",
      "27\n",
      "-0.6327794 0.36722058\n",
      "28\n",
      "-0.7040209 0.29597905\n",
      "29\n",
      "-0.69466347 0.30533653\n",
      "30\n",
      "-0.52350354 0.47649646\n"
     ]
    }
   ],
   "source": [
    "for t in range(case_df.shape[0]):\n",
    "    print(t)\n",
    "    plt.figure(figsize=(13, 10))\n",
    "    plt.pcolormesh(case_run[t, ::-1, :, -2] * 2.23694, vmin=-80, vmax=80, cmap=\"RdBu_r\")\n",
    "    cb = plt.colorbar()\n",
    "    sal_time = gaussian_filter(sal_case[0, t, ::-1, :, -2], 2)\n",
    "    sal_time_scaled = sal_time / (sal_time.max() - sal_time.min())\n",
    "    print(sal_time_scaled.min(), sal_time_scaled.max())\n",
    "    cb.set_label(label=\"24-Hour Change in Wind Speed (mph)\",fontsize=16)\n",
    "    cont = plt.contour(sal_time_scaled, [-1, -0.5, -0.25, 0.25, 0.5, 1], vmin=-0.8, vmax=0.8, linewidths=3, cmap=\"PuOr\", extend=\"both\")\n",
    "    plt.axis('off')\n",
    "    valid_time = pd.Timestamp(case_df[\"DATE\"][t] + \"00\") + pd.Timedelta(hours=case_df[\"TIME\"][t])\n",
    "    plt.title(\"Deep Learning Vision of Hurricane Michael \" + valid_time.strftime(\"%Y-%m-%d %H:%M\"), fontsize=16)\n",
    "    plt.savefig(f\"saliency/michael_saliency_{t:02d}.png\", dpi=150, bbox_inches=\"tight\")\n",
    "    plt.close()"
   ]
  },
  {
   "cell_type": "code",
   "execution_count": 142,
   "metadata": {},
   "outputs": [
    {
     "data": {
      "text/plain": [
       "Index(['STNAM', 'STNUM', 'BASIN', 'DATE', 'TIME', 'RMW_dt_24', 'VMAX_dt_24',\n",
       "       'MIN_SLP_dt_24', 'SHR_MAG_dt_24', 'SST_dt_24', 'LAND_dt_24',\n",
       "       'TPW_dt_24', 'TANG850_dt_24', 'VORT850_dt_24', 'DVRG200_dt_24',\n",
       "       'STM_SPD_dt_24', 'RHLO_dt_24', 'RHMD_dt_24', 'RHHI_dt_24',\n",
       "       'INST1_dt_24', 'INST2_dt_24', 'vmax_bt_new_dt_24', 'vmax_nhc_dt_24',\n",
       "       'Neuron 0', 'Neuron 1', 'Neuron 2', 'Neuron 3', 'Neuron 4', 'Neuron 5',\n",
       "       'Neuron 6', 'Neuron 7', 'Neuron 8', 'Neuron 9', 'Neuron 10',\n",
       "       'Neuron 11', 'Neuron 12', 'Neuron 13', 'Neuron 14', 'Neuron 15',\n",
       "       'Neuron 16', 'Neuron 17', 'Neuron 18', 'Neuron 19', 'Neuron 20',\n",
       "       'Neuron 21', 'Neuron 22', 'Neuron 23', 'Neuron 24', 'Neuron 25',\n",
       "       'Neuron 26', 'Neuron 27', 'Neuron 28', 'Neuron 29', 'Neuron 30',\n",
       "       'Neuron 31', 'Neuron 32', 'Neuron 33', 'Neuron 34', 'Neuron 35',\n",
       "       'Neuron 36', 'Neuron 37', 'Neuron 38', 'Neuron 39', 'Neuron 40',\n",
       "       'Neuron 41', 'Neuron 42', 'Neuron 43', 'Neuron 44', 'Neuron 45',\n",
       "       'Neuron 46', 'Neuron 47', 'Neuron 48', 'Neuron 49', 'Neuron 50',\n",
       "       'Neuron 51', 'Neuron 52', 'Neuron 53', 'Neuron 54', 'Neuron 55',\n",
       "       'Neuron 56', 'Neuron 57', 'Neuron 58', 'Neuron 59', 'Neuron 60',\n",
       "       'Neuron 61', 'Neuron 62', 'Neuron 63'],\n",
       "      dtype='object')"
      ]
     },
     "execution_count": 142,
     "metadata": {},
     "output_type": "execute_result"
    }
   ],
   "source": [
    "combined_train.columns"
   ]
  },
  {
   "cell_type": "code",
   "execution_count": 170,
   "metadata": {},
   "outputs": [
    {
     "data": {
      "text/plain": [
       "array([452, 453, 454, 455, 456, 457, 458, 459, 474, 475, 476, 477, 478,\n",
       "       479, 480, 481, 482, 483, 484, 485, 486, 487, 488, 489, 490, 491,\n",
       "       492, 493, 494, 495, 496, 497, 498, 499, 500, 501, 502, 503, 504])"
      ]
     },
     "execution_count": 170,
     "metadata": {},
     "output_type": "execute_result"
    }
   ],
   "source": [
    "np.unique(np.array(combined_train[combined_train[\"STNAM\"] == \"harvey\"].index.values.tolist())[:, 0])"
   ]
  },
  {
   "cell_type": "code",
   "execution_count": 213,
   "metadata": {},
   "outputs": [
    {
     "data": {
      "text/plain": [
       "53"
      ]
     },
     "execution_count": 213,
     "metadata": {},
     "output_type": "execute_result"
    }
   ],
   "source": [
    "combined_train[\"STNAM\"].unique().size"
   ]
  },
  {
   "cell_type": "code",
   "execution_count": 214,
   "metadata": {},
   "outputs": [
    {
     "data": {
      "text/plain": [
       "18"
      ]
     },
     "execution_count": 214,
     "metadata": {},
     "output_type": "execute_result"
    }
   ],
   "source": [
    "combined_val[\"STNAM\"].unique().size"
   ]
  },
  {
   "cell_type": "code",
   "execution_count": null,
   "metadata": {},
   "outputs": [],
   "source": []
  }
 ],
 "metadata": {
  "kernelspec": {
   "display_name": "Python 3",
   "language": "python",
   "name": "python3"
  },
  "language_info": {
   "codemirror_mode": {
    "name": "ipython",
    "version": 3
   },
   "file_extension": ".py",
   "mimetype": "text/x-python",
   "name": "python",
   "nbconvert_exporter": "python",
   "pygments_lexer": "ipython3",
   "version": "3.7.3"
  }
 },
 "nbformat": 4,
 "nbformat_minor": 4
}