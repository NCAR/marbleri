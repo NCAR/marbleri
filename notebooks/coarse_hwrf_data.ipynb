{
 "cells": [
  {
   "cell_type": "code",
   "execution_count": 1,
   "metadata": {},
   "outputs": [
    {
     "name": "stderr",
     "output_type": "stream",
     "text": [
      "/glade/work/dgagne/ncar_pylib_dl_10/lib/python3.6/site-packages/distributed/config.py:20: YAMLLoadWarning: calling yaml.load() without Loader=... is deprecated, as the default Loader is unsafe. Please read https://msg.pyyaml.org/load for full details.\n",
      "  defaults = yaml.load(f)\n",
      "Using TensorFlow backend.\n"
     ]
    },
    {
     "name": "stdout",
     "output_type": "stream",
     "text": [
      "\n",
      "WARNING: The TensorFlow contrib module will not be included in TensorFlow 2.0.\n",
      "For more information, please see:\n",
      "  * https://github.com/tensorflow/community/blob/master/rfcs/20180907-contrib-sunset.md\n",
      "  * https://github.com/tensorflow/addons\n",
      "If you depend on functionality not listed there, please file an issue.\n",
      "\n"
     ]
    }
   ],
   "source": [
    "import os\n",
    "import xarray as xr\n",
    "import numpy as np\n",
    "import matplotlib.pyplot as plt\n",
    "from marbleri.models import BaseConvNet\n",
    "from marbleri.process import get_hwrf_filenames\n",
    "from marbleri.nwp import HWRFStep, BestTrackNetCDF\n",
    "from sklearn.metrics import mean_absolute_error\n",
    "from glob import glob\n",
    "from os.path import join, exists\n",
    "import pandas as pd\n",
    "from matplotlib.colors import LogNorm\n",
    "import tensorflow as tf\n",
    "import tensorflow.keras.backend as K\n",
    "from tensorflow.keras.models import save_model\n",
    "from marbleri.training import partition_storm_examples\n",
    "%matplotlib inline\n"
   ]
  },
  {
   "cell_type": "code",
   "execution_count": 2,
   "metadata": {},
   "outputs": [
    {
     "name": "stdout",
     "output_type": "stream",
     "text": [
      "1.13.1\n"
     ]
    }
   ],
   "source": [
    "print(tf.__version__)"
   ]
  },
  {
   "cell_type": "code",
   "execution_count": 3,
   "metadata": {},
   "outputs": [],
   "source": [
    "try:\n",
    "    gpus = tf.config.experimental.list_physical_devices('GPU')\n",
    "    for gpu in gpus:\n",
    "        tf.config.experimental.set_memory_growth(gpu, True)\n",
    "    print(tf.config.experimental.list_physical_devices())\n",
    "except AttributeError:\n",
    "    tf_config = tf.ConfigProto()\n",
    "    tf_config.gpu_options.allow_growth = True\n",
    "    K.set_session(tf.Session(config=tf_config))\n"
   ]
  },
  {
   "cell_type": "code",
   "execution_count": 4,
   "metadata": {},
   "outputs": [],
   "source": [
    "from tensorflow.python.client import device_lib\n",
    "\n",
    "def get_available_gpus():\n",
    "    local_device_protos = device_lib.list_local_devices()\n",
    "    return [x.name for x in local_device_protos if x.device_type == 'GPU']"
   ]
  },
  {
   "cell_type": "code",
   "execution_count": 5,
   "metadata": {},
   "outputs": [
    {
     "data": {
      "text/plain": [
       "['/device:GPU:0']"
      ]
     },
     "execution_count": 5,
     "metadata": {},
     "output_type": "execute_result"
    }
   ],
   "source": [
    "get_available_gpus()"
   ]
  },
  {
   "cell_type": "code",
   "execution_count": 6,
   "metadata": {},
   "outputs": [
    {
     "name": "stdout",
     "output_type": "stream",
     "text": [
      "original best track count 51969\n",
      "filtered best track count 48876\n"
     ]
    }
   ],
   "source": [
    "rank = 0\n",
    "np.random.seed(34343)\n",
    "best_track = pd.read_csv(\"/glade/scratch/dgagne/hfip/processed_data_dv_lossy/best_track_all.csv\", index_col=\"Index\")\n",
    "print(\"original best track count\", best_track.shape[0])\n",
    "out_col = \"dvmax_bt_12\"\n",
    "best_track = best_track.loc[np.abs(best_track[out_col]) < 1000, :].reset_index(drop=True)\n",
    "print(\"filtered best track count\", best_track.shape[0])\n",
    "train_rank_indices, val_rank_indices = partition_storm_examples(best_track, 1,\n",
    "                                                                0.2)"
   ]
  },
  {
   "cell_type": "code",
   "execution_count": 7,
   "metadata": {},
   "outputs": [],
   "source": [
    "hwrf_path = \"/glade/p/ral/nsap/rozoff/hfip/reforecast_rotated/\"\n",
    "hwrf_files = get_hwrf_filenames(best_track, hwrf_path)"
   ]
  },
  {
   "cell_type": "code",
   "execution_count": 4,
   "metadata": {},
   "outputs": [
    {
     "data": {
      "text/plain": [
       "['THETA_E_L100',\n",
       " 'THETA_E_L103',\n",
       " 'TCOLC_E_L103',\n",
       " 'U_RAD_L100',\n",
       " 'U_RAD_L103',\n",
       " 'V_TAN_L100',\n",
       " 'V_TAN_L103',\n",
       " 'SHR_HDG',\n",
       " 'CENLAT',\n",
       " 'CENLON',\n",
       " 'y_0',\n",
       " 'x_0',\n",
       " 'lat_0',\n",
       " 'lon_0',\n",
       " 'lv_ISBL0']"
      ]
     },
     "execution_count": 4,
     "metadata": {},
     "output_type": "execute_result"
    }
   ],
   "source": [
    "['THETA_E_L100',\n",
    " 'THETA_E_L103',\n",
    " 'TCOLC_E_L103',\n",
    " 'U_RAD_L100',\n",
    " 'U_RAD_L103',\n",
    " 'V_TAN_L100',\n",
    " 'V_TAN_L103',\n",
    " 'SHR_HDG',\n",
    " 'CENLAT',\n",
    " 'CENLON',\n",
    " 'y_0',\n",
    " 'x_0',\n",
    " 'lat_0',\n",
    " 'lon_0',\n",
    " 'lv_ISBL0']"
   ]
  },
  {
   "cell_type": "code",
   "execution_count": 8,
   "metadata": {},
   "outputs": [],
   "source": [
    "input_var_levels = []\n",
    "m_vars = [\"THETA_E_L100\", \"U_RAD_L100\", \"V_TAN_L100\"]\n",
    "s_vars = [\"TCOLC_E_L103\"]\n",
    "p_levs = [20000, 85000]\n",
    "for m_var in m_vars:\n",
    "    for p_lev in p_levs:\n",
    "        input_var_levels.append((m_var, p_lev))\n",
    "for s_var in s_vars:\n",
    "    input_var_levels.append((s_var, None))"
   ]
  },
  {
   "cell_type": "code",
   "execution_count": 8,
   "metadata": {},
   "outputs": [
    {
     "name": "stdout",
     "output_type": "stream",
     "text": [
      "/glade/p/ral/nsap/rozoff/hfip/reforecast_rotated/invest01l.2015050700.f015.nc\n",
      "/glade/p/ral/nsap/rozoff/hfip/reforecast_rotated/invest01l.2015050718.f063.nc\n",
      "/glade/p/ral/nsap/rozoff/hfip/reforecast_rotated/ana01l.2015050818.f015.nc\n",
      "/glade/p/ral/nsap/rozoff/hfip/reforecast_rotated/ana01l.2015051006.f024.nc\n",
      "/glade/p/ral/nsap/rozoff/hfip/reforecast_rotated/invest01l.2016011312.f048.nc\n",
      "/glade/p/ral/nsap/rozoff/hfip/reforecast_rotated/invest02l.2016052712.f030.nc\n",
      "/glade/p/ral/nsap/rozoff/hfip/reforecast_rotated/two02l.2016052818.f063.nc\n",
      "/glade/p/ral/nsap/rozoff/hfip/reforecast_rotated/bonnie02l.2016053006.f045.nc\n",
      "/glade/p/ral/nsap/rozoff/hfip/reforecast_rotated/bonnie02l.2016060212.f051.nc\n",
      "/glade/p/ral/nsap/rozoff/hfip/reforecast_rotated/bonnie02l.2016060312.f072.nc\n",
      "/glade/p/ral/nsap/rozoff/hfip/reforecast_rotated/invest03l.2015071312.f015.nc\n",
      "/glade/p/ral/nsap/rozoff/hfip/reforecast_rotated/invest03l.2017061812.f057.nc\n",
      "/glade/p/ral/nsap/rozoff/hfip/reforecast_rotated/three03l.2017062006.f054.nc\n",
      "/glade/p/ral/nsap/rozoff/hfip/reforecast_rotated/invest05l.2015082312.f060.nc\n",
      "/glade/p/ral/nsap/rozoff/hfip/reforecast_rotated/invest05l.2015082418.f054.nc\n",
      "/glade/p/ral/nsap/rozoff/hfip/reforecast_rotated/invest05l.2016080112.f045.nc\n",
      "/glade/p/ral/nsap/rozoff/hfip/reforecast_rotated/earl05l.2016080212.f009.nc\n",
      "/glade/p/ral/nsap/rozoff/hfip/reforecast_rotated/earl05l.2016080318.f012.nc\n",
      "/glade/p/ral/nsap/rozoff/hfip/reforecast_rotated/fred06l.2015083012.f033.nc\n",
      "/glade/p/ral/nsap/rozoff/hfip/reforecast_rotated/fred06l.2015083106.f003.nc\n",
      "/glade/p/ral/nsap/rozoff/hfip/reforecast_rotated/fred06l.2015083118.f090.nc\n",
      "/glade/p/ral/nsap/rozoff/hfip/reforecast_rotated/fred06l.2015090118.f060.nc\n",
      "/glade/p/ral/nsap/rozoff/hfip/reforecast_rotated/fred06l.2015090406.f018.nc\n",
      "/glade/p/ral/nsap/rozoff/hfip/reforecast_rotated/six06l.2016081712.f054.nc\n",
      "/glade/p/ral/nsap/rozoff/hfip/reforecast_rotated/grace07l.2015090706.f006.nc\n",
      "/glade/p/ral/nsap/rozoff/hfip/reforecast_rotated/seven07l.2016082300.f033.nc\n",
      "/glade/p/ral/nsap/rozoff/hfip/reforecast_rotated/gaston07l.2016082312.f105.nc\n",
      "/glade/p/ral/nsap/rozoff/hfip/reforecast_rotated/gaston07l.2016082406.f063.nc\n",
      "/glade/p/ral/nsap/rozoff/hfip/reforecast_rotated/gaston07l.2016082500.f033.nc\n",
      "/glade/p/ral/nsap/rozoff/hfip/reforecast_rotated/gaston07l.2016082518.f003.nc\n",
      "/glade/p/ral/nsap/rozoff/hfip/reforecast_rotated/gaston07l.2016082606.f075.nc\n",
      "/glade/p/ral/nsap/rozoff/hfip/reforecast_rotated/gaston07l.2016082700.f039.nc\n",
      "/glade/p/ral/nsap/rozoff/hfip/reforecast_rotated/gaston07l.2016082712.f111.nc\n",
      "/glade/p/ral/nsap/rozoff/hfip/reforecast_rotated/gaston07l.2016082806.f069.nc\n",
      "/glade/p/ral/nsap/rozoff/hfip/reforecast_rotated/gaston07l.2016082900.f027.nc\n",
      "/glade/p/ral/nsap/rozoff/hfip/reforecast_rotated/gaston07l.2016082918.f021.nc\n",
      "/glade/p/ral/nsap/rozoff/hfip/reforecast_rotated/gaston07l.2016083012.f069.nc\n",
      "/glade/p/ral/nsap/rozoff/hfip/reforecast_rotated/gaston07l.2016090100.f027.nc\n",
      "/glade/p/ral/nsap/rozoff/hfip/reforecast_rotated/franklin07l.2017080706.f015.nc\n",
      "/glade/p/ral/nsap/rozoff/hfip/reforecast_rotated/eight08l.2015090918.f003.nc\n",
      "/glade/p/ral/nsap/rozoff/hfip/reforecast_rotated/invest08l.2017081218.f078.nc\n",
      "/glade/p/ral/nsap/rozoff/hfip/reforecast_rotated/eight08l.2017081312.f075.nc\n",
      "/glade/p/ral/nsap/rozoff/hfip/reforecast_rotated/gert08l.2017081412.f012.nc\n",
      "/glade/p/ral/nsap/rozoff/hfip/reforecast_rotated/gert08l.2017081512.f036.nc\n",
      "/glade/p/ral/nsap/rozoff/hfip/reforecast_rotated/nine09l.2015091700.f015.nc\n",
      "/glade/p/ral/nsap/rozoff/hfip/reforecast_rotated/nine09l.2016082906.f060.nc\n",
      "/glade/p/ral/nsap/rozoff/hfip/reforecast_rotated/nine09l.2016083000.f036.nc\n",
      "/glade/p/ral/nsap/rozoff/hfip/reforecast_rotated/nine09l.2016083018.f039.nc\n",
      "/glade/p/ral/nsap/rozoff/hfip/reforecast_rotated/hermine09l.2016083118.f006.nc\n",
      "/glade/p/ral/nsap/rozoff/hfip/reforecast_rotated/hermine09l.2016090112.f084.nc\n",
      "/glade/p/ral/nsap/rozoff/hfip/reforecast_rotated/hermine09l.2016090212.f009.nc\n",
      "/glade/p/ral/nsap/rozoff/hfip/reforecast_rotated/hermine09l.2016090306.f099.nc\n",
      "/glade/p/ral/nsap/rozoff/hfip/reforecast_rotated/hermine09l.2016090412.f063.nc\n",
      "/glade/p/ral/nsap/rozoff/hfip/reforecast_rotated/invest09l.2017081706.f012.nc\n",
      "/glade/p/ral/nsap/rozoff/hfip/reforecast_rotated/nine09l.2017081718.f087.nc\n",
      "/glade/p/ral/nsap/rozoff/hfip/reforecast_rotated/harvey09l.2017081812.f051.nc\n",
      "/glade/p/ral/nsap/rozoff/hfip/reforecast_rotated/harvey09l.2017081906.f012.nc\n",
      "/glade/p/ral/nsap/rozoff/hfip/reforecast_rotated/harvey09l.2017081918.f087.nc\n",
      "/glade/p/ral/nsap/rozoff/hfip/reforecast_rotated/harvey09l.2017082018.f039.nc\n",
      "/glade/p/ral/nsap/rozoff/hfip/reforecast_rotated/harvey09l.2017082112.f012.nc\n",
      "/glade/p/ral/nsap/rozoff/hfip/reforecast_rotated/harvey09l.2017082200.f096.nc\n",
      "/glade/p/ral/nsap/rozoff/hfip/reforecast_rotated/harvey09l.2017082218.f090.nc\n",
      "/glade/p/ral/nsap/rozoff/hfip/reforecast_rotated/harvey09l.2017082312.f051.nc\n",
      "/glade/p/ral/nsap/rozoff/hfip/reforecast_rotated/harvey09l.2017082406.f045.nc\n",
      "/glade/p/ral/nsap/rozoff/hfip/reforecast_rotated/harvey09l.2017082500.f063.nc\n",
      "/glade/p/ral/nsap/rozoff/hfip/reforecast_rotated/harvey09l.2017082600.f099.nc\n",
      "/glade/p/ral/nsap/rozoff/hfip/reforecast_rotated/harvey09l.2017082806.f081.nc\n",
      "/glade/p/ral/nsap/rozoff/hfip/reforecast_rotated/harvey09l.2017082912.f054.nc\n",
      "/glade/p/ral/nsap/rozoff/hfip/reforecast_rotated/ian10l.2016091212.f036.nc\n",
      "/glade/p/ral/nsap/rozoff/hfip/reforecast_rotated/ian10l.2016091312.f054.nc\n",
      "/glade/p/ral/nsap/rozoff/hfip/reforecast_rotated/ten10l.2017082800.f015.nc\n",
      "/glade/p/ral/nsap/rozoff/hfip/reforecast_rotated/eleven11l.2015092806.f021.nc\n",
      "/glade/p/ral/nsap/rozoff/hfip/reforecast_rotated/eleven11l.2015092900.f024.nc\n",
      "/glade/p/ral/nsap/rozoff/hfip/reforecast_rotated/joaquin11l.2015092912.f096.nc\n",
      "/glade/p/ral/nsap/rozoff/hfip/reforecast_rotated/joaquin11l.2015093006.f054.nc\n",
      "/glade/p/ral/nsap/rozoff/hfip/reforecast_rotated/joaquin11l.2015100100.f012.nc\n",
      "/glade/p/ral/nsap/rozoff/hfip/reforecast_rotated/joaquin11l.2015100112.f084.nc\n",
      "/glade/p/ral/nsap/rozoff/hfip/reforecast_rotated/joaquin11l.2015100206.f042.nc\n",
      "/glade/p/ral/nsap/rozoff/hfip/reforecast_rotated/joaquin11l.2015100218.f114.nc\n",
      "/glade/p/ral/nsap/rozoff/hfip/reforecast_rotated/joaquin11l.2015100312.f081.nc\n",
      "/glade/p/ral/nsap/rozoff/hfip/reforecast_rotated/joaquin11l.2015100406.f045.nc\n",
      "/glade/p/ral/nsap/rozoff/hfip/reforecast_rotated/joaquin11l.2015100500.f075.nc\n",
      "/glade/p/ral/nsap/rozoff/hfip/reforecast_rotated/joaquin11l.2015100600.f036.nc\n",
      "/glade/p/ral/nsap/rozoff/hfip/reforecast_rotated/joaquin11l.2015100712.f111.nc\n",
      "/glade/p/ral/nsap/rozoff/hfip/reforecast_rotated/julia11l.2016091406.f060.nc\n",
      "/glade/p/ral/nsap/rozoff/hfip/reforecast_rotated/julia11l.2016091518.f087.nc\n",
      "/glade/p/ral/nsap/rozoff/hfip/reforecast_rotated/julia11l.2016091718.f024.nc\n",
      "/glade/p/ral/nsap/rozoff/hfip/reforecast_rotated/irma11l.2017083012.f096.nc\n",
      "/glade/p/ral/nsap/rozoff/hfip/reforecast_rotated/irma11l.2017083106.f054.nc\n",
      "/glade/p/ral/nsap/rozoff/hfip/reforecast_rotated/irma11l.2017090100.f012.nc\n",
      "/glade/p/ral/nsap/rozoff/hfip/reforecast_rotated/irma11l.2017090112.f084.nc\n",
      "/glade/p/ral/nsap/rozoff/hfip/reforecast_rotated/irma11l.2017090206.f042.nc\n",
      "/glade/p/ral/nsap/rozoff/hfip/reforecast_rotated/irma11l.2017090218.f114.nc\n",
      "/glade/p/ral/nsap/rozoff/hfip/reforecast_rotated/irma11l.2017090312.f072.nc\n",
      "/glade/p/ral/nsap/rozoff/hfip/reforecast_rotated/irma11l.2017090406.f030.nc\n",
      "/glade/p/ral/nsap/rozoff/hfip/reforecast_rotated/irma11l.2017090418.f102.nc\n",
      "/glade/p/ral/nsap/rozoff/hfip/reforecast_rotated/irma11l.2017090512.f060.nc\n",
      "/glade/p/ral/nsap/rozoff/hfip/reforecast_rotated/irma11l.2017090612.f018.nc\n",
      "/glade/p/ral/nsap/rozoff/hfip/reforecast_rotated/irma11l.2017090700.f093.nc\n",
      "/glade/p/ral/nsap/rozoff/hfip/reforecast_rotated/irma11l.2017090718.f054.nc\n",
      "/glade/p/ral/nsap/rozoff/hfip/reforecast_rotated/irma11l.2017090812.f021.nc\n",
      "/glade/p/ral/nsap/rozoff/hfip/reforecast_rotated/irma11l.2017090906.f051.nc\n",
      "/glade/p/ral/nsap/rozoff/hfip/reforecast_rotated/irma11l.2017091012.f021.nc\n",
      "/glade/p/ral/nsap/rozoff/hfip/reforecast_rotated/twelve12l.2015110900.f063.nc\n",
      "/glade/p/ral/nsap/rozoff/hfip/reforecast_rotated/kate12l.2015111006.f039.nc\n",
      "/glade/p/ral/nsap/rozoff/hfip/reforecast_rotated/twelve12l.2016091500.f057.nc\n",
      "/glade/p/ral/nsap/rozoff/hfip/reforecast_rotated/twelve12l.2016091600.f054.nc\n",
      "/glade/p/ral/nsap/rozoff/hfip/reforecast_rotated/karl12l.2016091618.f060.nc\n",
      "/glade/p/ral/nsap/rozoff/hfip/reforecast_rotated/karl12l.2016091712.f102.nc\n",
      "/glade/p/ral/nsap/rozoff/hfip/reforecast_rotated/karl12l.2016091806.f096.nc\n",
      "/glade/p/ral/nsap/rozoff/hfip/reforecast_rotated/karl12l.2016091900.f087.nc\n",
      "/glade/p/ral/nsap/rozoff/hfip/reforecast_rotated/karl12l.2016091918.f099.nc\n",
      "/glade/p/ral/nsap/rozoff/hfip/reforecast_rotated/karl12l.2016092012.f093.nc\n",
      "/glade/p/ral/nsap/rozoff/hfip/reforecast_rotated/karl12l.2016092112.f009.nc\n",
      "/glade/p/ral/nsap/rozoff/hfip/reforecast_rotated/karl12l.2016092212.f012.nc\n",
      "/glade/p/ral/nsap/rozoff/hfip/reforecast_rotated/karl12l.2016092412.f006.nc\n",
      "/glade/p/ral/nsap/rozoff/hfip/reforecast_rotated/jose12l.2017090512.f066.nc\n",
      "/glade/p/ral/nsap/rozoff/hfip/reforecast_rotated/jose12l.2017090606.f024.nc\n",
      "/glade/p/ral/nsap/rozoff/hfip/reforecast_rotated/jose12l.2017090618.f096.nc\n",
      "/glade/p/ral/nsap/rozoff/hfip/reforecast_rotated/jose12l.2017090712.f054.nc\n",
      "/glade/p/ral/nsap/rozoff/hfip/reforecast_rotated/jose12l.2017090806.f012.nc\n",
      "/glade/p/ral/nsap/rozoff/hfip/reforecast_rotated/jose12l.2017090818.f084.nc\n",
      "/glade/p/ral/nsap/rozoff/hfip/reforecast_rotated/jose12l.2017090912.f042.nc\n",
      "/glade/p/ral/nsap/rozoff/hfip/reforecast_rotated/jose12l.2017091000.f114.nc\n",
      "/glade/p/ral/nsap/rozoff/hfip/reforecast_rotated/jose12l.2017091018.f072.nc\n",
      "/glade/p/ral/nsap/rozoff/hfip/reforecast_rotated/jose12l.2017091112.f030.nc\n",
      "/glade/p/ral/nsap/rozoff/hfip/reforecast_rotated/jose12l.2017091200.f111.nc\n",
      "/glade/p/ral/nsap/rozoff/hfip/reforecast_rotated/jose12l.2017091218.f090.nc\n",
      "/glade/p/ral/nsap/rozoff/hfip/reforecast_rotated/jose12l.2017091312.f099.nc\n",
      "/glade/p/ral/nsap/rozoff/hfip/reforecast_rotated/jose12l.2017091406.f072.nc\n",
      "/glade/p/ral/nsap/rozoff/hfip/reforecast_rotated/jose12l.2017091500.f033.nc\n",
      "/glade/p/ral/nsap/rozoff/hfip/reforecast_rotated/jose12l.2017091512.f105.nc\n",
      "/glade/p/ral/nsap/rozoff/hfip/reforecast_rotated/jose12l.2017091606.f066.nc\n",
      "/glade/p/ral/nsap/rozoff/hfip/reforecast_rotated/jose12l.2017091700.f024.nc\n",
      "/glade/p/ral/nsap/rozoff/hfip/reforecast_rotated/jose12l.2017091712.f102.nc\n",
      "/glade/p/ral/nsap/rozoff/hfip/reforecast_rotated/jose12l.2017091806.f075.nc\n",
      "/glade/p/ral/nsap/rozoff/hfip/reforecast_rotated/jose12l.2017091900.f069.nc\n",
      "/glade/p/ral/nsap/rozoff/hfip/reforecast_rotated/jose12l.2017091918.f066.nc\n",
      "/glade/p/ral/nsap/rozoff/hfip/reforecast_rotated/jose12l.2017092018.f054.nc\n",
      "/glade/p/ral/nsap/rozoff/hfip/reforecast_rotated/invest13l.2016091912.f015.nc\n",
      "/glade/p/ral/nsap/rozoff/hfip/reforecast_rotated/thirteen13l.2016092006.f033.nc\n",
      "/glade/p/ral/nsap/rozoff/hfip/reforecast_rotated/lisa13l.2016092100.f051.nc\n",
      "/glade/p/ral/nsap/rozoff/hfip/reforecast_rotated/lisa13l.2016092200.f054.nc\n",
      "/glade/p/ral/nsap/rozoff/hfip/reforecast_rotated/invest13l.2017090512.f009.nc\n",
      "/glade/p/ral/nsap/rozoff/hfip/reforecast_rotated/invest14l.2016092712.f090.nc\n",
      "/glade/p/ral/nsap/rozoff/hfip/reforecast_rotated/invest14l.2016092806.f078.nc\n",
      "/glade/p/ral/nsap/rozoff/hfip/reforecast_rotated/fourteen14l.2017091500.f039.nc\n",
      "/glade/p/ral/nsap/rozoff/hfip/reforecast_rotated/fourteen14l.2017091518.f030.nc\n",
      "/glade/p/ral/nsap/rozoff/hfip/reforecast_rotated/fourteen14l.2017091612.f081.nc\n",
      "/glade/p/ral/nsap/rozoff/hfip/reforecast_rotated/lee14l.2017091800.f051.nc\n",
      "/glade/p/ral/nsap/rozoff/hfip/reforecast_rotated/lee14l.2017092006.f057.nc\n",
      "/glade/p/ral/nsap/rozoff/hfip/reforecast_rotated/lee14l.2017092112.f072.nc\n",
      "/glade/p/ral/nsap/rozoff/hfip/reforecast_rotated/lee14l.2017092300.f045.nc\n",
      "/glade/p/ral/nsap/rozoff/hfip/reforecast_rotated/lee14l.2017092318.f024.nc\n",
      "/glade/p/ral/nsap/rozoff/hfip/reforecast_rotated/lee14l.2017092412.f039.nc\n",
      "/glade/p/ral/nsap/rozoff/hfip/reforecast_rotated/lee14l.2017092506.f006.nc\n",
      "/glade/p/ral/nsap/rozoff/hfip/reforecast_rotated/lee14l.2017092600.f030.nc\n",
      "/glade/p/ral/nsap/rozoff/hfip/reforecast_rotated/lee14l.2017092700.f054.nc\n",
      "/glade/p/ral/nsap/rozoff/hfip/reforecast_rotated/invest15l.2016100406.f039.nc\n",
      "/glade/p/ral/nsap/rozoff/hfip/reforecast_rotated/invest15l.2017091612.f018.nc\n",
      "/glade/p/ral/nsap/rozoff/hfip/reforecast_rotated/invest16l.2016112018.f090.nc\n",
      "/glade/p/ral/nsap/rozoff/hfip/reforecast_rotated/sixteen16l.2016112112.f048.nc\n",
      "/glade/p/ral/nsap/rozoff/hfip/reforecast_rotated/otto16l.2016112212.f003.nc\n",
      "/glade/p/ral/nsap/rozoff/hfip/reforecast_rotated/otto16l.2016112318.f009.nc\n",
      "/glade/p/ral/nsap/rozoff/hfip/reforecast_rotated/sixteen16l.2017100418.f036.nc\n",
      "/glade/p/ral/nsap/rozoff/hfip/reforecast_rotated/seventeen17l.2017100906.f012.nc\n",
      "/glade/p/ral/nsap/rozoff/hfip/reforecast_rotated/ophelia17l.2017100918.f084.nc\n",
      "/glade/p/ral/nsap/rozoff/hfip/reforecast_rotated/ophelia17l.2017101012.f042.nc\n",
      "/glade/p/ral/nsap/rozoff/hfip/reforecast_rotated/ophelia17l.2017101100.f114.nc\n",
      "/glade/p/ral/nsap/rozoff/hfip/reforecast_rotated/ophelia17l.2017101118.f075.nc\n",
      "/glade/p/ral/nsap/rozoff/hfip/reforecast_rotated/ophelia17l.2017101212.f045.nc\n",
      "/glade/p/ral/nsap/rozoff/hfip/reforecast_rotated/ophelia17l.2017101306.f042.nc\n",
      "/glade/p/ral/nsap/rozoff/hfip/reforecast_rotated/ophelia17l.2017101406.f051.nc\n",
      "/glade/p/ral/nsap/rozoff/hfip/reforecast_rotated/invest19l.2017110600.f048.nc\n",
      "/glade/p/ral/nsap/rozoff/hfip/reforecast_rotated/two02e.2016070206.f021.nc\n",
      "/glade/p/ral/nsap/rozoff/hfip/reforecast_rotated/blas03e.2016070312.f012.nc\n",
      "/glade/p/ral/nsap/rozoff/hfip/reforecast_rotated/blas03e.2016070400.f084.nc\n",
      "/glade/p/ral/nsap/rozoff/hfip/reforecast_rotated/blas03e.2016070418.f042.nc\n",
      "/glade/p/ral/nsap/rozoff/hfip/reforecast_rotated/blas03e.2016070512.f009.nc\n",
      "/glade/p/ral/nsap/rozoff/hfip/reforecast_rotated/blas03e.2016070606.f012.nc\n",
      "/glade/p/ral/nsap/rozoff/hfip/reforecast_rotated/blas03e.2016070706.f012.nc\n",
      "/glade/p/ral/nsap/rozoff/hfip/reforecast_rotated/blas03e.2016070900.f006.nc\n",
      "/glade/p/ral/nsap/rozoff/hfip/reforecast_rotated/four04e.2015070900.f006.nc\n",
      "/glade/p/ral/nsap/rozoff/hfip/reforecast_rotated/celia04e.2016070900.f063.nc\n",
      "/glade/p/ral/nsap/rozoff/hfip/reforecast_rotated/celia04e.2016070918.f021.nc\n",
      "/glade/p/ral/nsap/rozoff/hfip/reforecast_rotated/celia04e.2016071006.f102.nc\n",
      "/glade/p/ral/nsap/rozoff/hfip/reforecast_rotated/celia04e.2016071100.f096.nc\n",
      "/glade/p/ral/nsap/rozoff/hfip/reforecast_rotated/celia04e.2016071118.f081.nc\n",
      "/glade/p/ral/nsap/rozoff/hfip/reforecast_rotated/celia04e.2016071218.f021.nc\n",
      "/glade/p/ral/nsap/rozoff/hfip/reforecast_rotated/celia04e.2016071412.f018.nc\n",
      "/glade/p/ral/nsap/rozoff/hfip/reforecast_rotated/celia04e.2016071612.f105.nc\n",
      "/glade/p/ral/nsap/rozoff/hfip/reforecast_rotated/celia04e.2016071906.f027.nc\n",
      "/glade/p/ral/nsap/rozoff/hfip/reforecast_rotated/dora04e.2017062518.f036.nc\n",
      "/glade/p/ral/nsap/rozoff/hfip/reforecast_rotated/dora04e.2017062712.f006.nc\n",
      "/glade/p/ral/nsap/rozoff/hfip/reforecast_rotated/five05e.2015071112.f069.nc\n",
      "/glade/p/ral/nsap/rozoff/hfip/reforecast_rotated/dolores05e.2015071206.f033.nc\n",
      "/glade/p/ral/nsap/rozoff/hfip/reforecast_rotated/dolores05e.2015071218.f108.nc\n",
      "/glade/p/ral/nsap/rozoff/hfip/reforecast_rotated/dolores05e.2015071312.f066.nc\n",
      "/glade/p/ral/nsap/rozoff/hfip/reforecast_rotated/dolores05e.2015071406.f027.nc\n",
      "/glade/p/ral/nsap/rozoff/hfip/reforecast_rotated/dolores05e.2015071418.f099.nc\n",
      "/glade/p/ral/nsap/rozoff/hfip/reforecast_rotated/dolores05e.2015071512.f057.nc\n",
      "/glade/p/ral/nsap/rozoff/hfip/reforecast_rotated/dolores05e.2015071606.f054.nc\n",
      "/glade/p/ral/nsap/rozoff/hfip/reforecast_rotated/dolores05e.2015071712.f030.nc\n",
      "/glade/p/ral/nsap/rozoff/hfip/reforecast_rotated/darby05e.2016071218.f030.nc\n",
      "/glade/p/ral/nsap/rozoff/hfip/reforecast_rotated/darby05e.2016071306.f102.nc\n",
      "/glade/p/ral/nsap/rozoff/hfip/reforecast_rotated/darby05e.2016071400.f060.nc\n",
      "/glade/p/ral/nsap/rozoff/hfip/reforecast_rotated/darby05e.2016071418.f018.nc\n",
      "/glade/p/ral/nsap/rozoff/hfip/reforecast_rotated/darby05e.2016071512.f015.nc\n",
      "/glade/p/ral/nsap/rozoff/hfip/reforecast_rotated/darby05e.2016071606.f048.nc\n",
      "/glade/p/ral/nsap/rozoff/hfip/reforecast_rotated/darby05e.2016071712.f018.nc\n",
      "/glade/p/ral/nsap/rozoff/hfip/reforecast_rotated/eugene05e.2017070718.f006.nc\n",
      "/glade/p/ral/nsap/rozoff/hfip/reforecast_rotated/eugene05e.2017070806.f081.nc\n",
      "/glade/p/ral/nsap/rozoff/hfip/reforecast_rotated/eugene05e.2017070900.f078.nc\n",
      "/glade/p/ral/nsap/rozoff/hfip/reforecast_rotated/eugene05e.2017071000.f051.nc\n",
      "/glade/p/ral/nsap/rozoff/hfip/reforecast_rotated/invest06e.2015071200.f024.nc\n",
      "/glade/p/ral/nsap/rozoff/hfip/reforecast_rotated/invest06e.2015071212.f111.nc\n",
      "/glade/p/ral/nsap/rozoff/hfip/reforecast_rotated/enrique06e.2015071318.f090.nc\n",
      "/glade/p/ral/nsap/rozoff/hfip/reforecast_rotated/enrique06e.2015071418.f030.nc\n",
      "/glade/p/ral/nsap/rozoff/hfip/reforecast_rotated/invest06e.2017071118.f102.nc\n",
      "/glade/p/ral/nsap/rozoff/hfip/reforecast_rotated/six06e.2017071212.f063.nc\n",
      "/glade/p/ral/nsap/rozoff/hfip/reforecast_rotated/fernanda06e.2017071306.f021.nc\n",
      "/glade/p/ral/nsap/rozoff/hfip/reforecast_rotated/fernanda06e.2017071318.f093.nc\n",
      "/glade/p/ral/nsap/rozoff/hfip/reforecast_rotated/fernanda06e.2017071412.f051.nc\n",
      "/glade/p/ral/nsap/rozoff/hfip/reforecast_rotated/fernanda06e.2017071506.f009.nc\n",
      "/glade/p/ral/nsap/rozoff/hfip/reforecast_rotated/fernanda06e.2017071518.f081.nc\n",
      "/glade/p/ral/nsap/rozoff/hfip/reforecast_rotated/fernanda06e.2017071618.f027.nc\n",
      "/glade/p/ral/nsap/rozoff/hfip/reforecast_rotated/fernanda06e.2017071800.f027.nc\n",
      "/glade/p/ral/nsap/rozoff/hfip/reforecast_rotated/felicia07e.2015072400.f009.nc\n",
      "/glade/p/ral/nsap/rozoff/hfip/reforecast_rotated/frank07e.2016072200.f033.nc\n",
      "/glade/p/ral/nsap/rozoff/hfip/reforecast_rotated/frank07e.2016072212.f108.nc\n",
      "/glade/p/ral/nsap/rozoff/hfip/reforecast_rotated/frank07e.2016072306.f066.nc\n",
      "/glade/p/ral/nsap/rozoff/hfip/reforecast_rotated/frank07e.2016072400.f027.nc\n",
      "/glade/p/ral/nsap/rozoff/hfip/reforecast_rotated/frank07e.2016072418.f006.nc\n",
      "/glade/p/ral/nsap/rozoff/hfip/reforecast_rotated/frank07e.2016072506.f111.nc\n",
      "/glade/p/ral/nsap/rozoff/hfip/reforecast_rotated/frank07e.2016072606.f039.nc\n",
      "/glade/p/ral/nsap/rozoff/hfip/reforecast_rotated/invest07e.2017071706.f087.nc\n",
      "/glade/p/ral/nsap/rozoff/hfip/reforecast_rotated/seven07e.2017071806.f012.nc\n",
      "/glade/p/ral/nsap/rozoff/hfip/reforecast_rotated/invest08e.2015072706.f027.nc\n",
      "/glade/p/ral/nsap/rozoff/hfip/reforecast_rotated/eight08e.2016072200.f090.nc\n",
      "/glade/p/ral/nsap/rozoff/hfip/reforecast_rotated/georgette08e.2016072218.f048.nc\n",
      "/glade/p/ral/nsap/rozoff/hfip/reforecast_rotated/georgette08e.2016072312.f021.nc\n",
      "/glade/p/ral/nsap/rozoff/hfip/reforecast_rotated/georgette08e.2016072406.f036.nc\n",
      "/glade/p/ral/nsap/rozoff/hfip/reforecast_rotated/georgette08e.2016072500.f066.nc\n",
      "/glade/p/ral/nsap/rozoff/hfip/reforecast_rotated/georgette08e.2016072606.f039.nc\n",
      "/glade/p/ral/nsap/rozoff/hfip/reforecast_rotated/invest09e.2015072918.f012.nc\n",
      "/glade/p/ral/nsap/rozoff/hfip/reforecast_rotated/guillermo09e.2015073006.f084.nc\n",
      "/glade/p/ral/nsap/rozoff/hfip/reforecast_rotated/guillermo09e.2015073100.f045.nc\n",
      "/glade/p/ral/nsap/rozoff/hfip/reforecast_rotated/guillermo09e.2015073118.f033.nc\n",
      "/glade/p/ral/nsap/rozoff/hfip/reforecast_rotated/guillermo09e.2015080118.f018.nc\n",
      "/glade/p/ral/nsap/rozoff/hfip/reforecast_rotated/guillermo09e.2015080212.f063.nc\n",
      "/glade/p/ral/nsap/rozoff/hfip/reforecast_rotated/guillermo09e.2015080312.f027.nc\n",
      "/glade/p/ral/nsap/rozoff/hfip/reforecast_rotated/guillermo09e.2015080506.f024.nc\n",
      "/glade/p/ral/nsap/rozoff/hfip/reforecast_rotated/nine09e.2016080100.f024.nc\n",
      "/glade/p/ral/nsap/rozoff/hfip/reforecast_rotated/nine09e.2017072118.f111.nc\n",
      "/glade/p/ral/nsap/rozoff/hfip/reforecast_rotated/nine09e.2017072212.f075.nc\n",
      "/glade/p/ral/nsap/rozoff/hfip/reforecast_rotated/hilary09e.2017072306.f042.nc\n",
      "/glade/p/ral/nsap/rozoff/hfip/reforecast_rotated/hilary09e.2017072318.f114.nc\n",
      "/glade/p/ral/nsap/rozoff/hfip/reforecast_rotated/hilary09e.2017072412.f072.nc\n",
      "/glade/p/ral/nsap/rozoff/hfip/reforecast_rotated/hilary09e.2017072506.f030.nc\n",
      "/glade/p/ral/nsap/rozoff/hfip/reforecast_rotated/hilary09e.2017072518.f102.nc\n",
      "/glade/p/ral/nsap/rozoff/hfip/reforecast_rotated/hilary09e.2017072612.f060.nc\n",
      "/glade/p/ral/nsap/rozoff/hfip/reforecast_rotated/hilary09e.2017072706.f036.nc\n",
      "/glade/p/ral/nsap/rozoff/hfip/reforecast_rotated/hilary09e.2017072806.f015.nc\n",
      "/glade/p/ral/nsap/rozoff/hfip/reforecast_rotated/invest10e.2015080518.f024.nc\n",
      "/glade/p/ral/nsap/rozoff/hfip/reforecast_rotated/ten10e.2015080606.f096.nc\n",
      "/glade/p/ral/nsap/rozoff/hfip/reforecast_rotated/hilda10e.2015080700.f054.nc\n",
      "/glade/p/ral/nsap/rozoff/hfip/reforecast_rotated/hilda10e.2015080718.f039.nc\n",
      "/glade/p/ral/nsap/rozoff/hfip/reforecast_rotated/hilda10e.2015080812.f096.nc\n",
      "/glade/p/ral/nsap/rozoff/hfip/reforecast_rotated/hilda10e.2015080912.f024.nc\n",
      "/glade/p/ral/nsap/rozoff/hfip/reforecast_rotated/hilda10e.2015081018.f003.nc\n",
      "/glade/p/ral/nsap/rozoff/hfip/reforecast_rotated/ten10e.2016080218.f111.nc\n",
      "/glade/p/ral/nsap/rozoff/hfip/reforecast_rotated/ivette10e.2016080312.f069.nc\n",
      "/glade/p/ral/nsap/rozoff/hfip/reforecast_rotated/ivette10e.2016080406.f036.nc\n",
      "/glade/p/ral/nsap/rozoff/hfip/reforecast_rotated/ivette10e.2016080500.f018.nc\n",
      "/glade/p/ral/nsap/rozoff/hfip/reforecast_rotated/ivette10e.2016080600.f021.nc\n",
      "/glade/p/ral/nsap/rozoff/hfip/reforecast_rotated/invest10e.2017072206.f012.nc\n",
      "/glade/p/ral/nsap/rozoff/hfip/reforecast_rotated/ten10e.2017072218.f084.nc\n",
      "/glade/p/ral/nsap/rozoff/hfip/reforecast_rotated/eleven11e.2015081600.f042.nc\n",
      "/glade/p/ral/nsap/rozoff/hfip/reforecast_rotated/eleven11e.2016080706.f042.nc\n",
      "/glade/p/ral/nsap/rozoff/hfip/reforecast_rotated/invest12e.2015082412.f030.nc\n",
      "/glade/p/ral/nsap/rozoff/hfip/reforecast_rotated/twelve12e.2015082506.f003.nc\n",
      "/glade/p/ral/nsap/rozoff/hfip/reforecast_rotated/ignacio12e.2015082518.f075.nc\n",
      "/glade/p/ral/nsap/rozoff/hfip/reforecast_rotated/ignacio12e.2015082612.f033.nc\n",
      "/glade/p/ral/nsap/rozoff/hfip/reforecast_rotated/ignacio12e.2015082700.f105.nc\n",
      "/glade/p/ral/nsap/rozoff/hfip/reforecast_rotated/ignacio12e.2015082718.f063.nc\n",
      "/glade/p/ral/nsap/rozoff/hfip/reforecast_rotated/ignacio12e.2015082812.f024.nc\n",
      "/glade/p/ral/nsap/rozoff/hfip/reforecast_rotated/ignacio12e.2015082900.f096.nc\n",
      "/glade/p/ral/nsap/rozoff/hfip/reforecast_rotated/ignacio12e.2015082918.f057.nc\n",
      "/glade/p/ral/nsap/rozoff/hfip/reforecast_rotated/ignacio12e.2015083012.f015.nc\n",
      "/glade/p/ral/nsap/rozoff/hfip/reforecast_rotated/ignacio12e.2015083100.f087.nc\n",
      "/glade/p/ral/nsap/rozoff/hfip/reforecast_rotated/ignacio12e.2015083118.f045.nc\n",
      "/glade/p/ral/nsap/rozoff/hfip/reforecast_rotated/ignacio12e.2015090112.f006.nc\n",
      "/glade/p/ral/nsap/rozoff/hfip/reforecast_rotated/ignacio12e.2015090200.f081.nc\n",
      "/glade/p/ral/nsap/rozoff/hfip/reforecast_rotated/ignacio12e.2015090218.f048.nc\n",
      "/glade/p/ral/nsap/rozoff/hfip/reforecast_rotated/ignacio12e.2015090312.f006.nc\n",
      "/glade/p/ral/nsap/rozoff/hfip/reforecast_rotated/ignacio12e.2015090406.f033.nc\n",
      "/glade/p/ral/nsap/rozoff/hfip/reforecast_rotated/invest13e.2015082612.f006.nc\n",
      "/glade/p/ral/nsap/rozoff/hfip/reforecast_rotated/jimena13e.2015082706.f078.nc\n",
      "/glade/p/ral/nsap/rozoff/hfip/reforecast_rotated/jimena13e.2015082800.f036.nc\n",
      "/glade/p/ral/nsap/rozoff/hfip/reforecast_rotated/jimena13e.2015082812.f108.nc\n",
      "/glade/p/ral/nsap/rozoff/hfip/reforecast_rotated/jimena13e.2015082906.f066.nc\n",
      "/glade/p/ral/nsap/rozoff/hfip/reforecast_rotated/jimena13e.2015083000.f024.nc\n",
      "/glade/p/ral/nsap/rozoff/hfip/reforecast_rotated/jimena13e.2015083012.f096.nc\n",
      "/glade/p/ral/nsap/rozoff/hfip/reforecast_rotated/jimena13e.2015083106.f054.nc\n",
      "/glade/p/ral/nsap/rozoff/hfip/reforecast_rotated/jimena13e.2015090100.f012.nc\n",
      "/glade/p/ral/nsap/rozoff/hfip/reforecast_rotated/jimena13e.2015090112.f084.nc\n",
      "/glade/p/ral/nsap/rozoff/hfip/reforecast_rotated/jimena13e.2015090206.f042.nc\n",
      "/glade/p/ral/nsap/rozoff/hfip/reforecast_rotated/jimena13e.2015090300.f024.nc\n",
      "/glade/p/ral/nsap/rozoff/hfip/reforecast_rotated/jimena13e.2015090318.f069.nc\n",
      "/glade/p/ral/nsap/rozoff/hfip/reforecast_rotated/jimena13e.2015090412.f084.nc\n",
      "/glade/p/ral/nsap/rozoff/hfip/reforecast_rotated/jimena13e.2015090806.f003.nc\n",
      "/glade/p/ral/nsap/rozoff/hfip/reforecast_rotated/thirteen13e.2016082500.f063.nc\n",
      "/glade/p/ral/nsap/rozoff/hfip/reforecast_rotated/lester13e.2016082518.f021.nc\n",
      "/glade/p/ral/nsap/rozoff/hfip/reforecast_rotated/lester13e.2016082606.f093.nc\n",
      "/glade/p/ral/nsap/rozoff/hfip/reforecast_rotated/lester13e.2016082700.f051.nc\n",
      "/glade/p/ral/nsap/rozoff/hfip/reforecast_rotated/lester13e.2016082718.f009.nc\n",
      "/glade/p/ral/nsap/rozoff/hfip/reforecast_rotated/lester13e.2016082806.f081.nc\n",
      "/glade/p/ral/nsap/rozoff/hfip/reforecast_rotated/lester13e.2016082900.f039.nc\n",
      "/glade/p/ral/nsap/rozoff/hfip/reforecast_rotated/lester13e.2016082912.f111.nc\n",
      "/glade/p/ral/nsap/rozoff/hfip/reforecast_rotated/lester13e.2016083006.f069.nc\n",
      "/glade/p/ral/nsap/rozoff/hfip/reforecast_rotated/lester13e.2016083100.f027.nc\n",
      "/glade/p/ral/nsap/rozoff/hfip/reforecast_rotated/lester13e.2016083112.f099.nc\n",
      "/glade/p/ral/nsap/rozoff/hfip/reforecast_rotated/lester13e.2016090106.f057.nc\n",
      "/glade/p/ral/nsap/rozoff/hfip/reforecast_rotated/lester13e.2016090206.f015.nc\n",
      "/glade/p/ral/nsap/rozoff/hfip/reforecast_rotated/lester13e.2016090300.f096.nc\n",
      "/glade/p/ral/nsap/rozoff/hfip/reforecast_rotated/lester13e.2016090400.f069.nc\n",
      "/glade/p/ral/nsap/rozoff/hfip/reforecast_rotated/lester13e.2016090600.f015.nc\n",
      "/glade/p/ral/nsap/rozoff/hfip/reforecast_rotated/thirteen13e.2017081812.f036.nc\n",
      "/glade/p/ral/nsap/rozoff/hfip/reforecast_rotated/kenneth13e.2017081900.f108.nc\n",
      "/glade/p/ral/nsap/rozoff/hfip/reforecast_rotated/kenneth13e.2017081918.f066.nc\n",
      "/glade/p/ral/nsap/rozoff/hfip/reforecast_rotated/kenneth13e.2017082012.f078.nc\n",
      "/glade/p/ral/nsap/rozoff/hfip/reforecast_rotated/kenneth13e.2017082112.f048.nc\n",
      "/glade/p/ral/nsap/rozoff/hfip/reforecast_rotated/kenneth13e.2017082212.f009.nc\n",
      "/glade/p/ral/nsap/rozoff/hfip/reforecast_rotated/kenneth13e.2017082306.f066.nc\n",
      "/glade/p/ral/nsap/rozoff/hfip/reforecast_rotated/kevin14e.2015090118.f045.nc\n",
      "/glade/p/ral/nsap/rozoff/hfip/reforecast_rotated/kevin14e.2015090318.f012.nc\n",
      "/glade/p/ral/nsap/rozoff/hfip/reforecast_rotated/fourteen14e.2017083012.f033.nc\n",
      "/glade/p/ral/nsap/rozoff/hfip/reforecast_rotated/fifteen15e.2015090606.f081.nc\n",
      "/glade/p/ral/nsap/rozoff/hfip/reforecast_rotated/linda15e.2015090700.f069.nc\n",
      "/glade/p/ral/nsap/rozoff/hfip/reforecast_rotated/linda15e.2015090800.f039.nc\n",
      "/glade/p/ral/nsap/rozoff/hfip/reforecast_rotated/invest15e.2016090306.f081.nc\n",
      "/glade/p/ral/nsap/rozoff/hfip/reforecast_rotated/newton15e.2016090506.f012.nc\n",
      "/glade/p/ral/nsap/rozoff/hfip/reforecast_rotated/fifteen15e.2017091118.f009.nc\n",
      "/glade/p/ral/nsap/rozoff/hfip/reforecast_rotated/fifteen15e.2017091212.f012.nc\n",
      "/glade/p/ral/nsap/rozoff/hfip/reforecast_rotated/fifteen15e.2017091300.f099.nc\n",
      "/glade/p/ral/nsap/rozoff/hfip/reforecast_rotated/fifteen15e.2017091318.f060.nc\n",
      "/glade/p/ral/nsap/rozoff/hfip/reforecast_rotated/fifteen15e.2017091412.f018.nc\n",
      "/glade/p/ral/nsap/rozoff/hfip/reforecast_rotated/fifteen15e.2017091500.f093.nc\n",
      "/glade/p/ral/nsap/rozoff/hfip/reforecast_rotated/fifteen15e.2017091518.f057.nc\n",
      "/glade/p/ral/nsap/rozoff/hfip/reforecast_rotated/fifteen15e.2017091612.f069.nc\n",
      "/glade/p/ral/nsap/rozoff/hfip/reforecast_rotated/invest16e.2016091018.f018.nc\n",
      "/glade/p/ral/nsap/rozoff/hfip/reforecast_rotated/orlene16e.2016091106.f090.nc\n",
      "/glade/p/ral/nsap/rozoff/hfip/reforecast_rotated/orlene16e.2016091200.f048.nc\n",
      "/glade/p/ral/nsap/rozoff/hfip/reforecast_rotated/orlene16e.2016091218.f042.nc\n",
      "/glade/p/ral/nsap/rozoff/hfip/reforecast_rotated/orlene16e.2016091318.f042.nc\n",
      "/glade/p/ral/nsap/rozoff/hfip/reforecast_rotated/invest16e.2017091218.f036.nc\n",
      "/glade/p/ral/nsap/rozoff/hfip/reforecast_rotated/marty17e.2015092706.f027.nc\n",
      "/glade/p/ral/nsap/rozoff/hfip/reforecast_rotated/seventeen17e.2016091800.f012.nc\n",
      "/glade/p/ral/nsap/rozoff/hfip/reforecast_rotated/invest17e.2017091318.f066.nc\n",
      "/glade/p/ral/nsap/rozoff/hfip/reforecast_rotated/norma17e.2017091412.f036.nc\n",
      "/glade/p/ral/nsap/rozoff/hfip/reforecast_rotated/norma17e.2017091506.f024.nc\n",
      "/glade/p/ral/nsap/rozoff/hfip/reforecast_rotated/norma17e.2017091600.f057.nc\n",
      "/glade/p/ral/nsap/rozoff/hfip/reforecast_rotated/invest18e.2015100906.f009.nc\n",
      "/glade/p/ral/nsap/rozoff/hfip/reforecast_rotated/eighteen18e.2015100918.f111.nc\n",
      "/glade/p/ral/nsap/rozoff/hfip/reforecast_rotated/nora18e.2015101018.f027.nc\n",
      "/glade/p/ral/nsap/rozoff/hfip/reforecast_rotated/nora18e.2015101118.f015.nc\n",
      "/glade/p/ral/nsap/rozoff/hfip/reforecast_rotated/nora18e.2015101312.f027.nc\n",
      "/glade/p/ral/nsap/rozoff/hfip/reforecast_rotated/invest18e.2016092506.f048.nc\n",
      "/glade/p/ral/nsap/rozoff/hfip/reforecast_rotated/nineteen19e.2015101500.f039.nc\n",
      "/glade/p/ral/nsap/rozoff/hfip/reforecast_rotated/nineteen19e.2015101512.f111.nc\n",
      "/glade/p/ral/nsap/rozoff/hfip/reforecast_rotated/nineteen19e.2015101606.f069.nc\n",
      "/glade/p/ral/nsap/rozoff/hfip/reforecast_rotated/nineteen19e.2015101700.f027.nc\n",
      "/glade/p/ral/nsap/rozoff/hfip/reforecast_rotated/olaf19e.2015101712.f099.nc\n",
      "/glade/p/ral/nsap/rozoff/hfip/reforecast_rotated/olaf19e.2015101806.f057.nc\n",
      "/glade/p/ral/nsap/rozoff/hfip/reforecast_rotated/olaf19e.2015101900.f015.nc\n",
      "/glade/p/ral/nsap/rozoff/hfip/reforecast_rotated/olaf19e.2015101912.f087.nc\n",
      "/glade/p/ral/nsap/rozoff/hfip/reforecast_rotated/olaf19e.2015102006.f045.nc\n",
      "/glade/p/ral/nsap/rozoff/hfip/reforecast_rotated/olaf19e.2015102100.f003.nc\n",
      "/glade/p/ral/nsap/rozoff/hfip/reforecast_rotated/olaf19e.2015102112.f075.nc\n",
      "/glade/p/ral/nsap/rozoff/hfip/reforecast_rotated/olaf19e.2015102206.f033.nc\n",
      "/glade/p/ral/nsap/rozoff/hfip/reforecast_rotated/olaf19e.2015102300.f003.nc\n",
      "/glade/p/ral/nsap/rozoff/hfip/reforecast_rotated/olaf19e.2015102312.f081.nc\n",
      "/glade/p/ral/nsap/rozoff/hfip/reforecast_rotated/olaf19e.2015102418.f021.nc\n",
      "/glade/p/ral/nsap/rozoff/hfip/reforecast_rotated/nineteen19e.2016092612.f030.nc\n",
      "/glade/p/ral/nsap/rozoff/hfip/reforecast_rotated/ulika19e.2016092706.f066.nc\n",
      "/glade/p/ral/nsap/rozoff/hfip/reforecast_rotated/ulika19e.2016092806.f048.nc\n",
      "/glade/p/ral/nsap/rozoff/hfip/reforecast_rotated/ulika19e.2016092912.f003.nc\n",
      "/glade/p/ral/nsap/rozoff/hfip/reforecast_rotated/invest20e.2015101900.f030.nc\n",
      "/glade/p/ral/nsap/rozoff/hfip/reforecast_rotated/invest20e.2015101918.f054.nc\n",
      "/glade/p/ral/nsap/rozoff/hfip/reforecast_rotated/twenty20e.2015102018.f033.nc\n",
      "/glade/p/ral/nsap/rozoff/hfip/reforecast_rotated/patricia20e.2015102206.f030.nc\n",
      "/glade/p/ral/nsap/rozoff/hfip/reforecast_rotated/seymour20e.2016102406.f042.nc\n",
      "/glade/p/ral/nsap/rozoff/hfip/reforecast_rotated/seymour20e.2016102512.f015.nc\n",
      "/glade/p/ral/nsap/rozoff/hfip/reforecast_rotated/invest21e.2015111812.f078.nc\n",
      "/glade/p/ral/nsap/rozoff/hfip/reforecast_rotated/rick21e.2015112018.f033.nc\n"
     ]
    }
   ],
   "source": [
    "train_files = hwrf_files[train_rank_indices[0]]\n",
    "data = []\n",
    "step_data = []\n",
    "available_hwrf_files = []\n",
    "for t, train_file in enumerate(train_files):\n",
    "    if t % 100 == 0:\n",
    "        print(train_file)\n",
    "    if exists(train_file):\n",
    "        available_hwrf_files.append(t)\n",
    "        step = HWRFStep(train_file)\n",
    "        for var in input_var_levels:\n",
    "            step_data.append(step.get_variable(var[0], level=var[1]).values)\n",
    "        step.close()\n",
    "        del step\n",
    "        data.append(np.stack(step_data, axis=-1))\n",
    "        del step_data[:]\n",
    "train_data = np.stack(data, axis=0)"
   ]
  },
  {
   "cell_type": "code",
   "execution_count": 20,
   "metadata": {},
   "outputs": [],
   "source": [
    "del data[:]"
   ]
  },
  {
   "cell_type": "code",
   "execution_count": 21,
   "metadata": {},
   "outputs": [
    {
     "name": "stdout",
     "output_type": "stream",
     "text": [
      "/glade/p/ral/nsap/rozoff/hfip/reforecast_rotated/alex01l.2016011400.f003.nc\n",
      "/glade/p/ral/nsap/rozoff/hfip/reforecast_rotated/erika05l.2015082506.f009.nc\n",
      "/glade/p/ral/nsap/rozoff/hfip/reforecast_rotated/fiona06l.2016081718.f015.nc\n",
      "/glade/p/ral/nsap/rozoff/hfip/reforecast_rotated/fiona06l.2016081818.f036.nc\n",
      "/glade/p/ral/nsap/rozoff/hfip/reforecast_rotated/fiona06l.2016081918.f012.nc\n",
      "/glade/p/ral/nsap/rozoff/hfip/reforecast_rotated/fiona06l.2016082100.f015.nc\n",
      "/glade/p/ral/nsap/rozoff/hfip/reforecast_rotated/seven07l.2015090518.f036.nc\n",
      "/glade/p/ral/nsap/rozoff/hfip/reforecast_rotated/invest10l.2016091118.f096.nc\n",
      "/glade/p/ral/nsap/rozoff/hfip/reforecast_rotated/invest12l.2016091406.f006.nc\n",
      "/glade/p/ral/nsap/rozoff/hfip/reforecast_rotated/katia13l.2017090618.f018.nc\n",
      "/glade/p/ral/nsap/rozoff/hfip/reforecast_rotated/matthew14l.2016092900.f036.nc\n",
      "/glade/p/ral/nsap/rozoff/hfip/reforecast_rotated/matthew14l.2016092912.f108.nc\n",
      "/glade/p/ral/nsap/rozoff/hfip/reforecast_rotated/matthew14l.2016093006.f066.nc\n",
      "/glade/p/ral/nsap/rozoff/hfip/reforecast_rotated/matthew14l.2016100100.f024.nc\n",
      "/glade/p/ral/nsap/rozoff/hfip/reforecast_rotated/matthew14l.2016100112.f096.nc\n",
      "/glade/p/ral/nsap/rozoff/hfip/reforecast_rotated/matthew14l.2016100206.f054.nc\n",
      "/glade/p/ral/nsap/rozoff/hfip/reforecast_rotated/matthew14l.2016100300.f012.nc\n",
      "/glade/p/ral/nsap/rozoff/hfip/reforecast_rotated/matthew14l.2016100312.f084.nc\n",
      "/glade/p/ral/nsap/rozoff/hfip/reforecast_rotated/matthew14l.2016100406.f042.nc\n",
      "/glade/p/ral/nsap/rozoff/hfip/reforecast_rotated/matthew14l.2016100500.f003.nc\n",
      "/glade/p/ral/nsap/rozoff/hfip/reforecast_rotated/matthew14l.2016100518.f027.nc\n",
      "/glade/p/ral/nsap/rozoff/hfip/reforecast_rotated/matthew14l.2016100618.f051.nc\n",
      "/glade/p/ral/nsap/rozoff/hfip/reforecast_rotated/nicole15l.2016100412.f090.nc\n",
      "/glade/p/ral/nsap/rozoff/hfip/reforecast_rotated/nicole15l.2016100506.f090.nc\n",
      "/glade/p/ral/nsap/rozoff/hfip/reforecast_rotated/nicole15l.2016100606.f009.nc\n",
      "/glade/p/ral/nsap/rozoff/hfip/reforecast_rotated/nicole15l.2016100700.f021.nc\n",
      "/glade/p/ral/nsap/rozoff/hfip/reforecast_rotated/nicole15l.2016100712.f108.nc\n",
      "/glade/p/ral/nsap/rozoff/hfip/reforecast_rotated/nicole15l.2016100806.f093.nc\n",
      "/glade/p/ral/nsap/rozoff/hfip/reforecast_rotated/nicole15l.2016100900.f051.nc\n",
      "/glade/p/ral/nsap/rozoff/hfip/reforecast_rotated/nicole15l.2016100918.f009.nc\n",
      "/glade/p/ral/nsap/rozoff/hfip/reforecast_rotated/nicole15l.2016101006.f081.nc\n",
      "/glade/p/ral/nsap/rozoff/hfip/reforecast_rotated/nicole15l.2016101100.f039.nc\n",
      "/glade/p/ral/nsap/rozoff/hfip/reforecast_rotated/nicole15l.2016101112.f111.nc\n",
      "/glade/p/ral/nsap/rozoff/hfip/reforecast_rotated/nicole15l.2016101206.f069.nc\n",
      "/glade/p/ral/nsap/rozoff/hfip/reforecast_rotated/nicole15l.2016101300.f036.nc\n",
      "/glade/p/ral/nsap/rozoff/hfip/reforecast_rotated/nicole15l.2016101318.f003.nc\n",
      "/glade/p/ral/nsap/rozoff/hfip/reforecast_rotated/nicole15l.2016101406.f093.nc\n",
      "/glade/p/ral/nsap/rozoff/hfip/reforecast_rotated/nicole15l.2016101506.f006.nc\n",
      "/glade/p/ral/nsap/rozoff/hfip/reforecast_rotated/nicole15l.2016101618.f012.nc\n",
      "/glade/p/ral/nsap/rozoff/hfip/reforecast_rotated/maria15l.2017091706.f033.nc\n",
      "/glade/p/ral/nsap/rozoff/hfip/reforecast_rotated/maria15l.2017091718.f108.nc\n",
      "/glade/p/ral/nsap/rozoff/hfip/reforecast_rotated/maria15l.2017091812.f066.nc\n",
      "/glade/p/ral/nsap/rozoff/hfip/reforecast_rotated/maria15l.2017091906.f024.nc\n",
      "/glade/p/ral/nsap/rozoff/hfip/reforecast_rotated/maria15l.2017091918.f105.nc\n",
      "/glade/p/ral/nsap/rozoff/hfip/reforecast_rotated/maria15l.2017092012.f063.nc\n",
      "/glade/p/ral/nsap/rozoff/hfip/reforecast_rotated/maria15l.2017092106.f027.nc\n",
      "/glade/p/ral/nsap/rozoff/hfip/reforecast_rotated/maria15l.2017092118.f102.nc\n",
      "/glade/p/ral/nsap/rozoff/hfip/reforecast_rotated/maria15l.2017092218.f003.nc\n",
      "/glade/p/ral/nsap/rozoff/hfip/reforecast_rotated/maria15l.2017092306.f084.nc\n",
      "/glade/p/ral/nsap/rozoff/hfip/reforecast_rotated/maria15l.2017092400.f084.nc\n",
      "/glade/p/ral/nsap/rozoff/hfip/reforecast_rotated/maria15l.2017092500.f045.nc\n",
      "/glade/p/ral/nsap/rozoff/hfip/reforecast_rotated/maria15l.2017092518.f009.nc\n",
      "/glade/p/ral/nsap/rozoff/hfip/reforecast_rotated/maria15l.2017092612.f009.nc\n",
      "/glade/p/ral/nsap/rozoff/hfip/reforecast_rotated/maria15l.2017092706.f045.nc\n",
      "/glade/p/ral/nsap/rozoff/hfip/reforecast_rotated/maria15l.2017092912.f009.nc\n",
      "/glade/p/ral/nsap/rozoff/hfip/reforecast_rotated/nate16l.2017100512.f090.nc\n",
      "/glade/p/ral/nsap/rozoff/hfip/reforecast_rotated/nate16l.2017100612.f054.nc\n",
      "/glade/p/ral/nsap/rozoff/hfip/reforecast_rotated/nate16l.2017100800.f006.nc\n",
      "/glade/p/ral/nsap/rozoff/hfip/reforecast_rotated/invest17l.2017100818.f012.nc\n",
      "/glade/p/ral/nsap/rozoff/hfip/reforecast_rotated/invest02e.2016070118.f027.nc\n",
      "/glade/p/ral/nsap/rozoff/hfip/reforecast_rotated/three03e.2016070306.f015.nc\n",
      "/glade/p/ral/nsap/rozoff/hfip/reforecast_rotated/four04e.2016070700.f069.nc\n",
      "/glade/p/ral/nsap/rozoff/hfip/reforecast_rotated/four04e.2016070718.f030.nc\n",
      "/glade/p/ral/nsap/rozoff/hfip/reforecast_rotated/four04e.2016070806.f102.nc\n",
      "/glade/p/ral/nsap/rozoff/hfip/reforecast_rotated/invest04e.2017062418.f069.nc\n",
      "/glade/p/ral/nsap/rozoff/hfip/reforecast_rotated/five05e.2016071212.f051.nc\n",
      "/glade/p/ral/nsap/rozoff/hfip/reforecast_rotated/greg07e.2017071818.f054.nc\n",
      "/glade/p/ral/nsap/rozoff/hfip/reforecast_rotated/greg07e.2017071912.f093.nc\n",
      "/glade/p/ral/nsap/rozoff/hfip/reforecast_rotated/greg07e.2017072006.f063.nc\n",
      "/glade/p/ral/nsap/rozoff/hfip/reforecast_rotated/greg07e.2017072100.f036.nc\n",
      "/glade/p/ral/nsap/rozoff/hfip/reforecast_rotated/greg07e.2017072112.f111.nc\n",
      "/glade/p/ral/nsap/rozoff/hfip/reforecast_rotated/greg07e.2017072212.f054.nc\n",
      "/glade/p/ral/nsap/rozoff/hfip/reforecast_rotated/greg07e.2017072406.f015.nc\n",
      "/glade/p/ral/nsap/rozoff/hfip/reforecast_rotated/eight08e.2015072900.f009.nc\n",
      "/glade/p/ral/nsap/rozoff/hfip/reforecast_rotated/howard09e.2016080106.f051.nc\n",
      "/glade/p/ral/nsap/rozoff/hfip/reforecast_rotated/howard09e.2016080200.f018.nc\n",
      "/glade/p/ral/nsap/rozoff/hfip/reforecast_rotated/howard09e.2016080218.f033.nc\n",
      "/glade/p/ral/nsap/rozoff/hfip/reforecast_rotated/invest09e.2017072106.f006.nc\n",
      "/glade/p/ral/nsap/rozoff/hfip/reforecast_rotated/irwin10e.2017072318.f078.nc\n",
      "/glade/p/ral/nsap/rozoff/hfip/reforecast_rotated/irwin10e.2017072412.f039.nc\n",
      "/glade/p/ral/nsap/rozoff/hfip/reforecast_rotated/irwin10e.2017072506.f036.nc\n",
      "/glade/p/ral/nsap/rozoff/hfip/reforecast_rotated/irwin10e.2017072600.f030.nc\n",
      "/glade/p/ral/nsap/rozoff/hfip/reforecast_rotated/irwin10e.2017072618.f042.nc\n",
      "/glade/p/ral/nsap/rozoff/hfip/reforecast_rotated/irwin10e.2017072712.f036.nc\n",
      "/glade/p/ral/nsap/rozoff/hfip/reforecast_rotated/irwin10e.2017072806.f012.nc\n",
      "/glade/p/ral/nsap/rozoff/hfip/reforecast_rotated/irwin10e.2017072900.f006.nc\n",
      "/glade/p/ral/nsap/rozoff/hfip/reforecast_rotated/irwin10e.2017073012.f006.nc\n",
      "/glade/p/ral/nsap/rozoff/hfip/reforecast_rotated/invest11e.2015081518.f024.nc\n",
      "/glade/p/ral/nsap/rozoff/hfip/reforecast_rotated/invest14e.2017082912.f042.nc\n",
      "/glade/p/ral/nsap/rozoff/hfip/reforecast_rotated/lidia14e.2017090200.f012.nc\n",
      "/glade/p/ral/nsap/rozoff/hfip/reforecast_rotated/roslyn18e.2016092618.f015.nc\n",
      "/glade/p/ral/nsap/rozoff/hfip/reforecast_rotated/twenty20e.2016102306.f066.nc\n",
      "/glade/p/ral/nsap/rozoff/hfip/reforecast_rotated/sandra22e.2015112412.f075.nc\n",
      "/glade/p/ral/nsap/rozoff/hfip/reforecast_rotated/sandra22e.2015112518.f015.nc\n"
     ]
    }
   ],
   "source": [
    "val_files = hwrf_files[val_rank_indices[0]]\n",
    "data = []\n",
    "step_data = []\n",
    "available_val_hwrf_files = []\n",
    "for v, val_file in enumerate(val_files):\n",
    "    if v % 100 == 0:\n",
    "        print(val_file)\n",
    "    if exists(val_file):\n",
    "        available_val_hwrf_files.append(v)\n",
    "        step = HWRFStep(val_file)\n",
    "        for var in input_var_levels:\n",
    "            step_data.append(step.get_variable(var[0], level=var[1]).values)\n",
    "        step.close()\n",
    "        data.append(np.stack(step_data, axis=-1))\n",
    "        del step_data[:]\n",
    "val_data = np.stack(data, axis=0)"
   ]
  },
  {
   "cell_type": "code",
   "execution_count": 11,
   "metadata": {},
   "outputs": [
    {
     "data": {
      "text/plain": [
       "(39491,)"
      ]
     },
     "execution_count": 11,
     "metadata": {},
     "output_type": "execute_result"
    }
   ],
   "source": [
    "train_rank_indices[0].shape"
   ]
  },
  {
   "cell_type": "code",
   "execution_count": 22,
   "metadata": {},
   "outputs": [
    {
     "data": {
      "text/plain": [
       "(9385,)"
      ]
     },
     "execution_count": 22,
     "metadata": {},
     "output_type": "execute_result"
    }
   ],
   "source": [
    "val_rank_indices[0].shape"
   ]
  },
  {
   "cell_type": "code",
   "execution_count": 15,
   "metadata": {},
   "outputs": [],
   "source": [
    "norm_train_data = np.zeros(train_data.shape, dtype=np.float32)\n",
    "train_scaling = np.zeros((train_data.shape[-1], 2), dtype=np.float32)\n",
    "for c in range(norm_train_data.shape[-1]):\n",
    "    train_scaling[c, 0] = np.nanmean(train_data[:, :, :, c])\n",
    "    train_scaling[c, 1] = np.nanstd(train_data[:, :, :, c])\n",
    "    norm_train_data[:, :, :, c] = (train_data[:, :, :, c] - train_scaling[c, 0]) / train_scaling[c, 1]\n",
    "norm_train_data[np.isnan(train_data)] = 0"
   ]
  },
  {
   "cell_type": "code",
   "execution_count": 24,
   "metadata": {},
   "outputs": [],
   "source": [
    "norm_val_data = np.zeros(val_data.shape, dtype=np.float32)\n",
    "for c in range(norm_val_data.shape[-1]):\n",
    "    norm_val_data[:, :, :, c] = (val_data[:, :, :, c] - train_scaling[c, 0]) / train_scaling[c, 1]\n",
    "norm_val_data[np.isnan(val_data)] = 0"
   ]
  },
  {
   "cell_type": "code",
   "execution_count": 25,
   "metadata": {},
   "outputs": [],
   "source": [
    "bt_train_indices = train_rank_indices[0][available_hwrf_files]\n",
    "bt_val_indices = val_rank_indices[0][available_val_hwrf_files]"
   ]
  },
  {
   "cell_type": "code",
   "execution_count": 64,
   "metadata": {},
   "outputs": [
    {
     "data": {
      "text/plain": [
       "array([  422,   423,   424, ..., 48873, 48874, 48875])"
      ]
     },
     "execution_count": 64,
     "metadata": {},
     "output_type": "execute_result"
    }
   ],
   "source": [
    "val_rank_indices[0]"
   ]
  },
  {
   "cell_type": "code",
   "execution_count": 4,
   "metadata": {},
   "outputs": [],
   "source": [
    "norm_train_data = np.random.normal(size=(train_rank_indices[0].size, 32, 32, 3)).astype(np.float32)"
   ]
  },
  {
   "cell_type": "code",
   "execution_count": 42,
   "metadata": {},
   "outputs": [
    {
     "name": "stdout",
     "output_type": "stream",
     "text": [
      "Conv input shape (125, 126, 7)\n",
      "5\n",
      "Model: \"model_2\"\n",
      "_________________________________________________________________\n",
      "Layer (type)                 Output Shape              Param #   \n",
      "=================================================================\n",
      "conv_input (InputLayer)      [(None, 125, 126, 7)]     0         \n",
      "_________________________________________________________________\n",
      "conv_00 (Conv2D)             (None, 125, 126, 16)      1024      \n",
      "_________________________________________________________________\n",
      "hidden_activation_00 (Activa (None, 125, 126, 16)      0         \n",
      "_________________________________________________________________\n",
      "pooling_00 (MaxPooling2D)    (None, 62, 63, 16)        0         \n",
      "_________________________________________________________________\n",
      "conv_01 (Conv2D)             (None, 62, 63, 24)        3480      \n",
      "_________________________________________________________________\n",
      "hidden_activation_01 (Activa (None, 62, 63, 24)        0         \n",
      "_________________________________________________________________\n",
      "pooling_01 (MaxPooling2D)    (None, 31, 31, 24)        0         \n",
      "_________________________________________________________________\n",
      "conv_02 (Conv2D)             (None, 31, 31, 36)        7812      \n",
      "_________________________________________________________________\n",
      "hidden_activation_02 (Activa (None, 31, 31, 36)        0         \n",
      "_________________________________________________________________\n",
      "pooling_02 (MaxPooling2D)    (None, 15, 15, 36)        0         \n",
      "_________________________________________________________________\n",
      "conv_03 (Conv2D)             (None, 15, 15, 54)        17550     \n",
      "_________________________________________________________________\n",
      "hidden_activation_03 (Activa (None, 15, 15, 54)        0         \n",
      "_________________________________________________________________\n",
      "pooling_03 (MaxPooling2D)    (None, 7, 7, 54)          0         \n",
      "_________________________________________________________________\n",
      "conv_04 (Conv2D)             (None, 7, 7, 81)          39447     \n",
      "_________________________________________________________________\n",
      "hidden_activation_04 (Activa (None, 7, 7, 81)          0         \n",
      "_________________________________________________________________\n",
      "pooling_04 (MaxPooling2D)    (None, 3, 3, 81)          0         \n",
      "_________________________________________________________________\n",
      "flatten (Flatten)            (None, 729)               0         \n",
      "_________________________________________________________________\n",
      "dense_output (Dense)         (None, 1)                 730       \n",
      "_________________________________________________________________\n",
      "activation_output (Activatio (None, 1)                 0         \n",
      "=================================================================\n",
      "Total params: 70,043\n",
      "Trainable params: 70,043\n",
      "Non-trainable params: 0\n",
      "_________________________________________________________________\n",
      "None\n",
      "Train on 39491 samples\n",
      "Epoch 1/10\n",
      "39491/39491 [==============================] - 174s 4ms/sample - loss: 7.2506\n",
      "Epoch 2/10\n",
      "39491/39491 [==============================] - 177s 4ms/sample - loss: 6.8209\n",
      "Epoch 3/10\n",
      "39491/39491 [==============================] - 177s 4ms/sample - loss: 6.5277\n",
      "Epoch 4/10\n",
      "39491/39491 [==============================] - 180s 5ms/sample - loss: 6.2826\n",
      "Epoch 5/10\n",
      "39491/39491 [==============================] - 179s 5ms/sample - loss: 6.0615\n",
      "Epoch 6/10\n",
      "39491/39491 [==============================] - 178s 4ms/sample - loss: 5.8849\n",
      "Epoch 7/10\n",
      "39491/39491 [==============================] - 181s 5ms/sample - loss: 5.7438\n",
      "Epoch 8/10\n",
      "39491/39491 [==============================] - 180s 5ms/sample - loss: 5.5565\n",
      "Epoch 9/10\n",
      "39491/39491 [==============================] - 179s 5ms/sample - loss: 5.4164\n",
      "Epoch 10/10\n",
      "39491/39491 [==============================] - 173s 4ms/sample - loss: 5.2670\n"
     ]
    }
   ],
   "source": [
    "bcn = BaseConvNet(min_filters=16, filter_growth_rate=1.5, filter_width=3, pooling=\"max\", data_format=\"channels_last\",\n",
    "             verbose=1, loss=\"mae\", batch_size=128, epochs=10)\n",
    "bcn.fit(norm_train_data, best_track[out_col].values[train_rank_indices[0]])"
   ]
  },
  {
   "cell_type": "code",
   "execution_count": 143,
   "metadata": {},
   "outputs": [],
   "source": [
    "save_model(bcn.model, \"hwrf_base_cnn.h5\", save_format=\"h5\")"
   ]
  },
  {
   "cell_type": "code",
   "execution_count": 44,
   "metadata": {},
   "outputs": [],
   "source": [
    "preds = bcn.model.predict(norm_val_data)"
   ]
  },
  {
   "cell_type": "code",
   "execution_count": 49,
   "metadata": {},
   "outputs": [
    {
     "data": {
      "text/plain": [
       "(9385, 1)"
      ]
     },
     "execution_count": 49,
     "metadata": {},
     "output_type": "execute_result"
    }
   ],
   "source": [
    "preds.shape"
   ]
  },
  {
   "cell_type": "code",
   "execution_count": 48,
   "metadata": {},
   "outputs": [
    {
     "data": {
      "text/plain": [
       "(9385,)"
      ]
     },
     "execution_count": 48,
     "metadata": {},
     "output_type": "execute_result"
    }
   ],
   "source": [
    "best_track[out_col].values[val_rank_indices[0]].shape"
   ]
  },
  {
   "cell_type": "code",
   "execution_count": 51,
   "metadata": {},
   "outputs": [
    {
     "data": {
      "text/plain": [
       "7.2747380398712025"
      ]
     },
     "execution_count": 51,
     "metadata": {},
     "output_type": "execute_result"
    }
   ],
   "source": [
    "mean_absolute_error(best_track[out_col].values[val_rank_indices[0]], preds)"
   ]
  },
  {
   "cell_type": "code",
   "execution_count": 88,
   "metadata": {},
   "outputs": [
    {
     "name": "stdout",
     "output_type": "stream",
     "text": [
      "3 339\n",
      "6 357\n",
      "9 346\n",
      "12 355\n",
      "15 345\n",
      "18 340\n",
      "21 327\n",
      "24 320\n",
      "27 308\n",
      "30 305\n",
      "33 291\n",
      "36 294\n",
      "39 268\n",
      "42 276\n",
      "45 269\n",
      "48 258\n",
      "51 253\n",
      "54 253\n",
      "57 242\n",
      "60 242\n",
      "63 227\n",
      "66 221\n",
      "69 221\n",
      "72 216\n",
      "75 205\n",
      "78 207\n",
      "81 197\n",
      "84 200\n",
      "87 191\n",
      "90 190\n",
      "93 179\n",
      "96 170\n",
      "99 165\n",
      "102 166\n",
      "105 161\n",
      "108 170\n",
      "111 157\n",
      "114 154\n"
     ]
    }
   ],
   "source": [
    "fhours = best_track.loc[val_rank_indices[0], \"TIME\"].values\n",
    "dvs = best_track[out_col].values[bt_val_indices]\n",
    "unique_fhours = np.unique(fhours)\n",
    "maes = np.zeros(unique_fhours.shape)\n",
    "for f, fh in enumerate(unique_fhours):\n",
    "    idxs = fhours == fh\n",
    "    print(fh, np.count_nonzero(idxs))\n",
    "    maes[f] = mean_absolute_error(dvs[idxs], preds.ravel()[idxs])"
   ]
  },
  {
   "cell_type": "code",
   "execution_count": 89,
   "metadata": {},
   "outputs": [
    {
     "data": {
      "text/plain": [
       "[<matplotlib.lines.Line2D at 0x2b960b3c4710>]"
      ]
     },
     "execution_count": 89,
     "metadata": {},
     "output_type": "execute_result"
    },
    {
     "data": {
      "image/png": "[encoded data removed]",
      "text/plain": [
       "<Figure size 432x288 with 1 Axes>"
      ]
     },
     "metadata": {
      "needs_background": "light"
     },
     "output_type": "display_data"
    }
   ],
   "source": [
    "plt.plot(unique_fhours, maes)"
   ]
  },
  {
   "cell_type": "code",
   "execution_count": 70,
   "metadata": {},
   "outputs": [
    {
     "data": {
      "text/plain": [
       "array([], dtype=int64)"
      ]
     },
     "execution_count": 70,
     "metadata": {},
     "output_type": "execute_result"
    }
   ],
   "source": [
    "np.intersect1d(bt_train_indices, bt_val_indices)"
   ]
  },
  {
   "cell_type": "code",
   "execution_count": 81,
   "metadata": {},
   "outputs": [
    {
     "ename": "IndexError",
     "evalue": "index 7 is out of bounds for axis 3 with size 7",
     "output_type": "error",
     "traceback": [
      "\u001b[0;31m---------------------------------------------------------------------------\u001b[0m",
      "\u001b[0;31mIndexError\u001b[0m                                Traceback (most recent call last)",
      "\u001b[0;32m<ipython-input-81-3863a9a7305c>\u001b[0m in \u001b[0;36m<module>\u001b[0;34m\u001b[0m\n\u001b[0;32m----> 1\u001b[0;31m \u001b[0mplt\u001b[0m\u001b[0;34m.\u001b[0m\u001b[0mpcolormesh\u001b[0m\u001b[0;34m(\u001b[0m\u001b[0mnorm_train_data\u001b[0m\u001b[0;34m[\u001b[0m\u001b[0;34m:\u001b[0m\u001b[0;34m,\u001b[0m \u001b[0;34m:\u001b[0m\u001b[0;34m,\u001b[0m \u001b[0;34m:\u001b[0m\u001b[0;34m,\u001b[0m \u001b[0;36m7\u001b[0m\u001b[0;34m]\u001b[0m\u001b[0;34m.\u001b[0m\u001b[0mmean\u001b[0m\u001b[0;34m(\u001b[0m\u001b[0maxis\u001b[0m\u001b[0;34m=\u001b[0m\u001b[0;36m0\u001b[0m\u001b[0;34m)\u001b[0m\u001b[0;34m)\u001b[0m\u001b[0;34m\u001b[0m\u001b[0;34m\u001b[0m\u001b[0m\n\u001b[0m",
      "\u001b[0;31mIndexError\u001b[0m: index 7 is out of bounds for axis 3 with size 7"
     ]
    }
   ],
   "source": [
    "plt.pcolormesh(norm_train_data[:, :, :, 7].mean(axis=0))"
   ]
  },
  {
   "cell_type": "code",
   "execution_count": 138,
   "metadata": {},
   "outputs": [
    {
     "data": {
      "text/plain": [
       "array([[1.        , 0.38679496],\n",
       "       [0.38679496, 1.        ]])"
      ]
     },
     "execution_count": 138,
     "metadata": {},
     "output_type": "execute_result"
    }
   ],
   "source": [
    "np.corrcoef(best_track[out_col].values[val_rank_indices[0]], preds.ravel())"
   ]
  },
  {
   "cell_type": "code",
   "execution_count": 140,
   "metadata": {},
   "outputs": [
    {
     "name": "stderr",
     "output_type": "stream",
     "text": [
      "/glade/u/home/dgagne/miniconda3/envs/tf2/lib/python3.7/site-packages/matplotlib/colors.py:1110: RuntimeWarning: invalid value encountered in less_equal\n",
      "  mask |= resdat <= 0\n"
     ]
    },
    {
     "data": {
      "image/png": "[encoded data removed]",
      "text/plain": [
       "<Figure size 576x576 with 2 Axes>"
      ]
     },
     "metadata": {
      "needs_background": "light"
     },
     "output_type": "display_data"
    }
   ],
   "source": [
    "mae = mean_absolute_error(best_track[out_col].values[val_rank_indices[0]], preds.ravel())\n",
    "me = np.mean(best_track[out_col].values[val_rank_indices[0]] - preds.ravel())\n",
    "plt.figure(figsize=(8, 8))\n",
    "plt.hist2d(preds.ravel(), dvs, bins=np.arange(-40, 45, 5), cmin=1, norm=LogNorm())\n",
    "diag = np.arange(-40, 45, 5)\n",
    "plt.plot(diag, diag, 'k--')\n",
    "plt.plot(np.zeros(diag.shape), diag, 'k--')\n",
    "plt.plot(diag, np.zeros(diag.shape), 'k--')\n",
    "plt.text(-39, 35, f\"MAE: {mae: 0.2f} kts\", fontsize=14)\n",
    "plt.text(-39, 32, f\"ME: {me: 0.2f} kts\", fontsize=14)\n",
    "plt.xlabel(\"Predicted 12-Hour Max Wind Speed Change\", fontsize=14)\n",
    "plt.ylabel(\"Observed 12-Hour Max Wind Speed Change\", fontsize=14)\n",
    "plt.colorbar(label=\"Frequency\")\n",
    "plt.title(\"HWRF Deep Learning Validation Errors\", fontsize=14)\n",
    "plt.savefig(\"hwrf_cnn_error_hist.png\", dpi=200, bbox_inches=\"tight\")"
   ]
  },
  {
   "cell_type": "code",
   "execution_count": 84,
   "metadata": {},
   "outputs": [
    {
     "data": {
      "text/plain": [
       "(array([  13.,   36.,   49.,   67.,  139.,  181.,  343.,  819., 2028.,\n",
       "         695., 2631.,  937.,  727.,  308.,  210.,  103.,   41.,   32.,\n",
       "          13.,   13.]),\n",
       " array([-45. , -40.5, -36. , -31.5, -27. , -22.5, -18. , -13.5,  -9. ,\n",
       "         -4.5,   0. ,   4.5,   9. ,  13.5,  18. ,  22.5,  27. ,  31.5,\n",
       "         36. ,  40.5,  45. ]),\n",
       " <a list of 20 Patch objects>)"
      ]
     },
     "execution_count": 84,
     "metadata": {},
     "output_type": "execute_result"
    },
    {
     "data": {
      "image/png": "[encoded data removed]",
      "text/plain": [
       "<Figure size 432x288 with 1 Axes>"
      ]
     },
     "metadata": {
      "needs_background": "light"
     },
     "output_type": "display_data"
    }
   ],
   "source": [
    "plt.hist(dvs, bins=20)"
   ]
  },
  {
   "cell_type": "code",
   "execution_count": 96,
   "metadata": {},
   "outputs": [],
   "source": [
    "from sklearn.metrics import confusion_matrix"
   ]
  },
  {
   "cell_type": "code",
   "execution_count": 99,
   "metadata": {},
   "outputs": [
    {
     "data": {
      "text/plain": [
       "array([[4634, 2049],\n",
       "       [ 996, 1706]])"
      ]
     },
     "execution_count": 99,
     "metadata": {},
     "output_type": "execute_result"
    }
   ],
   "source": []
  },
  {
   "cell_type": "code",
   "execution_count": 100,
   "metadata": {},
   "outputs": [],
   "source": [
    "class ContingencyTable(object):\n",
    "    \"\"\"\n",
    "    Initializes a binary contingency table and generates many skill scores.\n",
    "\n",
    "    Args:\n",
    "        a: true positives\n",
    "        b: false positives\n",
    "        c: false negatives\n",
    "        d: true negatives\n",
    "\n",
    "    Attributes:\n",
    "        table (numpy.ndarray): contingency table\n",
    "        N: total number of items in table\n",
    "\n",
    "    \"\"\"\n",
    "    def __init__(self, a, b, c, d):\n",
    "        self.table = np.array([[a, b], [c, d]], dtype=float)\n",
    "        self.N = self.table.sum()\n",
    "\n",
    "    def update(self, a, b, c, d):\n",
    "        \"\"\"\n",
    "        Update contingency table with new values without creating a new object.\n",
    "        \"\"\"\n",
    "        self.table.ravel()[:] = [a, b, c, d]\n",
    "        self.N = self.table.sum()\n",
    "\n",
    "    def __add__(self, other):\n",
    "        \"\"\"\n",
    "        Add two contingency tables together and return a combined one.\n",
    "\n",
    "        Args:\n",
    "            other: Another contingency table\n",
    "\n",
    "        Returns:\n",
    "            Sum of contingency tables\n",
    "        \"\"\"\n",
    "        sum_ct = ContingencyTable(*(self.table + other.table).tolist())\n",
    "        return sum_ct\n",
    "\n",
    "    def pod(self):\n",
    "        \"\"\"\n",
    "        Probability of Detection (POD) or Hit Rate.\n",
    "        Formula:  a/(a+c)\n",
    "        \"\"\"\n",
    "        return self.table[0, 0] / (self.table[0, 0] + self.table[1, 0])\n",
    "\n",
    "    def foh(self):\n",
    "        \"\"\"\n",
    "        Frequency of Hits (FOH) or Success Ratio.\n",
    "        Formula:  a/(a+b)\n",
    "        \"\"\"\n",
    "        return self.table[0, 0] / (self.table[0, 0] + self.table[0, 1])\n",
    "\n",
    "    def far(self):\n",
    "        \"\"\"\n",
    "        False Alarm Ratio (FAR).\n",
    "        Formula:  b/(a+b)\n",
    "        \"\"\"\n",
    "        return self.table[0, 1] / (self.table[0, 0] + self.table[0, 1])\n",
    "\n",
    "    def pofd(self):\n",
    "        \"\"\"\n",
    "        Probability of False Detection (POFD).\n",
    "        b/(b+d)\n",
    "        \"\"\"\n",
    "        return self.table[0, 1] / (self.table[0, 1] + self.table[1, 1])\n",
    "\n",
    "    def fom(self):\n",
    "        \"\"\"\n",
    "        Frequency of Misses (FOM).\n",
    "        Formula:  c/(a+c).\"\"\"\n",
    "        return self.table[1, 0] / (self.table[0, 0] + self.table[1, 0])\n",
    "\n",
    "    def dfr(self):\n",
    "        \"\"\"Returns Detection Failure Ratio (DFR).\n",
    "           Formula:  c/(c+d)\"\"\"\n",
    "        return self.table[1, 0] / (self.table[1, 0] + self.table[1, 1])\n",
    "\n",
    "    def pon(self):\n",
    "        \"\"\"Returns Probability of Null (PON).\n",
    "           Formula:  d/(b+d)\"\"\"\n",
    "        return self.table[1, 1] / (self.table[0, 1] + self.table[1, 1])\n",
    "\n",
    "    def focn(self):\n",
    "        \"\"\"Returns Frequency of Correct Null (FOCN).\n",
    "           Formula:  d/(c+d)\"\"\"\n",
    "        return self.table[1, 1] / (self.table[1, 0] + self.table[1, 1])\n",
    "\n",
    "    def bias(self):\n",
    "        \"\"\"\n",
    "        Frequency Bias.\n",
    "        Formula:  (a+b)/(a+c)\"\"\"\n",
    "        return (self.table[0, 0] + self.table[0, 1]) / (self.table[0, 0] + self.table[1, 0])\n",
    "\n",
    "    def accuracy(self):\n",
    "        \"\"\"Finley's measure, fraction correct, accuracy (a+d)/N\"\"\"\n",
    "        return (self.table[0, 0] + self.table[1, 1]) / self.N\n",
    "\n",
    "    def csi(self):\n",
    "        \"\"\"Gilbert's Score or Threat Score or Critical Success Index a/(a+b+c)\"\"\"\n",
    "        return self.table[0, 0] / (self.table[0, 0] + self.table[0, 1] + self.table[1, 0])\n",
    "\n",
    "    def ets(self):\n",
    "        \"\"\"Equitable Threat Score, Gilbert Skill Score, v, (a - R)/(a + b + c - R), R=(a+b)(a+c)/N\"\"\"\n",
    "        r = (self.table[0, 0] + self.table[0, 1]) * (self.table[0, 0] + self.table[1, 0]) / self.N\n",
    "        return (self.table[0, 0] - r) / (self.table[0, 0] + self.table[0, 1] + self.table[1, 0] - r)\n",
    "\n",
    "    def hss(self):\n",
    "        \"\"\"Doolittle (Heidke) Skill Score.  2(ad-bc)/((a+b)(b+d) + (a+c)(c+d))\"\"\"\n",
    "        return 2 * (self.table[0, 0] * self.table[1, 1] - self.table[0, 1] * self.table[1, 0]) / (\n",
    "            (self.table[0, 0] + self.table[0, 1]) * (self.table[0, 1] + self.table[1, 1]) +\n",
    "            (self.table[0, 0] + self.table[1, 0]) * (self.table[1, 0] + self.table[1, 1]))\n",
    "\n",
    "    def pss(self):\n",
    "        \"\"\"Peirce (Hansen-Kuipers, True) Skill Score (ad - bc)/((a+c)(b+d))\"\"\"\n",
    "        return (self.table[0, 0] * self.table[1, 1] - self.table[0, 1] * self.table[1, 0]) / \\\n",
    "               ((self.table[0, 0] + self.table[1, 0]) * (self.table[0, 1] + self.table[1, 1]))\n",
    "\n",
    "    def css(self):\n",
    "        \"\"\"Clayton Skill Score (ad - bc)/((a+b)(c+d))\"\"\"\n",
    "        return (self.table[0, 0] * self.table[1, 1] - self.table[0, 1] * self.table[1, 0]) / \\\n",
    "               ((self.table[0, 0] + self.table[0, 1]) * (self.table[1, 0] + self.table[1, 1]))\n",
    "\n",
    "    def __str__(self):\n",
    "        table_string = '\\tEvent\\n\\tYes\\tNo\\nYes\\t%d\\t%d\\nNo\\t%d\\t%d\\n' % (\n",
    "            self.table[0, 0], self.table[0, 1], self.table[1, 0], self.table[1, 1])\n",
    "        return table_string\n"
   ]
  },
  {
   "cell_type": "code",
   "execution_count": 102,
   "metadata": {},
   "outputs": [],
   "source": [
    "cm = confusion_matrix(np.where(dvs > 0, 1, 0), np.where(preds.ravel() > 0, 1, 0))\n",
    "ct = ContingencyTable(*cm.T.ravel().tolist())"
   ]
  },
  {
   "cell_type": "code",
   "execution_count": 106,
   "metadata": {},
   "outputs": [],
   "source": [
    "dv_bin = np.where(dvs > 0, 1, 0) \n",
    "preds_bin = np.where(preds.ravel() > 0, 1, 0)\n",
    "tp = np.count_nonzero((preds_bin == 1) & (dv_bin == 1))\n",
    "fp = np.count_nonzero((preds_bin == 1) & (dv_bin == 0))\n",
    "fn = np.count_nonzero((preds_bin == 0) & (dv_bin == 1))\n",
    "tn = np.count_nonzero((preds_bin == 0) & (dv_bin == 0))"
   ]
  },
  {
   "cell_type": "code",
   "execution_count": 107,
   "metadata": {},
   "outputs": [],
   "source": [
    "ct2 = ContingencyTable(tp, fp, fn, tn)"
   ]
  },
  {
   "cell_type": "code",
   "execution_count": 109,
   "metadata": {},
   "outputs": [
    {
     "name": "stdout",
     "output_type": "stream",
     "text": [
      "\tEvent\n",
      "\tYes\tNo\n",
      "Yes\t1706\t2049\n",
      "No\t996\t4634\n",
      "\n"
     ]
    }
   ],
   "source": [
    "print(ct2)"
   ]
  },
  {
   "cell_type": "code",
   "execution_count": 116,
   "metadata": {},
   "outputs": [
    {
     "data": {
      "text/plain": [
       "0.30659883285949424"
      ]
     },
     "execution_count": 116,
     "metadata": {},
     "output_type": "execute_result"
    }
   ],
   "source": [
    "ct2.pofd()"
   ]
  },
  {
   "cell_type": "code",
   "execution_count": null,
   "metadata": {},
   "outputs": [],
   "source": []
  }
 ],
 "metadata": {
  "kernelspec": {
   "display_name": "Python 3",
   "language": "python",
   "name": "python3"
  },
  "language_info": {
   "codemirror_mode": {
    "name": "ipython",
    "version": 3
   },
   "file_extension": ".py",
   "mimetype": "text/x-python",
   "name": "python",
   "nbconvert_exporter": "python",
   "pygments_lexer": "ipython3",
   "version": "3.6.8"
  }
 },
 "nbformat": 4,
 "nbformat_minor": 4
}
